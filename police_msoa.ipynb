{
 "cells": [
  {
   "cell_type": "code",
   "execution_count": 1,
   "id": "96ed4eae-04ee-411c-9a0e-af64000f5742",
   "metadata": {},
   "outputs": [],
   "source": [
    "import pandas as pd"
   ]
  },
  {
   "cell_type": "code",
   "execution_count": 2,
   "id": "21eb7cd7-7b93-46d9-9c02-142bf23d3a65",
   "metadata": {},
   "outputs": [],
   "source": [
    "import geopandas"
   ]
  },
  {
   "cell_type": "code",
   "execution_count": 3,
   "id": "03ebdba2-69f0-4cc0-9c33-b79df62895af",
   "metadata": {},
   "outputs": [],
   "source": [
    "import glob"
   ]
  },
  {
   "cell_type": "code",
   "execution_count": 4,
   "id": "237cac36-9819-4694-b0b4-0b60fefec980",
   "metadata": {},
   "outputs": [],
   "source": [
    "from geopandas import points_from_xy"
   ]
  },
  {
   "cell_type": "code",
   "execution_count": 5,
   "id": "4ae9ce25-a73e-47a4-98b3-14e08a7ef261",
   "metadata": {},
   "outputs": [],
   "source": [
    "import seaborn as sns"
   ]
  },
  {
   "cell_type": "code",
   "execution_count": 6,
   "id": "69c52986-5426-44b4-8395-ed89ed3f431c",
   "metadata": {},
   "outputs": [],
   "source": [
    "import matplotlib as mpl\n",
    "import matplotlib.pyplot as plt"
   ]
  },
  {
   "cell_type": "code",
   "execution_count": 7,
   "id": "ec2e9400-012f-4e70-9a7f-2f127fb9948d",
   "metadata": {},
   "outputs": [],
   "source": [
    "import numpy as np"
   ]
  },
  {
   "cell_type": "markdown",
   "id": "2a735206-d51d-48aa-8f76-db7fb93828e9",
   "metadata": {},
   "source": [
    "## Loading PoliceData2021 files"
   ]
  },
  {
   "cell_type": "code",
   "execution_count": 8,
   "id": "dfe932db-8400-490f-b675-5719d427e3f1",
   "metadata": {},
   "outputs": [],
   "source": [
    "data_files = glob.glob('PoliceData2021/*.csv')"
   ]
  },
  {
   "cell_type": "code",
   "execution_count": 9,
   "id": "828b49ad-c745-4f3e-93ba-e745f6851d82",
   "metadata": {},
   "outputs": [],
   "source": [
    "dc1 = pd.concat(\n",
    "        (pd.read_csv(filename) for filename in data_files),\n",
    "        ignore_index= True)"
   ]
  },
  {
   "cell_type": "code",
   "execution_count": 10,
   "id": "4d538aa1-0ae2-4cd4-9f20-0b42153cbdfc",
   "metadata": {},
   "outputs": [
    {
     "data": {
      "text/html": [
       "<div>\n",
       "<style scoped>\n",
       "    .dataframe tbody tr th:only-of-type {\n",
       "        vertical-align: middle;\n",
       "    }\n",
       "\n",
       "    .dataframe tbody tr th {\n",
       "        vertical-align: top;\n",
       "    }\n",
       "\n",
       "    .dataframe thead th {\n",
       "        text-align: right;\n",
       "    }\n",
       "</style>\n",
       "<table border=\"1\" class=\"dataframe\">\n",
       "  <thead>\n",
       "    <tr style=\"text-align: right;\">\n",
       "      <th></th>\n",
       "      <th>Crime ID</th>\n",
       "      <th>Month</th>\n",
       "      <th>Reported by</th>\n",
       "      <th>Falls within</th>\n",
       "      <th>Longitude</th>\n",
       "      <th>Latitude</th>\n",
       "      <th>Location</th>\n",
       "      <th>LSOA code</th>\n",
       "      <th>LSOA name</th>\n",
       "      <th>Crime type</th>\n",
       "      <th>Last outcome category</th>\n",
       "      <th>Context</th>\n",
       "    </tr>\n",
       "  </thead>\n",
       "  <tbody>\n",
       "    <tr>\n",
       "      <th>0</th>\n",
       "      <td>NaN</td>\n",
       "      <td>2021-01</td>\n",
       "      <td>City of London Police</td>\n",
       "      <td>City of London Police</td>\n",
       "      <td>-0.098572</td>\n",
       "      <td>51.516767</td>\n",
       "      <td>On or near King Edward Street</td>\n",
       "      <td>E01000001</td>\n",
       "      <td>City of London 001A</td>\n",
       "      <td>Anti-social behaviour</td>\n",
       "      <td>NaN</td>\n",
       "      <td>NaN</td>\n",
       "    </tr>\n",
       "    <tr>\n",
       "      <th>1</th>\n",
       "      <td>NaN</td>\n",
       "      <td>2021-01</td>\n",
       "      <td>City of London Police</td>\n",
       "      <td>City of London Police</td>\n",
       "      <td>-0.097601</td>\n",
       "      <td>51.520699</td>\n",
       "      <td>On or near Carthusian Street</td>\n",
       "      <td>E01000001</td>\n",
       "      <td>City of London 001A</td>\n",
       "      <td>Anti-social behaviour</td>\n",
       "      <td>NaN</td>\n",
       "      <td>NaN</td>\n",
       "    </tr>\n",
       "    <tr>\n",
       "      <th>2</th>\n",
       "      <td>19f06058a3b0aa0e79eabc017b48862f2a6a06645b2f5c...</td>\n",
       "      <td>2021-01</td>\n",
       "      <td>City of London Police</td>\n",
       "      <td>City of London Police</td>\n",
       "      <td>-0.098572</td>\n",
       "      <td>51.516767</td>\n",
       "      <td>On or near King Edward Street</td>\n",
       "      <td>E01000001</td>\n",
       "      <td>City of London 001A</td>\n",
       "      <td>Other theft</td>\n",
       "      <td>Investigation complete; no suspect identified</td>\n",
       "      <td>NaN</td>\n",
       "    </tr>\n",
       "  </tbody>\n",
       "</table>\n",
       "</div>"
      ],
      "text/plain": [
       "                                            Crime ID    Month  \\\n",
       "0                                                NaN  2021-01   \n",
       "1                                                NaN  2021-01   \n",
       "2  19f06058a3b0aa0e79eabc017b48862f2a6a06645b2f5c...  2021-01   \n",
       "\n",
       "             Reported by           Falls within  Longitude   Latitude  \\\n",
       "0  City of London Police  City of London Police  -0.098572  51.516767   \n",
       "1  City of London Police  City of London Police  -0.097601  51.520699   \n",
       "2  City of London Police  City of London Police  -0.098572  51.516767   \n",
       "\n",
       "                        Location  LSOA code            LSOA name  \\\n",
       "0  On or near King Edward Street  E01000001  City of London 001A   \n",
       "1   On or near Carthusian Street  E01000001  City of London 001A   \n",
       "2  On or near King Edward Street  E01000001  City of London 001A   \n",
       "\n",
       "              Crime type                          Last outcome category  \\\n",
       "0  Anti-social behaviour                                            NaN   \n",
       "1  Anti-social behaviour                                            NaN   \n",
       "2            Other theft  Investigation complete; no suspect identified   \n",
       "\n",
       "   Context  \n",
       "0      NaN  \n",
       "1      NaN  \n",
       "2      NaN  "
      ]
     },
     "execution_count": 10,
     "metadata": {},
     "output_type": "execute_result"
    }
   ],
   "source": [
    "dc1.head(3)"
   ]
  },
  {
   "cell_type": "code",
   "execution_count": 11,
   "id": "415f0ee2-74dc-4831-825f-5a531b73c3b0",
   "metadata": {},
   "outputs": [
    {
     "name": "stdout",
     "output_type": "stream",
     "text": [
      "<class 'pandas.core.frame.DataFrame'>\n",
      "RangeIndex: 1079267 entries, 0 to 1079266\n",
      "Data columns (total 12 columns):\n",
      " #   Column                 Non-Null Count    Dtype  \n",
      "---  ------                 --------------    -----  \n",
      " 0   Crime ID               776813 non-null   object \n",
      " 1   Month                  1079267 non-null  object \n",
      " 2   Reported by            1079267 non-null  object \n",
      " 3   Falls within           1079267 non-null  object \n",
      " 4   Longitude              1063568 non-null  float64\n",
      " 5   Latitude               1063568 non-null  float64\n",
      " 6   Location               1079267 non-null  object \n",
      " 7   LSOA code              1063568 non-null  object \n",
      " 8   LSOA name              1063568 non-null  object \n",
      " 9   Crime type             1079267 non-null  object \n",
      " 10  Last outcome category  776813 non-null   object \n",
      " 11  Context                0 non-null        float64\n",
      "dtypes: float64(3), object(9)\n",
      "memory usage: 98.8+ MB\n"
     ]
    }
   ],
   "source": [
    "dc1.info()"
   ]
  },
  {
   "cell_type": "markdown",
   "id": "f9ed0229-0cb1-4230-aad2-75586c46bf21",
   "metadata": {},
   "source": [
    "## Locate the crimes records "
   ]
  },
  {
   "cell_type": "code",
   "execution_count": 12,
   "id": "4985cb9f-d10d-4a4c-9c51-e2027c9516e8",
   "metadata": {},
   "outputs": [],
   "source": [
    "# New dataframe with the fields we need\n",
    "\n",
    "dc2 = dc1[['Longitude','Latitude','Crime type']]"
   ]
  },
  {
   "cell_type": "code",
   "execution_count": 13,
   "id": "d8b9ab56-7cf5-43a1-bf66-abf4a046c387",
   "metadata": {},
   "outputs": [
    {
     "name": "stdout",
     "output_type": "stream",
     "text": [
      "<class 'pandas.core.frame.DataFrame'>\n",
      "RangeIndex: 1079267 entries, 0 to 1079266\n",
      "Data columns (total 3 columns):\n",
      " #   Column      Non-Null Count    Dtype  \n",
      "---  ------      --------------    -----  \n",
      " 0   Longitude   1063568 non-null  float64\n",
      " 1   Latitude    1063568 non-null  float64\n",
      " 2   Crime type  1079267 non-null  object \n",
      "dtypes: float64(2), object(1)\n",
      "memory usage: 24.7+ MB\n"
     ]
    }
   ],
   "source": [
    "dc2.info()"
   ]
  },
  {
   "cell_type": "code",
   "execution_count": 14,
   "id": "b341d129-1be7-49c2-9968-6404f8f9f4e5",
   "metadata": {},
   "outputs": [],
   "source": [
    "# turn longitude and latitude into points\n",
    "dc3 = geopandas.GeoDataFrame(dc2, crs='OSGB36',\n",
    "        geometry=points_from_xy(dc2[\"Longitude\"], dc2[\"Latitude\"]),)"
   ]
  },
  {
   "cell_type": "code",
   "execution_count": 15,
   "id": "424afc5a-a8fb-4262-a92c-a6ce6032ff92",
   "metadata": {},
   "outputs": [],
   "source": [
    "dc4 = dc3.to_crs('EPSG:27700')"
   ]
  },
  {
   "cell_type": "code",
   "execution_count": 16,
   "id": "bfb703bf-621c-407e-9849-8e632ed51e9b",
   "metadata": {},
   "outputs": [
    {
     "data": {
      "text/html": [
       "<div>\n",
       "<style scoped>\n",
       "    .dataframe tbody tr th:only-of-type {\n",
       "        vertical-align: middle;\n",
       "    }\n",
       "\n",
       "    .dataframe tbody tr th {\n",
       "        vertical-align: top;\n",
       "    }\n",
       "\n",
       "    .dataframe thead th {\n",
       "        text-align: right;\n",
       "    }\n",
       "</style>\n",
       "<table border=\"1\" class=\"dataframe\">\n",
       "  <thead>\n",
       "    <tr style=\"text-align: right;\">\n",
       "      <th></th>\n",
       "      <th>Longitude</th>\n",
       "      <th>Latitude</th>\n",
       "      <th>Crime type</th>\n",
       "      <th>geometry</th>\n",
       "    </tr>\n",
       "  </thead>\n",
       "  <tbody>\n",
       "    <tr>\n",
       "      <th>0</th>\n",
       "      <td>-0.098572</td>\n",
       "      <td>51.516767</td>\n",
       "      <td>Anti-social behaviour</td>\n",
       "      <td>POINT (531916.787 181527.803)</td>\n",
       "    </tr>\n",
       "    <tr>\n",
       "      <th>1</th>\n",
       "      <td>-0.097601</td>\n",
       "      <td>51.520699</td>\n",
       "      <td>Anti-social behaviour</td>\n",
       "      <td>POINT (531972.779 181966.754)</td>\n",
       "    </tr>\n",
       "    <tr>\n",
       "      <th>2</th>\n",
       "      <td>-0.098572</td>\n",
       "      <td>51.516767</td>\n",
       "      <td>Other theft</td>\n",
       "      <td>POINT (531916.787 181527.803)</td>\n",
       "    </tr>\n",
       "    <tr>\n",
       "      <th>3</th>\n",
       "      <td>-0.097334</td>\n",
       "      <td>51.521567</td>\n",
       "      <td>Other theft</td>\n",
       "      <td>POINT (531988.79 182063.749)</td>\n",
       "    </tr>\n",
       "    <tr>\n",
       "      <th>4</th>\n",
       "      <td>-0.097601</td>\n",
       "      <td>51.520699</td>\n",
       "      <td>Shoplifting</td>\n",
       "      <td>POINT (531972.779 181966.754)</td>\n",
       "    </tr>\n",
       "  </tbody>\n",
       "</table>\n",
       "</div>"
      ],
      "text/plain": [
       "   Longitude   Latitude             Crime type                       geometry\n",
       "0  -0.098572  51.516767  Anti-social behaviour  POINT (531916.787 181527.803)\n",
       "1  -0.097601  51.520699  Anti-social behaviour  POINT (531972.779 181966.754)\n",
       "2  -0.098572  51.516767            Other theft  POINT (531916.787 181527.803)\n",
       "3  -0.097334  51.521567            Other theft   POINT (531988.79 182063.749)\n",
       "4  -0.097601  51.520699            Shoplifting  POINT (531972.779 181966.754)"
      ]
     },
     "execution_count": 16,
     "metadata": {},
     "output_type": "execute_result"
    }
   ],
   "source": [
    "dc4.head()"
   ]
  },
  {
   "cell_type": "code",
   "execution_count": 17,
   "id": "263ec81d-3ee3-4500-8283-81a0668647cc",
   "metadata": {},
   "outputs": [
    {
     "name": "stdout",
     "output_type": "stream",
     "text": [
      "<class 'geopandas.geodataframe.GeoDataFrame'>\n",
      "RangeIndex: 1079267 entries, 0 to 1079266\n",
      "Data columns (total 4 columns):\n",
      " #   Column      Non-Null Count    Dtype   \n",
      "---  ------      --------------    -----   \n",
      " 0   Longitude   1063568 non-null  float64 \n",
      " 1   Latitude    1063568 non-null  float64 \n",
      " 2   Crime type  1079267 non-null  object  \n",
      " 3   geometry    1079267 non-null  geometry\n",
      "dtypes: float64(2), geometry(1), object(1)\n",
      "memory usage: 32.9+ MB\n"
     ]
    }
   ],
   "source": [
    "dc4.info()"
   ]
  },
  {
   "cell_type": "code",
   "execution_count": 18,
   "id": "a0d61e20-cd74-400d-b951-1d72aa18104c",
   "metadata": {},
   "outputs": [],
   "source": [
    "gdf = geopandas.read_file('London_MSOA.shp')"
   ]
  },
  {
   "cell_type": "code",
   "execution_count": 19,
   "id": "e621dc9e-30c8-47e3-9265-a7e164bdbccf",
   "metadata": {},
   "outputs": [
    {
     "data": {
      "text/html": [
       "<div>\n",
       "<style scoped>\n",
       "    .dataframe tbody tr th:only-of-type {\n",
       "        vertical-align: middle;\n",
       "    }\n",
       "\n",
       "    .dataframe tbody tr th {\n",
       "        vertical-align: top;\n",
       "    }\n",
       "\n",
       "    .dataframe thead th {\n",
       "        text-align: right;\n",
       "    }\n",
       "</style>\n",
       "<table border=\"1\" class=\"dataframe\">\n",
       "  <thead>\n",
       "    <tr style=\"text-align: right;\">\n",
       "      <th></th>\n",
       "      <th>MSOA21CD</th>\n",
       "      <th>MSOA21NM</th>\n",
       "      <th>BNG_E</th>\n",
       "      <th>BNG_N</th>\n",
       "      <th>LONG</th>\n",
       "      <th>LAT</th>\n",
       "      <th>GlobalID</th>\n",
       "      <th>geometry</th>\n",
       "    </tr>\n",
       "  </thead>\n",
       "  <tbody>\n",
       "    <tr>\n",
       "      <th>0</th>\n",
       "      <td>E02000001</td>\n",
       "      <td>City of London 001</td>\n",
       "      <td>532384</td>\n",
       "      <td>181355</td>\n",
       "      <td>-0.093490</td>\n",
       "      <td>51.5156</td>\n",
       "      <td>1a2c7a3b-631d-4efc-8ddc-b1c4d354fb0d</td>\n",
       "      <td>POLYGON ((532153.703 182165.155, 532158.25 182...</td>\n",
       "    </tr>\n",
       "    <tr>\n",
       "      <th>1</th>\n",
       "      <td>E02000002</td>\n",
       "      <td>Barking and Dagenham 001</td>\n",
       "      <td>548267</td>\n",
       "      <td>189685</td>\n",
       "      <td>0.138756</td>\n",
       "      <td>51.5865</td>\n",
       "      <td>5a46ef58-9e06-4afd-9a7d-d299d2e522d3</td>\n",
       "      <td>POLYGON ((548881.304 190819.98, 548881.125 190...</td>\n",
       "    </tr>\n",
       "    <tr>\n",
       "      <th>2</th>\n",
       "      <td>E02000003</td>\n",
       "      <td>Barking and Dagenham 002</td>\n",
       "      <td>548259</td>\n",
       "      <td>188520</td>\n",
       "      <td>0.138149</td>\n",
       "      <td>51.5760</td>\n",
       "      <td>780f3795-87fd-498e-b117-7e8361f3587d</td>\n",
       "      <td>POLYGON ((548958.555 189072.176, 548954.517 18...</td>\n",
       "    </tr>\n",
       "    <tr>\n",
       "      <th>3</th>\n",
       "      <td>E02000004</td>\n",
       "      <td>Barking and Dagenham 003</td>\n",
       "      <td>551004</td>\n",
       "      <td>186412</td>\n",
       "      <td>0.176828</td>\n",
       "      <td>51.5564</td>\n",
       "      <td>2a558db9-3725-46e7-9cbd-348766244e71</td>\n",
       "      <td>POLYGON ((551550.056 187364.705, 551528.633 18...</td>\n",
       "    </tr>\n",
       "    <tr>\n",
       "      <th>4</th>\n",
       "      <td>E02000005</td>\n",
       "      <td>Barking and Dagenham 004</td>\n",
       "      <td>548733</td>\n",
       "      <td>186824</td>\n",
       "      <td>0.144267</td>\n",
       "      <td>51.5607</td>\n",
       "      <td>f09f3af8-753a-433b-ae45-5a3d0281f34d</td>\n",
       "      <td>POLYGON ((549237.051 187627.941, 549241.319 18...</td>\n",
       "    </tr>\n",
       "  </tbody>\n",
       "</table>\n",
       "</div>"
      ],
      "text/plain": [
       "    MSOA21CD                  MSOA21NM   BNG_E   BNG_N      LONG      LAT  \\\n",
       "0  E02000001        City of London 001  532384  181355 -0.093490  51.5156   \n",
       "1  E02000002  Barking and Dagenham 001  548267  189685  0.138756  51.5865   \n",
       "2  E02000003  Barking and Dagenham 002  548259  188520  0.138149  51.5760   \n",
       "3  E02000004  Barking and Dagenham 003  551004  186412  0.176828  51.5564   \n",
       "4  E02000005  Barking and Dagenham 004  548733  186824  0.144267  51.5607   \n",
       "\n",
       "                               GlobalID  \\\n",
       "0  1a2c7a3b-631d-4efc-8ddc-b1c4d354fb0d   \n",
       "1  5a46ef58-9e06-4afd-9a7d-d299d2e522d3   \n",
       "2  780f3795-87fd-498e-b117-7e8361f3587d   \n",
       "3  2a558db9-3725-46e7-9cbd-348766244e71   \n",
       "4  f09f3af8-753a-433b-ae45-5a3d0281f34d   \n",
       "\n",
       "                                            geometry  \n",
       "0  POLYGON ((532153.703 182165.155, 532158.25 182...  \n",
       "1  POLYGON ((548881.304 190819.98, 548881.125 190...  \n",
       "2  POLYGON ((548958.555 189072.176, 548954.517 18...  \n",
       "3  POLYGON ((551550.056 187364.705, 551528.633 18...  \n",
       "4  POLYGON ((549237.051 187627.941, 549241.319 18...  "
      ]
     },
     "execution_count": 19,
     "metadata": {},
     "output_type": "execute_result"
    }
   ],
   "source": [
    "gdf.head()"
   ]
  },
  {
   "cell_type": "code",
   "execution_count": 20,
   "id": "01117c04-9b8e-459e-8ada-b9964043f089",
   "metadata": {},
   "outputs": [
    {
     "name": "stdout",
     "output_type": "stream",
     "text": [
      "<class 'geopandas.geodataframe.GeoDataFrame'>\n",
      "RangeIndex: 1002 entries, 0 to 1001\n",
      "Data columns (total 8 columns):\n",
      " #   Column    Non-Null Count  Dtype   \n",
      "---  ------    --------------  -----   \n",
      " 0   MSOA21CD  1002 non-null   object  \n",
      " 1   MSOA21NM  1002 non-null   object  \n",
      " 2   BNG_E     1002 non-null   int64   \n",
      " 3   BNG_N     1002 non-null   int64   \n",
      " 4   LONG      1002 non-null   float64 \n",
      " 5   LAT       1002 non-null   float64 \n",
      " 6   GlobalID  1002 non-null   object  \n",
      " 7   geometry  1002 non-null   geometry\n",
      "dtypes: float64(2), geometry(1), int64(2), object(3)\n",
      "memory usage: 62.8+ KB\n"
     ]
    }
   ],
   "source": [
    "gdf.info()"
   ]
  },
  {
   "cell_type": "code",
   "execution_count": 21,
   "id": "0574394b-0a8f-4a92-8884-d619d90fbdad",
   "metadata": {},
   "outputs": [
    {
     "data": {
      "text/plain": [
       "<Projected CRS: EPSG:27700>\n",
       "Name: OSGB36 / British National Grid\n",
       "Axis Info [cartesian]:\n",
       "- E[east]: Easting (metre)\n",
       "- N[north]: Northing (metre)\n",
       "Area of Use:\n",
       "- name: United Kingdom (UK) - offshore to boundary of UKCS within 49°45'N to 61°N and 9°W to 2°E; onshore Great Britain (England, Wales and Scotland). Isle of Man onshore.\n",
       "- bounds: (-9.01, 49.75, 2.01, 61.01)\n",
       "Coordinate Operation:\n",
       "- name: British National Grid\n",
       "- method: Transverse Mercator\n",
       "Datum: Ordnance Survey of Great Britain 1936\n",
       "- Ellipsoid: Airy 1830\n",
       "- Prime Meridian: Greenwich"
      ]
     },
     "execution_count": 21,
     "metadata": {},
     "output_type": "execute_result"
    }
   ],
   "source": [
    "gdf.crs"
   ]
  },
  {
   "cell_type": "code",
   "execution_count": 22,
   "id": "43dee292-b5e2-4729-87fa-b1f0b64fd419",
   "metadata": {},
   "outputs": [],
   "source": [
    "dc5 = geopandas.sjoin(dc4, gdf, how='left', predicate=\"within\")"
   ]
  },
  {
   "cell_type": "code",
   "execution_count": 23,
   "id": "313c7cb6-61ab-43cd-8080-8c8dce860c37",
   "metadata": {},
   "outputs": [
    {
     "data": {
      "text/html": [
       "<div>\n",
       "<style scoped>\n",
       "    .dataframe tbody tr th:only-of-type {\n",
       "        vertical-align: middle;\n",
       "    }\n",
       "\n",
       "    .dataframe tbody tr th {\n",
       "        vertical-align: top;\n",
       "    }\n",
       "\n",
       "    .dataframe thead th {\n",
       "        text-align: right;\n",
       "    }\n",
       "</style>\n",
       "<table border=\"1\" class=\"dataframe\">\n",
       "  <thead>\n",
       "    <tr style=\"text-align: right;\">\n",
       "      <th></th>\n",
       "      <th>Longitude</th>\n",
       "      <th>Latitude</th>\n",
       "      <th>Crime type</th>\n",
       "      <th>geometry</th>\n",
       "      <th>index_right</th>\n",
       "      <th>MSOA21CD</th>\n",
       "      <th>MSOA21NM</th>\n",
       "      <th>BNG_E</th>\n",
       "      <th>BNG_N</th>\n",
       "      <th>LONG</th>\n",
       "      <th>LAT</th>\n",
       "      <th>GlobalID</th>\n",
       "    </tr>\n",
       "  </thead>\n",
       "  <tbody>\n",
       "    <tr>\n",
       "      <th>0</th>\n",
       "      <td>-0.098572</td>\n",
       "      <td>51.516767</td>\n",
       "      <td>Anti-social behaviour</td>\n",
       "      <td>POINT (531916.787 181527.803)</td>\n",
       "      <td>0.0</td>\n",
       "      <td>E02000001</td>\n",
       "      <td>City of London 001</td>\n",
       "      <td>532384.0</td>\n",
       "      <td>181355.0</td>\n",
       "      <td>-0.09349</td>\n",
       "      <td>51.5156</td>\n",
       "      <td>1a2c7a3b-631d-4efc-8ddc-b1c4d354fb0d</td>\n",
       "    </tr>\n",
       "    <tr>\n",
       "      <th>1</th>\n",
       "      <td>-0.097601</td>\n",
       "      <td>51.520699</td>\n",
       "      <td>Anti-social behaviour</td>\n",
       "      <td>POINT (531972.779 181966.754)</td>\n",
       "      <td>543.0</td>\n",
       "      <td>E02000575</td>\n",
       "      <td>Islington 022</td>\n",
       "      <td>531574.0</td>\n",
       "      <td>182213.0</td>\n",
       "      <td>-0.10483</td>\n",
       "      <td>51.5235</td>\n",
       "      <td>66304b48-7d65-4d81-a7dc-591a4fb52608</td>\n",
       "    </tr>\n",
       "    <tr>\n",
       "      <th>2</th>\n",
       "      <td>-0.098572</td>\n",
       "      <td>51.516767</td>\n",
       "      <td>Other theft</td>\n",
       "      <td>POINT (531916.787 181527.803)</td>\n",
       "      <td>0.0</td>\n",
       "      <td>E02000001</td>\n",
       "      <td>City of London 001</td>\n",
       "      <td>532384.0</td>\n",
       "      <td>181355.0</td>\n",
       "      <td>-0.09349</td>\n",
       "      <td>51.5156</td>\n",
       "      <td>1a2c7a3b-631d-4efc-8ddc-b1c4d354fb0d</td>\n",
       "    </tr>\n",
       "    <tr>\n",
       "      <th>3</th>\n",
       "      <td>-0.097334</td>\n",
       "      <td>51.521567</td>\n",
       "      <td>Other theft</td>\n",
       "      <td>POINT (531988.79 182063.749)</td>\n",
       "      <td>543.0</td>\n",
       "      <td>E02000575</td>\n",
       "      <td>Islington 022</td>\n",
       "      <td>531574.0</td>\n",
       "      <td>182213.0</td>\n",
       "      <td>-0.10483</td>\n",
       "      <td>51.5235</td>\n",
       "      <td>66304b48-7d65-4d81-a7dc-591a4fb52608</td>\n",
       "    </tr>\n",
       "    <tr>\n",
       "      <th>4</th>\n",
       "      <td>-0.097601</td>\n",
       "      <td>51.520699</td>\n",
       "      <td>Shoplifting</td>\n",
       "      <td>POINT (531972.779 181966.754)</td>\n",
       "      <td>543.0</td>\n",
       "      <td>E02000575</td>\n",
       "      <td>Islington 022</td>\n",
       "      <td>531574.0</td>\n",
       "      <td>182213.0</td>\n",
       "      <td>-0.10483</td>\n",
       "      <td>51.5235</td>\n",
       "      <td>66304b48-7d65-4d81-a7dc-591a4fb52608</td>\n",
       "    </tr>\n",
       "  </tbody>\n",
       "</table>\n",
       "</div>"
      ],
      "text/plain": [
       "   Longitude   Latitude             Crime type                       geometry  \\\n",
       "0  -0.098572  51.516767  Anti-social behaviour  POINT (531916.787 181527.803)   \n",
       "1  -0.097601  51.520699  Anti-social behaviour  POINT (531972.779 181966.754)   \n",
       "2  -0.098572  51.516767            Other theft  POINT (531916.787 181527.803)   \n",
       "3  -0.097334  51.521567            Other theft   POINT (531988.79 182063.749)   \n",
       "4  -0.097601  51.520699            Shoplifting  POINT (531972.779 181966.754)   \n",
       "\n",
       "   index_right   MSOA21CD            MSOA21NM     BNG_E     BNG_N     LONG  \\\n",
       "0          0.0  E02000001  City of London 001  532384.0  181355.0 -0.09349   \n",
       "1        543.0  E02000575       Islington 022  531574.0  182213.0 -0.10483   \n",
       "2          0.0  E02000001  City of London 001  532384.0  181355.0 -0.09349   \n",
       "3        543.0  E02000575       Islington 022  531574.0  182213.0 -0.10483   \n",
       "4        543.0  E02000575       Islington 022  531574.0  182213.0 -0.10483   \n",
       "\n",
       "       LAT                              GlobalID  \n",
       "0  51.5156  1a2c7a3b-631d-4efc-8ddc-b1c4d354fb0d  \n",
       "1  51.5235  66304b48-7d65-4d81-a7dc-591a4fb52608  \n",
       "2  51.5156  1a2c7a3b-631d-4efc-8ddc-b1c4d354fb0d  \n",
       "3  51.5235  66304b48-7d65-4d81-a7dc-591a4fb52608  \n",
       "4  51.5235  66304b48-7d65-4d81-a7dc-591a4fb52608  "
      ]
     },
     "execution_count": 23,
     "metadata": {},
     "output_type": "execute_result"
    }
   ],
   "source": [
    "dc5.head()"
   ]
  },
  {
   "cell_type": "code",
   "execution_count": 24,
   "id": "8151acd8-4ce5-434e-b803-c76a3602d5d1",
   "metadata": {},
   "outputs": [
    {
     "name": "stdout",
     "output_type": "stream",
     "text": [
      "<class 'geopandas.geodataframe.GeoDataFrame'>\n",
      "Index: 1079267 entries, 0 to 1079266\n",
      "Data columns (total 12 columns):\n",
      " #   Column       Non-Null Count    Dtype   \n",
      "---  ------       --------------    -----   \n",
      " 0   Longitude    1063568 non-null  float64 \n",
      " 1   Latitude     1063568 non-null  float64 \n",
      " 2   Crime type   1079267 non-null  object  \n",
      " 3   geometry     1079267 non-null  geometry\n",
      " 4   index_right  1058907 non-null  float64 \n",
      " 5   MSOA21CD     1058907 non-null  object  \n",
      " 6   MSOA21NM     1058907 non-null  object  \n",
      " 7   BNG_E        1058907 non-null  float64 \n",
      " 8   BNG_N        1058907 non-null  float64 \n",
      " 9   LONG         1058907 non-null  float64 \n",
      " 10  LAT          1058907 non-null  float64 \n",
      " 11  GlobalID     1058907 non-null  object  \n",
      "dtypes: float64(7), geometry(1), object(4)\n",
      "memory usage: 107.0+ MB\n"
     ]
    }
   ],
   "source": [
    "dc5.info()"
   ]
  },
  {
   "cell_type": "code",
   "execution_count": 25,
   "id": "caae01d6-2487-45c8-85b1-38807ff99707",
   "metadata": {},
   "outputs": [],
   "source": [
    "dc6 = dc5[['MSOA21CD','MSOA21NM','Crime type']]"
   ]
  },
  {
   "cell_type": "code",
   "execution_count": 26,
   "id": "b42b96e6-b84f-4bbc-99c3-6322e09e358e",
   "metadata": {},
   "outputs": [
    {
     "name": "stdout",
     "output_type": "stream",
     "text": [
      "<class 'pandas.core.frame.DataFrame'>\n",
      "Index: 1079267 entries, 0 to 1079266\n",
      "Data columns (total 3 columns):\n",
      " #   Column      Non-Null Count    Dtype \n",
      "---  ------      --------------    ----- \n",
      " 0   MSOA21CD    1058907 non-null  object\n",
      " 1   MSOA21NM    1058907 non-null  object\n",
      " 2   Crime type  1079267 non-null  object\n",
      "dtypes: object(3)\n",
      "memory usage: 32.9+ MB\n"
     ]
    }
   ],
   "source": [
    "dc6.info()"
   ]
  },
  {
   "cell_type": "markdown",
   "id": "68e7971d-1c2b-4cef-b4d2-e2625c7db16a",
   "metadata": {},
   "source": [
    "20,360 crimes are reported without location or outside London. ~ 1.88%"
   ]
  },
  {
   "cell_type": "code",
   "execution_count": 27,
   "id": "047368e2-c11e-480d-b807-d32404952679",
   "metadata": {},
   "outputs": [],
   "source": [
    "dc7 = dc6.dropna()"
   ]
  },
  {
   "cell_type": "code",
   "execution_count": 28,
   "id": "c9ca9513-908e-403d-8b75-73eb580046a3",
   "metadata": {},
   "outputs": [
    {
     "name": "stdout",
     "output_type": "stream",
     "text": [
      "<class 'pandas.core.frame.DataFrame'>\n",
      "Index: 1058907 entries, 0 to 1077254\n",
      "Data columns (total 3 columns):\n",
      " #   Column      Non-Null Count    Dtype \n",
      "---  ------      --------------    ----- \n",
      " 0   MSOA21CD    1058907 non-null  object\n",
      " 1   MSOA21NM    1058907 non-null  object\n",
      " 2   Crime type  1058907 non-null  object\n",
      "dtypes: object(3)\n",
      "memory usage: 32.3+ MB\n"
     ]
    }
   ],
   "source": [
    "dc7.info()"
   ]
  },
  {
   "cell_type": "code",
   "execution_count": 29,
   "id": "2d63adbe-4024-4f55-8323-5338e001b53f",
   "metadata": {},
   "outputs": [
    {
     "data": {
      "text/html": [
       "<div>\n",
       "<style scoped>\n",
       "    .dataframe tbody tr th:only-of-type {\n",
       "        vertical-align: middle;\n",
       "    }\n",
       "\n",
       "    .dataframe tbody tr th {\n",
       "        vertical-align: top;\n",
       "    }\n",
       "\n",
       "    .dataframe thead th {\n",
       "        text-align: right;\n",
       "    }\n",
       "</style>\n",
       "<table border=\"1\" class=\"dataframe\">\n",
       "  <thead>\n",
       "    <tr style=\"text-align: right;\">\n",
       "      <th></th>\n",
       "      <th>MSOA21CD</th>\n",
       "      <th>MSOA21NM</th>\n",
       "      <th>Crime type</th>\n",
       "    </tr>\n",
       "  </thead>\n",
       "  <tbody>\n",
       "    <tr>\n",
       "      <th>0</th>\n",
       "      <td>E02000001</td>\n",
       "      <td>City of London 001</td>\n",
       "      <td>Anti-social behaviour</td>\n",
       "    </tr>\n",
       "    <tr>\n",
       "      <th>1</th>\n",
       "      <td>E02000575</td>\n",
       "      <td>Islington 022</td>\n",
       "      <td>Anti-social behaviour</td>\n",
       "    </tr>\n",
       "    <tr>\n",
       "      <th>2</th>\n",
       "      <td>E02000001</td>\n",
       "      <td>City of London 001</td>\n",
       "      <td>Other theft</td>\n",
       "    </tr>\n",
       "    <tr>\n",
       "      <th>3</th>\n",
       "      <td>E02000575</td>\n",
       "      <td>Islington 022</td>\n",
       "      <td>Other theft</td>\n",
       "    </tr>\n",
       "    <tr>\n",
       "      <th>4</th>\n",
       "      <td>E02000575</td>\n",
       "      <td>Islington 022</td>\n",
       "      <td>Shoplifting</td>\n",
       "    </tr>\n",
       "  </tbody>\n",
       "</table>\n",
       "</div>"
      ],
      "text/plain": [
       "    MSOA21CD            MSOA21NM             Crime type\n",
       "0  E02000001  City of London 001  Anti-social behaviour\n",
       "1  E02000575       Islington 022  Anti-social behaviour\n",
       "2  E02000001  City of London 001            Other theft\n",
       "3  E02000575       Islington 022            Other theft\n",
       "4  E02000575       Islington 022            Shoplifting"
      ]
     },
     "execution_count": 29,
     "metadata": {},
     "output_type": "execute_result"
    }
   ],
   "source": [
    "dc7.head()"
   ]
  },
  {
   "cell_type": "markdown",
   "id": "0e240e14-f41a-4cc1-8aea-a2dc0e81ac67",
   "metadata": {},
   "source": [
    "## Aggregating by MSOA and crime type"
   ]
  },
  {
   "cell_type": "code",
   "execution_count": 30,
   "id": "e682a070-c5e9-410f-8815-29ad6fedbeec",
   "metadata": {},
   "outputs": [],
   "source": [
    "dc0 = dc7.groupby(['MSOA21CD','MSOA21NM','Crime type']).size().reset_index(name='counts')"
   ]
  },
  {
   "cell_type": "code",
   "execution_count": 31,
   "id": "7a34dead-4c4b-4311-8c83-cd87e1505eb2",
   "metadata": {},
   "outputs": [
    {
     "data": {
      "text/html": [
       "<div>\n",
       "<style scoped>\n",
       "    .dataframe tbody tr th:only-of-type {\n",
       "        vertical-align: middle;\n",
       "    }\n",
       "\n",
       "    .dataframe tbody tr th {\n",
       "        vertical-align: top;\n",
       "    }\n",
       "\n",
       "    .dataframe thead th {\n",
       "        text-align: right;\n",
       "    }\n",
       "</style>\n",
       "<table border=\"1\" class=\"dataframe\">\n",
       "  <thead>\n",
       "    <tr style=\"text-align: right;\">\n",
       "      <th></th>\n",
       "      <th>MSOA21CD</th>\n",
       "      <th>MSOA21NM</th>\n",
       "      <th>Crime type</th>\n",
       "      <th>counts</th>\n",
       "    </tr>\n",
       "  </thead>\n",
       "  <tbody>\n",
       "    <tr>\n",
       "      <th>0</th>\n",
       "      <td>E02000001</td>\n",
       "      <td>City of London 001</td>\n",
       "      <td>Anti-social behaviour</td>\n",
       "      <td>1006</td>\n",
       "    </tr>\n",
       "    <tr>\n",
       "      <th>1</th>\n",
       "      <td>E02000001</td>\n",
       "      <td>City of London 001</td>\n",
       "      <td>Bicycle theft</td>\n",
       "      <td>283</td>\n",
       "    </tr>\n",
       "    <tr>\n",
       "      <th>2</th>\n",
       "      <td>E02000001</td>\n",
       "      <td>City of London 001</td>\n",
       "      <td>Burglary</td>\n",
       "      <td>191</td>\n",
       "    </tr>\n",
       "    <tr>\n",
       "      <th>3</th>\n",
       "      <td>E02000001</td>\n",
       "      <td>City of London 001</td>\n",
       "      <td>Criminal damage and arson</td>\n",
       "      <td>241</td>\n",
       "    </tr>\n",
       "    <tr>\n",
       "      <th>4</th>\n",
       "      <td>E02000001</td>\n",
       "      <td>City of London 001</td>\n",
       "      <td>Drugs</td>\n",
       "      <td>503</td>\n",
       "    </tr>\n",
       "    <tr>\n",
       "      <th>5</th>\n",
       "      <td>E02000001</td>\n",
       "      <td>City of London 001</td>\n",
       "      <td>Other crime</td>\n",
       "      <td>62</td>\n",
       "    </tr>\n",
       "    <tr>\n",
       "      <th>6</th>\n",
       "      <td>E02000001</td>\n",
       "      <td>City of London 001</td>\n",
       "      <td>Other theft</td>\n",
       "      <td>916</td>\n",
       "    </tr>\n",
       "    <tr>\n",
       "      <th>7</th>\n",
       "      <td>E02000001</td>\n",
       "      <td>City of London 001</td>\n",
       "      <td>Possession of weapons</td>\n",
       "      <td>42</td>\n",
       "    </tr>\n",
       "    <tr>\n",
       "      <th>8</th>\n",
       "      <td>E02000001</td>\n",
       "      <td>City of London 001</td>\n",
       "      <td>Public order</td>\n",
       "      <td>433</td>\n",
       "    </tr>\n",
       "    <tr>\n",
       "      <th>9</th>\n",
       "      <td>E02000001</td>\n",
       "      <td>City of London 001</td>\n",
       "      <td>Robbery</td>\n",
       "      <td>124</td>\n",
       "    </tr>\n",
       "    <tr>\n",
       "      <th>10</th>\n",
       "      <td>E02000001</td>\n",
       "      <td>City of London 001</td>\n",
       "      <td>Shoplifting</td>\n",
       "      <td>607</td>\n",
       "    </tr>\n",
       "    <tr>\n",
       "      <th>11</th>\n",
       "      <td>E02000001</td>\n",
       "      <td>City of London 001</td>\n",
       "      <td>Theft from the person</td>\n",
       "      <td>639</td>\n",
       "    </tr>\n",
       "    <tr>\n",
       "      <th>12</th>\n",
       "      <td>E02000001</td>\n",
       "      <td>City of London 001</td>\n",
       "      <td>Vehicle crime</td>\n",
       "      <td>188</td>\n",
       "    </tr>\n",
       "    <tr>\n",
       "      <th>13</th>\n",
       "      <td>E02000001</td>\n",
       "      <td>City of London 001</td>\n",
       "      <td>Violence and sexual offences</td>\n",
       "      <td>1027</td>\n",
       "    </tr>\n",
       "    <tr>\n",
       "      <th>14</th>\n",
       "      <td>E02000002</td>\n",
       "      <td>Barking and Dagenham 001</td>\n",
       "      <td>Anti-social behaviour</td>\n",
       "      <td>210</td>\n",
       "    </tr>\n",
       "    <tr>\n",
       "      <th>15</th>\n",
       "      <td>E02000002</td>\n",
       "      <td>Barking and Dagenham 001</td>\n",
       "      <td>Bicycle theft</td>\n",
       "      <td>5</td>\n",
       "    </tr>\n",
       "    <tr>\n",
       "      <th>16</th>\n",
       "      <td>E02000002</td>\n",
       "      <td>Barking and Dagenham 001</td>\n",
       "      <td>Burglary</td>\n",
       "      <td>34</td>\n",
       "    </tr>\n",
       "    <tr>\n",
       "      <th>17</th>\n",
       "      <td>E02000002</td>\n",
       "      <td>Barking and Dagenham 001</td>\n",
       "      <td>Criminal damage and arson</td>\n",
       "      <td>66</td>\n",
       "    </tr>\n",
       "    <tr>\n",
       "      <th>18</th>\n",
       "      <td>E02000002</td>\n",
       "      <td>Barking and Dagenham 001</td>\n",
       "      <td>Drugs</td>\n",
       "      <td>28</td>\n",
       "    </tr>\n",
       "    <tr>\n",
       "      <th>19</th>\n",
       "      <td>E02000002</td>\n",
       "      <td>Barking and Dagenham 001</td>\n",
       "      <td>Other crime</td>\n",
       "      <td>14</td>\n",
       "    </tr>\n",
       "    <tr>\n",
       "      <th>20</th>\n",
       "      <td>E02000002</td>\n",
       "      <td>Barking and Dagenham 001</td>\n",
       "      <td>Other theft</td>\n",
       "      <td>30</td>\n",
       "    </tr>\n",
       "    <tr>\n",
       "      <th>21</th>\n",
       "      <td>E02000002</td>\n",
       "      <td>Barking and Dagenham 001</td>\n",
       "      <td>Possession of weapons</td>\n",
       "      <td>8</td>\n",
       "    </tr>\n",
       "    <tr>\n",
       "      <th>22</th>\n",
       "      <td>E02000002</td>\n",
       "      <td>Barking and Dagenham 001</td>\n",
       "      <td>Public order</td>\n",
       "      <td>51</td>\n",
       "    </tr>\n",
       "    <tr>\n",
       "      <th>23</th>\n",
       "      <td>E02000002</td>\n",
       "      <td>Barking and Dagenham 001</td>\n",
       "      <td>Robbery</td>\n",
       "      <td>15</td>\n",
       "    </tr>\n",
       "    <tr>\n",
       "      <th>24</th>\n",
       "      <td>E02000002</td>\n",
       "      <td>Barking and Dagenham 001</td>\n",
       "      <td>Shoplifting</td>\n",
       "      <td>8</td>\n",
       "    </tr>\n",
       "    <tr>\n",
       "      <th>25</th>\n",
       "      <td>E02000002</td>\n",
       "      <td>Barking and Dagenham 001</td>\n",
       "      <td>Theft from the person</td>\n",
       "      <td>5</td>\n",
       "    </tr>\n",
       "    <tr>\n",
       "      <th>26</th>\n",
       "      <td>E02000002</td>\n",
       "      <td>Barking and Dagenham 001</td>\n",
       "      <td>Vehicle crime</td>\n",
       "      <td>95</td>\n",
       "    </tr>\n",
       "    <tr>\n",
       "      <th>27</th>\n",
       "      <td>E02000002</td>\n",
       "      <td>Barking and Dagenham 001</td>\n",
       "      <td>Violence and sexual offences</td>\n",
       "      <td>260</td>\n",
       "    </tr>\n",
       "    <tr>\n",
       "      <th>28</th>\n",
       "      <td>E02000003</td>\n",
       "      <td>Barking and Dagenham 002</td>\n",
       "      <td>Anti-social behaviour</td>\n",
       "      <td>335</td>\n",
       "    </tr>\n",
       "    <tr>\n",
       "      <th>29</th>\n",
       "      <td>E02000003</td>\n",
       "      <td>Barking and Dagenham 002</td>\n",
       "      <td>Bicycle theft</td>\n",
       "      <td>7</td>\n",
       "    </tr>\n",
       "  </tbody>\n",
       "</table>\n",
       "</div>"
      ],
      "text/plain": [
       "     MSOA21CD                  MSOA21NM                    Crime type  counts\n",
       "0   E02000001        City of London 001         Anti-social behaviour    1006\n",
       "1   E02000001        City of London 001                 Bicycle theft     283\n",
       "2   E02000001        City of London 001                      Burglary     191\n",
       "3   E02000001        City of London 001     Criminal damage and arson     241\n",
       "4   E02000001        City of London 001                         Drugs     503\n",
       "5   E02000001        City of London 001                   Other crime      62\n",
       "6   E02000001        City of London 001                   Other theft     916\n",
       "7   E02000001        City of London 001         Possession of weapons      42\n",
       "8   E02000001        City of London 001                  Public order     433\n",
       "9   E02000001        City of London 001                       Robbery     124\n",
       "10  E02000001        City of London 001                   Shoplifting     607\n",
       "11  E02000001        City of London 001         Theft from the person     639\n",
       "12  E02000001        City of London 001                 Vehicle crime     188\n",
       "13  E02000001        City of London 001  Violence and sexual offences    1027\n",
       "14  E02000002  Barking and Dagenham 001         Anti-social behaviour     210\n",
       "15  E02000002  Barking and Dagenham 001                 Bicycle theft       5\n",
       "16  E02000002  Barking and Dagenham 001                      Burglary      34\n",
       "17  E02000002  Barking and Dagenham 001     Criminal damage and arson      66\n",
       "18  E02000002  Barking and Dagenham 001                         Drugs      28\n",
       "19  E02000002  Barking and Dagenham 001                   Other crime      14\n",
       "20  E02000002  Barking and Dagenham 001                   Other theft      30\n",
       "21  E02000002  Barking and Dagenham 001         Possession of weapons       8\n",
       "22  E02000002  Barking and Dagenham 001                  Public order      51\n",
       "23  E02000002  Barking and Dagenham 001                       Robbery      15\n",
       "24  E02000002  Barking and Dagenham 001                   Shoplifting       8\n",
       "25  E02000002  Barking and Dagenham 001         Theft from the person       5\n",
       "26  E02000002  Barking and Dagenham 001                 Vehicle crime      95\n",
       "27  E02000002  Barking and Dagenham 001  Violence and sexual offences     260\n",
       "28  E02000003  Barking and Dagenham 002         Anti-social behaviour     335\n",
       "29  E02000003  Barking and Dagenham 002                 Bicycle theft       7"
      ]
     },
     "execution_count": 31,
     "metadata": {},
     "output_type": "execute_result"
    }
   ],
   "source": [
    "dc0.head(30)"
   ]
  },
  {
   "cell_type": "code",
   "execution_count": 32,
   "id": "96a0073b-9097-4fe3-b783-45d840dbb5c3",
   "metadata": {},
   "outputs": [
    {
     "name": "stdout",
     "output_type": "stream",
     "text": [
      "<class 'pandas.core.frame.DataFrame'>\n",
      "RangeIndex: 13787 entries, 0 to 13786\n",
      "Data columns (total 4 columns):\n",
      " #   Column      Non-Null Count  Dtype \n",
      "---  ------      --------------  ----- \n",
      " 0   MSOA21CD    13787 non-null  object\n",
      " 1   MSOA21NM    13787 non-null  object\n",
      " 2   Crime type  13787 non-null  object\n",
      " 3   counts      13787 non-null  int64 \n",
      "dtypes: int64(1), object(3)\n",
      "memory usage: 431.0+ KB\n"
     ]
    }
   ],
   "source": [
    "dc0.info()"
   ]
  },
  {
   "cell_type": "markdown",
   "id": "2dcfc611-9322-4888-bc6d-b87d574f569e",
   "metadata": {},
   "source": [
    "## Total crimes reported"
   ]
  },
  {
   "cell_type": "code",
   "execution_count": 33,
   "id": "a9f25197-67ef-4597-8949-3452af8a8814",
   "metadata": {},
   "outputs": [],
   "source": [
    "dctotal = dc0.groupby(['MSOA21CD','MSOA21NM'])['counts'].sum().reset_index(name='total_crimes')"
   ]
  },
  {
   "cell_type": "code",
   "execution_count": 34,
   "id": "0b5ea1a5-bffc-4dac-9642-74a34f587afa",
   "metadata": {},
   "outputs": [
    {
     "data": {
      "text/html": [
       "<div>\n",
       "<style scoped>\n",
       "    .dataframe tbody tr th:only-of-type {\n",
       "        vertical-align: middle;\n",
       "    }\n",
       "\n",
       "    .dataframe tbody tr th {\n",
       "        vertical-align: top;\n",
       "    }\n",
       "\n",
       "    .dataframe thead th {\n",
       "        text-align: right;\n",
       "    }\n",
       "</style>\n",
       "<table border=\"1\" class=\"dataframe\">\n",
       "  <thead>\n",
       "    <tr style=\"text-align: right;\">\n",
       "      <th></th>\n",
       "      <th>MSOA21CD</th>\n",
       "      <th>MSOA21NM</th>\n",
       "      <th>total_crimes</th>\n",
       "    </tr>\n",
       "  </thead>\n",
       "  <tbody>\n",
       "    <tr>\n",
       "      <th>0</th>\n",
       "      <td>E02000001</td>\n",
       "      <td>City of London 001</td>\n",
       "      <td>6262</td>\n",
       "    </tr>\n",
       "    <tr>\n",
       "      <th>1</th>\n",
       "      <td>E02000002</td>\n",
       "      <td>Barking and Dagenham 001</td>\n",
       "      <td>829</td>\n",
       "    </tr>\n",
       "    <tr>\n",
       "      <th>2</th>\n",
       "      <td>E02000003</td>\n",
       "      <td>Barking and Dagenham 002</td>\n",
       "      <td>1223</td>\n",
       "    </tr>\n",
       "    <tr>\n",
       "      <th>3</th>\n",
       "      <td>E02000004</td>\n",
       "      <td>Barking and Dagenham 003</td>\n",
       "      <td>391</td>\n",
       "    </tr>\n",
       "    <tr>\n",
       "      <th>4</th>\n",
       "      <td>E02000005</td>\n",
       "      <td>Barking and Dagenham 004</td>\n",
       "      <td>1079</td>\n",
       "    </tr>\n",
       "  </tbody>\n",
       "</table>\n",
       "</div>"
      ],
      "text/plain": [
       "    MSOA21CD                  MSOA21NM  total_crimes\n",
       "0  E02000001        City of London 001          6262\n",
       "1  E02000002  Barking and Dagenham 001           829\n",
       "2  E02000003  Barking and Dagenham 002          1223\n",
       "3  E02000004  Barking and Dagenham 003           391\n",
       "4  E02000005  Barking and Dagenham 004          1079"
      ]
     },
     "execution_count": 34,
     "metadata": {},
     "output_type": "execute_result"
    }
   ],
   "source": [
    "dctotal.head()"
   ]
  },
  {
   "cell_type": "code",
   "execution_count": 35,
   "id": "2c16353b-6c74-4f3b-96aa-248b614ca105",
   "metadata": {},
   "outputs": [
    {
     "name": "stdout",
     "output_type": "stream",
     "text": [
      "<class 'pandas.core.frame.DataFrame'>\n",
      "RangeIndex: 1002 entries, 0 to 1001\n",
      "Data columns (total 3 columns):\n",
      " #   Column        Non-Null Count  Dtype \n",
      "---  ------        --------------  ----- \n",
      " 0   MSOA21CD      1002 non-null   object\n",
      " 1   MSOA21NM      1002 non-null   object\n",
      " 2   total_crimes  1002 non-null   int64 \n",
      "dtypes: int64(1), object(2)\n",
      "memory usage: 23.6+ KB\n"
     ]
    }
   ],
   "source": [
    "dctotal.info()"
   ]
  },
  {
   "cell_type": "markdown",
   "id": "67390e94-63d6-4025-a23e-19f2c0e553d8",
   "metadata": {},
   "source": [
    "### Burglary"
   ]
  },
  {
   "cell_type": "code",
   "execution_count": 36,
   "id": "2a3ea535-e898-4185-a776-9a6dddf72daa",
   "metadata": {},
   "outputs": [],
   "source": [
    "dcbur = dc0.loc[dc0['Crime type'] == 'Burglary']"
   ]
  },
  {
   "cell_type": "code",
   "execution_count": 37,
   "id": "35593e7d-49b6-4bc8-831f-fe5c50718e34",
   "metadata": {},
   "outputs": [],
   "source": [
    "dcbur.reset_index(drop= True, inplace= True)"
   ]
  },
  {
   "cell_type": "code",
   "execution_count": 38,
   "id": "925bbc5f-5980-474a-8f4d-e29db6a1c8f5",
   "metadata": {},
   "outputs": [
    {
     "data": {
      "text/html": [
       "<div>\n",
       "<style scoped>\n",
       "    .dataframe tbody tr th:only-of-type {\n",
       "        vertical-align: middle;\n",
       "    }\n",
       "\n",
       "    .dataframe tbody tr th {\n",
       "        vertical-align: top;\n",
       "    }\n",
       "\n",
       "    .dataframe thead th {\n",
       "        text-align: right;\n",
       "    }\n",
       "</style>\n",
       "<table border=\"1\" class=\"dataframe\">\n",
       "  <thead>\n",
       "    <tr style=\"text-align: right;\">\n",
       "      <th></th>\n",
       "      <th>MSOA21CD</th>\n",
       "      <th>MSOA21NM</th>\n",
       "      <th>Crime type</th>\n",
       "      <th>counts</th>\n",
       "    </tr>\n",
       "  </thead>\n",
       "  <tbody>\n",
       "    <tr>\n",
       "      <th>0</th>\n",
       "      <td>E02000001</td>\n",
       "      <td>City of London 001</td>\n",
       "      <td>Burglary</td>\n",
       "      <td>191</td>\n",
       "    </tr>\n",
       "    <tr>\n",
       "      <th>1</th>\n",
       "      <td>E02000002</td>\n",
       "      <td>Barking and Dagenham 001</td>\n",
       "      <td>Burglary</td>\n",
       "      <td>34</td>\n",
       "    </tr>\n",
       "    <tr>\n",
       "      <th>2</th>\n",
       "      <td>E02000003</td>\n",
       "      <td>Barking and Dagenham 002</td>\n",
       "      <td>Burglary</td>\n",
       "      <td>72</td>\n",
       "    </tr>\n",
       "    <tr>\n",
       "      <th>3</th>\n",
       "      <td>E02000004</td>\n",
       "      <td>Barking and Dagenham 003</td>\n",
       "      <td>Burglary</td>\n",
       "      <td>17</td>\n",
       "    </tr>\n",
       "    <tr>\n",
       "      <th>4</th>\n",
       "      <td>E02000005</td>\n",
       "      <td>Barking and Dagenham 004</td>\n",
       "      <td>Burglary</td>\n",
       "      <td>66</td>\n",
       "    </tr>\n",
       "  </tbody>\n",
       "</table>\n",
       "</div>"
      ],
      "text/plain": [
       "    MSOA21CD                  MSOA21NM Crime type  counts\n",
       "0  E02000001        City of London 001   Burglary     191\n",
       "1  E02000002  Barking and Dagenham 001   Burglary      34\n",
       "2  E02000003  Barking and Dagenham 002   Burglary      72\n",
       "3  E02000004  Barking and Dagenham 003   Burglary      17\n",
       "4  E02000005  Barking and Dagenham 004   Burglary      66"
      ]
     },
     "execution_count": 38,
     "metadata": {},
     "output_type": "execute_result"
    }
   ],
   "source": [
    "dcbur.head()"
   ]
  },
  {
   "cell_type": "code",
   "execution_count": 39,
   "id": "0d2075b0-57e7-4b7d-b824-6a67621cfbc9",
   "metadata": {},
   "outputs": [
    {
     "name": "stdout",
     "output_type": "stream",
     "text": [
      "<class 'pandas.core.frame.DataFrame'>\n",
      "RangeIndex: 1002 entries, 0 to 1001\n",
      "Data columns (total 4 columns):\n",
      " #   Column      Non-Null Count  Dtype \n",
      "---  ------      --------------  ----- \n",
      " 0   MSOA21CD    1002 non-null   object\n",
      " 1   MSOA21NM    1002 non-null   object\n",
      " 2   Crime type  1002 non-null   object\n",
      " 3   counts      1002 non-null   int64 \n",
      "dtypes: int64(1), object(3)\n",
      "memory usage: 31.4+ KB\n"
     ]
    }
   ],
   "source": [
    "dcbur.info()"
   ]
  },
  {
   "cell_type": "code",
   "execution_count": 40,
   "id": "8c0b4ad9-b692-489c-af91-f75b4df485cb",
   "metadata": {},
   "outputs": [],
   "source": [
    "# To use in the other df\n",
    "\n",
    "dcb = dcbur[['MSOA21CD','counts']]"
   ]
  },
  {
   "cell_type": "code",
   "execution_count": 41,
   "id": "32c5aca7-07e9-415e-82d2-9f51a88a51aa",
   "metadata": {},
   "outputs": [
    {
     "name": "stderr",
     "output_type": "stream",
     "text": [
      "C:\\Users\\Ana Cuba\\AppData\\Local\\Temp\\ipykernel_17252\\1502791949.py:1: SettingWithCopyWarning: \n",
      "A value is trying to be set on a copy of a slice from a DataFrame\n",
      "\n",
      "See the caveats in the documentation: https://pandas.pydata.org/pandas-docs/stable/user_guide/indexing.html#returning-a-view-versus-a-copy\n",
      "  dcb.rename(columns= {'counts':'burglaries'}, inplace= True)\n"
     ]
    }
   ],
   "source": [
    "dcb.rename(columns= {'counts':'burglaries'}, inplace= True)"
   ]
  },
  {
   "cell_type": "code",
   "execution_count": 42,
   "id": "9b5d3e5a-bae0-4357-b8bc-b7daa0797149",
   "metadata": {},
   "outputs": [
    {
     "data": {
      "text/html": [
       "<div>\n",
       "<style scoped>\n",
       "    .dataframe tbody tr th:only-of-type {\n",
       "        vertical-align: middle;\n",
       "    }\n",
       "\n",
       "    .dataframe tbody tr th {\n",
       "        vertical-align: top;\n",
       "    }\n",
       "\n",
       "    .dataframe thead th {\n",
       "        text-align: right;\n",
       "    }\n",
       "</style>\n",
       "<table border=\"1\" class=\"dataframe\">\n",
       "  <thead>\n",
       "    <tr style=\"text-align: right;\">\n",
       "      <th></th>\n",
       "      <th>MSOA21CD</th>\n",
       "      <th>burglaries</th>\n",
       "    </tr>\n",
       "  </thead>\n",
       "  <tbody>\n",
       "    <tr>\n",
       "      <th>0</th>\n",
       "      <td>E02000001</td>\n",
       "      <td>191</td>\n",
       "    </tr>\n",
       "    <tr>\n",
       "      <th>1</th>\n",
       "      <td>E02000002</td>\n",
       "      <td>34</td>\n",
       "    </tr>\n",
       "    <tr>\n",
       "      <th>2</th>\n",
       "      <td>E02000003</td>\n",
       "      <td>72</td>\n",
       "    </tr>\n",
       "    <tr>\n",
       "      <th>3</th>\n",
       "      <td>E02000004</td>\n",
       "      <td>17</td>\n",
       "    </tr>\n",
       "    <tr>\n",
       "      <th>4</th>\n",
       "      <td>E02000005</td>\n",
       "      <td>66</td>\n",
       "    </tr>\n",
       "  </tbody>\n",
       "</table>\n",
       "</div>"
      ],
      "text/plain": [
       "    MSOA21CD  burglaries\n",
       "0  E02000001         191\n",
       "1  E02000002          34\n",
       "2  E02000003          72\n",
       "3  E02000004          17\n",
       "4  E02000005          66"
      ]
     },
     "execution_count": 42,
     "metadata": {},
     "output_type": "execute_result"
    }
   ],
   "source": [
    "dcb.head()"
   ]
  },
  {
   "cell_type": "markdown",
   "id": "aea02d4a-768c-4745-b7e7-90e13ded94a4",
   "metadata": {},
   "source": [
    "### Violence and sexual offences"
   ]
  },
  {
   "cell_type": "code",
   "execution_count": 43,
   "id": "3ae53778-187e-48d1-b9f4-e1be2a01c2f7",
   "metadata": {},
   "outputs": [],
   "source": [
    "dvso = dc0.loc[dc0['Crime type'] == 'Violence and sexual offences']"
   ]
  },
  {
   "cell_type": "code",
   "execution_count": 44,
   "id": "c4c7b9b5-f9d2-47f7-b3c2-4fa5a52d8e42",
   "metadata": {},
   "outputs": [],
   "source": [
    "dvso.reset_index(drop= True, inplace= True)"
   ]
  },
  {
   "cell_type": "code",
   "execution_count": 45,
   "id": "b746dcd4-6f02-4406-9817-079e32bf31dd",
   "metadata": {},
   "outputs": [
    {
     "data": {
      "text/html": [
       "<div>\n",
       "<style scoped>\n",
       "    .dataframe tbody tr th:only-of-type {\n",
       "        vertical-align: middle;\n",
       "    }\n",
       "\n",
       "    .dataframe tbody tr th {\n",
       "        vertical-align: top;\n",
       "    }\n",
       "\n",
       "    .dataframe thead th {\n",
       "        text-align: right;\n",
       "    }\n",
       "</style>\n",
       "<table border=\"1\" class=\"dataframe\">\n",
       "  <thead>\n",
       "    <tr style=\"text-align: right;\">\n",
       "      <th></th>\n",
       "      <th>MSOA21CD</th>\n",
       "      <th>MSOA21NM</th>\n",
       "      <th>Crime type</th>\n",
       "      <th>counts</th>\n",
       "    </tr>\n",
       "  </thead>\n",
       "  <tbody>\n",
       "    <tr>\n",
       "      <th>997</th>\n",
       "      <td>E02007111</td>\n",
       "      <td>Hackney 033</td>\n",
       "      <td>Violence and sexual offences</td>\n",
       "      <td>614</td>\n",
       "    </tr>\n",
       "    <tr>\n",
       "      <th>998</th>\n",
       "      <td>E02007112</td>\n",
       "      <td>Tower Hamlets 034</td>\n",
       "      <td>Violence and sexual offences</td>\n",
       "      <td>51</td>\n",
       "    </tr>\n",
       "    <tr>\n",
       "      <th>999</th>\n",
       "      <td>E02007113</td>\n",
       "      <td>Tower Hamlets 035</td>\n",
       "      <td>Violence and sexual offences</td>\n",
       "      <td>270</td>\n",
       "    </tr>\n",
       "    <tr>\n",
       "      <th>1000</th>\n",
       "      <td>E02007114</td>\n",
       "      <td>Tower Hamlets 036</td>\n",
       "      <td>Violence and sexual offences</td>\n",
       "      <td>151</td>\n",
       "    </tr>\n",
       "    <tr>\n",
       "      <th>1001</th>\n",
       "      <td>E02007115</td>\n",
       "      <td>Camden 029</td>\n",
       "      <td>Violence and sexual offences</td>\n",
       "      <td>418</td>\n",
       "    </tr>\n",
       "  </tbody>\n",
       "</table>\n",
       "</div>"
      ],
      "text/plain": [
       "       MSOA21CD           MSOA21NM                    Crime type  counts\n",
       "997   E02007111        Hackney 033  Violence and sexual offences     614\n",
       "998   E02007112  Tower Hamlets 034  Violence and sexual offences      51\n",
       "999   E02007113  Tower Hamlets 035  Violence and sexual offences     270\n",
       "1000  E02007114  Tower Hamlets 036  Violence and sexual offences     151\n",
       "1001  E02007115         Camden 029  Violence and sexual offences     418"
      ]
     },
     "execution_count": 45,
     "metadata": {},
     "output_type": "execute_result"
    }
   ],
   "source": [
    "dvso.tail()"
   ]
  },
  {
   "cell_type": "code",
   "execution_count": 46,
   "id": "b3fb0bfe-46e9-4c16-8a0e-42fde3121d08",
   "metadata": {},
   "outputs": [
    {
     "name": "stdout",
     "output_type": "stream",
     "text": [
      "<class 'pandas.core.frame.DataFrame'>\n",
      "RangeIndex: 1002 entries, 0 to 1001\n",
      "Data columns (total 4 columns):\n",
      " #   Column      Non-Null Count  Dtype \n",
      "---  ------      --------------  ----- \n",
      " 0   MSOA21CD    1002 non-null   object\n",
      " 1   MSOA21NM    1002 non-null   object\n",
      " 2   Crime type  1002 non-null   object\n",
      " 3   counts      1002 non-null   int64 \n",
      "dtypes: int64(1), object(3)\n",
      "memory usage: 31.4+ KB\n"
     ]
    }
   ],
   "source": [
    "dvso.info()"
   ]
  },
  {
   "cell_type": "code",
   "execution_count": 47,
   "id": "033bcd21-368c-4b6f-8162-c2fb491873ee",
   "metadata": {},
   "outputs": [],
   "source": [
    "# To use in the other df\n",
    "\n",
    "dcvs = dvso[['MSOA21CD','counts']]"
   ]
  },
  {
   "cell_type": "code",
   "execution_count": 48,
   "id": "a14defe5-34ee-4b7d-a169-140cd92e553e",
   "metadata": {},
   "outputs": [
    {
     "name": "stderr",
     "output_type": "stream",
     "text": [
      "C:\\Users\\Ana Cuba\\AppData\\Local\\Temp\\ipykernel_17252\\3132697462.py:1: SettingWithCopyWarning: \n",
      "A value is trying to be set on a copy of a slice from a DataFrame\n",
      "\n",
      "See the caveats in the documentation: https://pandas.pydata.org/pandas-docs/stable/user_guide/indexing.html#returning-a-view-versus-a-copy\n",
      "  dcvs.rename(columns= {'counts':'VSO'}, inplace= True)\n"
     ]
    }
   ],
   "source": [
    "dcvs.rename(columns= {'counts':'VSO'}, inplace= True)"
   ]
  },
  {
   "cell_type": "code",
   "execution_count": 49,
   "id": "15fd3896-c551-43fc-9f0c-db30eb229d3e",
   "metadata": {},
   "outputs": [
    {
     "data": {
      "text/html": [
       "<div>\n",
       "<style scoped>\n",
       "    .dataframe tbody tr th:only-of-type {\n",
       "        vertical-align: middle;\n",
       "    }\n",
       "\n",
       "    .dataframe tbody tr th {\n",
       "        vertical-align: top;\n",
       "    }\n",
       "\n",
       "    .dataframe thead th {\n",
       "        text-align: right;\n",
       "    }\n",
       "</style>\n",
       "<table border=\"1\" class=\"dataframe\">\n",
       "  <thead>\n",
       "    <tr style=\"text-align: right;\">\n",
       "      <th></th>\n",
       "      <th>MSOA21CD</th>\n",
       "      <th>VSO</th>\n",
       "    </tr>\n",
       "  </thead>\n",
       "  <tbody>\n",
       "    <tr>\n",
       "      <th>0</th>\n",
       "      <td>E02000001</td>\n",
       "      <td>1027</td>\n",
       "    </tr>\n",
       "    <tr>\n",
       "      <th>1</th>\n",
       "      <td>E02000002</td>\n",
       "      <td>260</td>\n",
       "    </tr>\n",
       "    <tr>\n",
       "      <th>2</th>\n",
       "      <td>E02000003</td>\n",
       "      <td>309</td>\n",
       "    </tr>\n",
       "    <tr>\n",
       "      <th>3</th>\n",
       "      <td>E02000004</td>\n",
       "      <td>156</td>\n",
       "    </tr>\n",
       "    <tr>\n",
       "      <th>4</th>\n",
       "      <td>E02000005</td>\n",
       "      <td>269</td>\n",
       "    </tr>\n",
       "  </tbody>\n",
       "</table>\n",
       "</div>"
      ],
      "text/plain": [
       "    MSOA21CD   VSO\n",
       "0  E02000001  1027\n",
       "1  E02000002   260\n",
       "2  E02000003   309\n",
       "3  E02000004   156\n",
       "4  E02000005   269"
      ]
     },
     "execution_count": 49,
     "metadata": {},
     "output_type": "execute_result"
    }
   ],
   "source": [
    "dcvs.head()"
   ]
  },
  {
   "cell_type": "markdown",
   "id": "4e6b3f12-d934-454a-b0f3-eeb3d38f4b69",
   "metadata": {},
   "source": [
    "### Anti-social behaviour"
   ]
  },
  {
   "cell_type": "code",
   "execution_count": 50,
   "id": "d4ff7195-ed98-4a9b-bb0a-f354454c8172",
   "metadata": {},
   "outputs": [],
   "source": [
    "dasb = (dc0.loc[dc0['Crime type'] == 'Anti-social behaviour']).reset_index(drop= True)"
   ]
  },
  {
   "cell_type": "code",
   "execution_count": 51,
   "id": "9d8af44f-b363-4273-976f-41ef5c03a38a",
   "metadata": {},
   "outputs": [
    {
     "data": {
      "text/html": [
       "<div>\n",
       "<style scoped>\n",
       "    .dataframe tbody tr th:only-of-type {\n",
       "        vertical-align: middle;\n",
       "    }\n",
       "\n",
       "    .dataframe tbody tr th {\n",
       "        vertical-align: top;\n",
       "    }\n",
       "\n",
       "    .dataframe thead th {\n",
       "        text-align: right;\n",
       "    }\n",
       "</style>\n",
       "<table border=\"1\" class=\"dataframe\">\n",
       "  <thead>\n",
       "    <tr style=\"text-align: right;\">\n",
       "      <th></th>\n",
       "      <th>MSOA21CD</th>\n",
       "      <th>MSOA21NM</th>\n",
       "      <th>Crime type</th>\n",
       "      <th>counts</th>\n",
       "    </tr>\n",
       "  </thead>\n",
       "  <tbody>\n",
       "    <tr>\n",
       "      <th>997</th>\n",
       "      <td>E02007111</td>\n",
       "      <td>Hackney 033</td>\n",
       "      <td>Anti-social behaviour</td>\n",
       "      <td>810</td>\n",
       "    </tr>\n",
       "    <tr>\n",
       "      <th>998</th>\n",
       "      <td>E02007112</td>\n",
       "      <td>Tower Hamlets 034</td>\n",
       "      <td>Anti-social behaviour</td>\n",
       "      <td>90</td>\n",
       "    </tr>\n",
       "    <tr>\n",
       "      <th>999</th>\n",
       "      <td>E02007113</td>\n",
       "      <td>Tower Hamlets 035</td>\n",
       "      <td>Anti-social behaviour</td>\n",
       "      <td>560</td>\n",
       "    </tr>\n",
       "    <tr>\n",
       "      <th>1000</th>\n",
       "      <td>E02007114</td>\n",
       "      <td>Tower Hamlets 036</td>\n",
       "      <td>Anti-social behaviour</td>\n",
       "      <td>275</td>\n",
       "    </tr>\n",
       "    <tr>\n",
       "      <th>1001</th>\n",
       "      <td>E02007115</td>\n",
       "      <td>Camden 029</td>\n",
       "      <td>Anti-social behaviour</td>\n",
       "      <td>760</td>\n",
       "    </tr>\n",
       "  </tbody>\n",
       "</table>\n",
       "</div>"
      ],
      "text/plain": [
       "       MSOA21CD           MSOA21NM             Crime type  counts\n",
       "997   E02007111        Hackney 033  Anti-social behaviour     810\n",
       "998   E02007112  Tower Hamlets 034  Anti-social behaviour      90\n",
       "999   E02007113  Tower Hamlets 035  Anti-social behaviour     560\n",
       "1000  E02007114  Tower Hamlets 036  Anti-social behaviour     275\n",
       "1001  E02007115         Camden 029  Anti-social behaviour     760"
      ]
     },
     "execution_count": 51,
     "metadata": {},
     "output_type": "execute_result"
    }
   ],
   "source": [
    "dasb.tail()"
   ]
  },
  {
   "cell_type": "code",
   "execution_count": 52,
   "id": "9ba7d68b-84d1-42e4-925b-931e57075ba6",
   "metadata": {},
   "outputs": [
    {
     "name": "stdout",
     "output_type": "stream",
     "text": [
      "<class 'pandas.core.frame.DataFrame'>\n",
      "RangeIndex: 1002 entries, 0 to 1001\n",
      "Data columns (total 4 columns):\n",
      " #   Column      Non-Null Count  Dtype \n",
      "---  ------      --------------  ----- \n",
      " 0   MSOA21CD    1002 non-null   object\n",
      " 1   MSOA21NM    1002 non-null   object\n",
      " 2   Crime type  1002 non-null   object\n",
      " 3   counts      1002 non-null   int64 \n",
      "dtypes: int64(1), object(3)\n",
      "memory usage: 31.4+ KB\n"
     ]
    }
   ],
   "source": [
    "dasb.info()"
   ]
  },
  {
   "cell_type": "code",
   "execution_count": 53,
   "id": "c72a67bb-0cc2-4de9-be6a-e533b5080709",
   "metadata": {},
   "outputs": [],
   "source": [
    "# To use in the other df\n",
    "\n",
    "dca = dasb[['MSOA21CD','counts']]"
   ]
  },
  {
   "cell_type": "code",
   "execution_count": 54,
   "id": "69273ed7-a6d4-466f-ba78-8a7f8d062c38",
   "metadata": {},
   "outputs": [
    {
     "name": "stderr",
     "output_type": "stream",
     "text": [
      "C:\\Users\\Ana Cuba\\AppData\\Local\\Temp\\ipykernel_17252\\4186639073.py:1: SettingWithCopyWarning: \n",
      "A value is trying to be set on a copy of a slice from a DataFrame\n",
      "\n",
      "See the caveats in the documentation: https://pandas.pydata.org/pandas-docs/stable/user_guide/indexing.html#returning-a-view-versus-a-copy\n",
      "  dca.rename(columns= {'counts':'ASB'}, inplace= True)\n"
     ]
    }
   ],
   "source": [
    "dca.rename(columns= {'counts':'ASB'}, inplace= True)"
   ]
  },
  {
   "cell_type": "code",
   "execution_count": 55,
   "id": "529195f8-4764-49fc-8ec4-fa6b5e984e57",
   "metadata": {},
   "outputs": [
    {
     "data": {
      "text/html": [
       "<div>\n",
       "<style scoped>\n",
       "    .dataframe tbody tr th:only-of-type {\n",
       "        vertical-align: middle;\n",
       "    }\n",
       "\n",
       "    .dataframe tbody tr th {\n",
       "        vertical-align: top;\n",
       "    }\n",
       "\n",
       "    .dataframe thead th {\n",
       "        text-align: right;\n",
       "    }\n",
       "</style>\n",
       "<table border=\"1\" class=\"dataframe\">\n",
       "  <thead>\n",
       "    <tr style=\"text-align: right;\">\n",
       "      <th></th>\n",
       "      <th>MSOA21CD</th>\n",
       "      <th>ASB</th>\n",
       "    </tr>\n",
       "  </thead>\n",
       "  <tbody>\n",
       "    <tr>\n",
       "      <th>0</th>\n",
       "      <td>E02000001</td>\n",
       "      <td>1006</td>\n",
       "    </tr>\n",
       "    <tr>\n",
       "      <th>1</th>\n",
       "      <td>E02000002</td>\n",
       "      <td>210</td>\n",
       "    </tr>\n",
       "    <tr>\n",
       "      <th>2</th>\n",
       "      <td>E02000003</td>\n",
       "      <td>335</td>\n",
       "    </tr>\n",
       "    <tr>\n",
       "      <th>3</th>\n",
       "      <td>E02000004</td>\n",
       "      <td>76</td>\n",
       "    </tr>\n",
       "    <tr>\n",
       "      <th>4</th>\n",
       "      <td>E02000005</td>\n",
       "      <td>291</td>\n",
       "    </tr>\n",
       "  </tbody>\n",
       "</table>\n",
       "</div>"
      ],
      "text/plain": [
       "    MSOA21CD   ASB\n",
       "0  E02000001  1006\n",
       "1  E02000002   210\n",
       "2  E02000003   335\n",
       "3  E02000004    76\n",
       "4  E02000005   291"
      ]
     },
     "execution_count": 55,
     "metadata": {},
     "output_type": "execute_result"
    }
   ],
   "source": [
    "dca.head()"
   ]
  },
  {
   "cell_type": "markdown",
   "id": "66257c2e-1521-4000-8177-9ca57f20d558",
   "metadata": {},
   "source": [
    "## New crimes counts dataframe"
   ]
  },
  {
   "cell_type": "code",
   "execution_count": 56,
   "id": "63072cb3-b74e-4665-8776-28343536768b",
   "metadata": {},
   "outputs": [],
   "source": [
    "ndc = dctotal.merge(dcb, on= 'MSOA21CD') "
   ]
  },
  {
   "cell_type": "code",
   "execution_count": 57,
   "id": "67da0694-584f-4743-b245-c3871df8a641",
   "metadata": {},
   "outputs": [],
   "source": [
    "ndc = ndc.merge(dcvs, on= 'MSOA21CD')"
   ]
  },
  {
   "cell_type": "code",
   "execution_count": 58,
   "id": "affb0eb3-216e-496a-9054-0a0198099c14",
   "metadata": {},
   "outputs": [],
   "source": [
    "ndc = ndc.merge(dca, on= 'MSOA21CD')"
   ]
  },
  {
   "cell_type": "code",
   "execution_count": 59,
   "id": "299152d3-61dd-4311-b43b-58ba9147e3b7",
   "metadata": {},
   "outputs": [
    {
     "data": {
      "text/html": [
       "<div>\n",
       "<style scoped>\n",
       "    .dataframe tbody tr th:only-of-type {\n",
       "        vertical-align: middle;\n",
       "    }\n",
       "\n",
       "    .dataframe tbody tr th {\n",
       "        vertical-align: top;\n",
       "    }\n",
       "\n",
       "    .dataframe thead th {\n",
       "        text-align: right;\n",
       "    }\n",
       "</style>\n",
       "<table border=\"1\" class=\"dataframe\">\n",
       "  <thead>\n",
       "    <tr style=\"text-align: right;\">\n",
       "      <th></th>\n",
       "      <th>MSOA21CD</th>\n",
       "      <th>MSOA21NM</th>\n",
       "      <th>total_crimes</th>\n",
       "      <th>burglaries</th>\n",
       "      <th>VSO</th>\n",
       "      <th>ASB</th>\n",
       "    </tr>\n",
       "  </thead>\n",
       "  <tbody>\n",
       "    <tr>\n",
       "      <th>0</th>\n",
       "      <td>E02000001</td>\n",
       "      <td>City of London 001</td>\n",
       "      <td>6262</td>\n",
       "      <td>191</td>\n",
       "      <td>1027</td>\n",
       "      <td>1006</td>\n",
       "    </tr>\n",
       "    <tr>\n",
       "      <th>1</th>\n",
       "      <td>E02000002</td>\n",
       "      <td>Barking and Dagenham 001</td>\n",
       "      <td>829</td>\n",
       "      <td>34</td>\n",
       "      <td>260</td>\n",
       "      <td>210</td>\n",
       "    </tr>\n",
       "    <tr>\n",
       "      <th>2</th>\n",
       "      <td>E02000003</td>\n",
       "      <td>Barking and Dagenham 002</td>\n",
       "      <td>1223</td>\n",
       "      <td>72</td>\n",
       "      <td>309</td>\n",
       "      <td>335</td>\n",
       "    </tr>\n",
       "    <tr>\n",
       "      <th>3</th>\n",
       "      <td>E02000004</td>\n",
       "      <td>Barking and Dagenham 003</td>\n",
       "      <td>391</td>\n",
       "      <td>17</td>\n",
       "      <td>156</td>\n",
       "      <td>76</td>\n",
       "    </tr>\n",
       "    <tr>\n",
       "      <th>4</th>\n",
       "      <td>E02000005</td>\n",
       "      <td>Barking and Dagenham 004</td>\n",
       "      <td>1079</td>\n",
       "      <td>66</td>\n",
       "      <td>269</td>\n",
       "      <td>291</td>\n",
       "    </tr>\n",
       "  </tbody>\n",
       "</table>\n",
       "</div>"
      ],
      "text/plain": [
       "    MSOA21CD                  MSOA21NM  total_crimes  burglaries   VSO   ASB\n",
       "0  E02000001        City of London 001          6262         191  1027  1006\n",
       "1  E02000002  Barking and Dagenham 001           829          34   260   210\n",
       "2  E02000003  Barking and Dagenham 002          1223          72   309   335\n",
       "3  E02000004  Barking and Dagenham 003           391          17   156    76\n",
       "4  E02000005  Barking and Dagenham 004          1079          66   269   291"
      ]
     },
     "execution_count": 59,
     "metadata": {},
     "output_type": "execute_result"
    }
   ],
   "source": [
    "ndc.head()"
   ]
  },
  {
   "cell_type": "code",
   "execution_count": 60,
   "id": "fde42a6c-3f70-4abb-a4f0-055ddaced86e",
   "metadata": {},
   "outputs": [
    {
     "name": "stdout",
     "output_type": "stream",
     "text": [
      "<class 'pandas.core.frame.DataFrame'>\n",
      "RangeIndex: 1002 entries, 0 to 1001\n",
      "Data columns (total 6 columns):\n",
      " #   Column        Non-Null Count  Dtype \n",
      "---  ------        --------------  ----- \n",
      " 0   MSOA21CD      1002 non-null   object\n",
      " 1   MSOA21NM      1002 non-null   object\n",
      " 2   total_crimes  1002 non-null   int64 \n",
      " 3   burglaries    1002 non-null   int64 \n",
      " 4   VSO           1002 non-null   int64 \n",
      " 5   ASB           1002 non-null   int64 \n",
      "dtypes: int64(4), object(2)\n",
      "memory usage: 47.1+ KB\n"
     ]
    }
   ],
   "source": [
    "ndc.info()"
   ]
  },
  {
   "cell_type": "code",
   "execution_count": 61,
   "id": "10319561-46ce-4a67-a86c-614314202577",
   "metadata": {},
   "outputs": [
    {
     "data": {
      "text/plain": [
       "<Axes: >"
      ]
     },
     "execution_count": 61,
     "metadata": {},
     "output_type": "execute_result"
    },
    {
     "data": {
      "image/png": "[encoded data removed]",
      "text/plain": [
       "<Figure size 600x600 with 1 Axes>"
      ]
     },
     "metadata": {},
     "output_type": "display_data"
    }
   ],
   "source": [
    "fig, axes = plt.subplots(figsize=(6,6))\n",
    "sns.boxplot(ndc)"
   ]
  },
  {
   "cell_type": "markdown",
   "id": "06e8be1d-a349-4e86-ad7b-5ad03ab81c4e",
   "metadata": {},
   "source": [
    "## Crime rates"
   ]
  },
  {
   "cell_type": "code",
   "execution_count": 62,
   "id": "7337e677-465e-403f-affc-f6a843703ba2",
   "metadata": {},
   "outputs": [],
   "source": [
    "dpop = pd.read_csv('est-population-2021.csv')"
   ]
  },
  {
   "cell_type": "code",
   "execution_count": 63,
   "id": "2b4551f2-3822-4491-a4bd-b1a2e6f4c713",
   "metadata": {},
   "outputs": [
    {
     "data": {
      "text/html": [
       "<div>\n",
       "<style scoped>\n",
       "    .dataframe tbody tr th:only-of-type {\n",
       "        vertical-align: middle;\n",
       "    }\n",
       "\n",
       "    .dataframe tbody tr th {\n",
       "        vertical-align: top;\n",
       "    }\n",
       "\n",
       "    .dataframe thead th {\n",
       "        text-align: right;\n",
       "    }\n",
       "</style>\n",
       "<table border=\"1\" class=\"dataframe\">\n",
       "  <thead>\n",
       "    <tr style=\"text-align: right;\">\n",
       "      <th></th>\n",
       "      <th>MSOA 2021 Code</th>\n",
       "      <th>Total</th>\n",
       "    </tr>\n",
       "  </thead>\n",
       "  <tbody>\n",
       "    <tr>\n",
       "      <th>0</th>\n",
       "      <td>E02000001</td>\n",
       "      <td>8689</td>\n",
       "    </tr>\n",
       "    <tr>\n",
       "      <th>1</th>\n",
       "      <td>E02000002</td>\n",
       "      <td>8366</td>\n",
       "    </tr>\n",
       "    <tr>\n",
       "      <th>2</th>\n",
       "      <td>E02000003</td>\n",
       "      <td>11588</td>\n",
       "    </tr>\n",
       "    <tr>\n",
       "      <th>3</th>\n",
       "      <td>E02000004</td>\n",
       "      <td>6767</td>\n",
       "    </tr>\n",
       "    <tr>\n",
       "      <th>4</th>\n",
       "      <td>E02000005</td>\n",
       "      <td>11070</td>\n",
       "    </tr>\n",
       "  </tbody>\n",
       "</table>\n",
       "</div>"
      ],
      "text/plain": [
       "  MSOA 2021 Code  Total\n",
       "0      E02000001   8689\n",
       "1      E02000002   8366\n",
       "2      E02000003  11588\n",
       "3      E02000004   6767\n",
       "4      E02000005  11070"
      ]
     },
     "execution_count": 63,
     "metadata": {},
     "output_type": "execute_result"
    }
   ],
   "source": [
    "dpop.head()"
   ]
  },
  {
   "cell_type": "code",
   "execution_count": 64,
   "id": "a5ab3281-2503-40d5-973a-98c40827472b",
   "metadata": {},
   "outputs": [
    {
     "name": "stdout",
     "output_type": "stream",
     "text": [
      "<class 'pandas.core.frame.DataFrame'>\n",
      "RangeIndex: 1002 entries, 0 to 1001\n",
      "Data columns (total 2 columns):\n",
      " #   Column          Non-Null Count  Dtype \n",
      "---  ------          --------------  ----- \n",
      " 0   MSOA 2021 Code  1002 non-null   object\n",
      " 1   Total           1002 non-null   int64 \n",
      "dtypes: int64(1), object(1)\n",
      "memory usage: 15.8+ KB\n"
     ]
    }
   ],
   "source": [
    "dpop.info()"
   ]
  },
  {
   "cell_type": "code",
   "execution_count": 65,
   "id": "21d964bf-4214-482a-9661-ccca636b12a2",
   "metadata": {},
   "outputs": [],
   "source": [
    "dpop.rename(columns= {'MSOA 2021 Code':'MSOA21CD', 'Total':'EstPop'}, inplace= True)"
   ]
  },
  {
   "cell_type": "code",
   "execution_count": 66,
   "id": "21adb897-57f2-443b-a4c8-3fef5623a115",
   "metadata": {},
   "outputs": [
    {
     "data": {
      "text/html": [
       "<div>\n",
       "<style scoped>\n",
       "    .dataframe tbody tr th:only-of-type {\n",
       "        vertical-align: middle;\n",
       "    }\n",
       "\n",
       "    .dataframe tbody tr th {\n",
       "        vertical-align: top;\n",
       "    }\n",
       "\n",
       "    .dataframe thead th {\n",
       "        text-align: right;\n",
       "    }\n",
       "</style>\n",
       "<table border=\"1\" class=\"dataframe\">\n",
       "  <thead>\n",
       "    <tr style=\"text-align: right;\">\n",
       "      <th></th>\n",
       "      <th>MSOA21CD</th>\n",
       "      <th>EstPop</th>\n",
       "    </tr>\n",
       "  </thead>\n",
       "  <tbody>\n",
       "    <tr>\n",
       "      <th>0</th>\n",
       "      <td>E02000001</td>\n",
       "      <td>8689</td>\n",
       "    </tr>\n",
       "    <tr>\n",
       "      <th>1</th>\n",
       "      <td>E02000002</td>\n",
       "      <td>8366</td>\n",
       "    </tr>\n",
       "    <tr>\n",
       "      <th>2</th>\n",
       "      <td>E02000003</td>\n",
       "      <td>11588</td>\n",
       "    </tr>\n",
       "    <tr>\n",
       "      <th>3</th>\n",
       "      <td>E02000004</td>\n",
       "      <td>6767</td>\n",
       "    </tr>\n",
       "    <tr>\n",
       "      <th>4</th>\n",
       "      <td>E02000005</td>\n",
       "      <td>11070</td>\n",
       "    </tr>\n",
       "  </tbody>\n",
       "</table>\n",
       "</div>"
      ],
      "text/plain": [
       "    MSOA21CD  EstPop\n",
       "0  E02000001    8689\n",
       "1  E02000002    8366\n",
       "2  E02000003   11588\n",
       "3  E02000004    6767\n",
       "4  E02000005   11070"
      ]
     },
     "execution_count": 66,
     "metadata": {},
     "output_type": "execute_result"
    }
   ],
   "source": [
    "dpop.head()"
   ]
  },
  {
   "cell_type": "code",
   "execution_count": 67,
   "id": "dba85d19-761c-4284-8735-69c7be09991c",
   "metadata": {},
   "outputs": [],
   "source": [
    "ndc2 = ndc.merge(dpop, on= 'MSOA21CD')"
   ]
  },
  {
   "cell_type": "code",
   "execution_count": 68,
   "id": "67e809d0-c964-4c1e-a0d1-38723cdee422",
   "metadata": {},
   "outputs": [
    {
     "data": {
      "text/html": [
       "<div>\n",
       "<style scoped>\n",
       "    .dataframe tbody tr th:only-of-type {\n",
       "        vertical-align: middle;\n",
       "    }\n",
       "\n",
       "    .dataframe tbody tr th {\n",
       "        vertical-align: top;\n",
       "    }\n",
       "\n",
       "    .dataframe thead th {\n",
       "        text-align: right;\n",
       "    }\n",
       "</style>\n",
       "<table border=\"1\" class=\"dataframe\">\n",
       "  <thead>\n",
       "    <tr style=\"text-align: right;\">\n",
       "      <th></th>\n",
       "      <th>MSOA21CD</th>\n",
       "      <th>MSOA21NM</th>\n",
       "      <th>total_crimes</th>\n",
       "      <th>burglaries</th>\n",
       "      <th>VSO</th>\n",
       "      <th>ASB</th>\n",
       "      <th>EstPop</th>\n",
       "    </tr>\n",
       "  </thead>\n",
       "  <tbody>\n",
       "    <tr>\n",
       "      <th>0</th>\n",
       "      <td>E02000001</td>\n",
       "      <td>City of London 001</td>\n",
       "      <td>6262</td>\n",
       "      <td>191</td>\n",
       "      <td>1027</td>\n",
       "      <td>1006</td>\n",
       "      <td>8689</td>\n",
       "    </tr>\n",
       "    <tr>\n",
       "      <th>1</th>\n",
       "      <td>E02000002</td>\n",
       "      <td>Barking and Dagenham 001</td>\n",
       "      <td>829</td>\n",
       "      <td>34</td>\n",
       "      <td>260</td>\n",
       "      <td>210</td>\n",
       "      <td>8366</td>\n",
       "    </tr>\n",
       "    <tr>\n",
       "      <th>2</th>\n",
       "      <td>E02000003</td>\n",
       "      <td>Barking and Dagenham 002</td>\n",
       "      <td>1223</td>\n",
       "      <td>72</td>\n",
       "      <td>309</td>\n",
       "      <td>335</td>\n",
       "      <td>11588</td>\n",
       "    </tr>\n",
       "    <tr>\n",
       "      <th>3</th>\n",
       "      <td>E02000004</td>\n",
       "      <td>Barking and Dagenham 003</td>\n",
       "      <td>391</td>\n",
       "      <td>17</td>\n",
       "      <td>156</td>\n",
       "      <td>76</td>\n",
       "      <td>6767</td>\n",
       "    </tr>\n",
       "    <tr>\n",
       "      <th>4</th>\n",
       "      <td>E02000005</td>\n",
       "      <td>Barking and Dagenham 004</td>\n",
       "      <td>1079</td>\n",
       "      <td>66</td>\n",
       "      <td>269</td>\n",
       "      <td>291</td>\n",
       "      <td>11070</td>\n",
       "    </tr>\n",
       "  </tbody>\n",
       "</table>\n",
       "</div>"
      ],
      "text/plain": [
       "    MSOA21CD                  MSOA21NM  total_crimes  burglaries   VSO   ASB  \\\n",
       "0  E02000001        City of London 001          6262         191  1027  1006   \n",
       "1  E02000002  Barking and Dagenham 001           829          34   260   210   \n",
       "2  E02000003  Barking and Dagenham 002          1223          72   309   335   \n",
       "3  E02000004  Barking and Dagenham 003           391          17   156    76   \n",
       "4  E02000005  Barking and Dagenham 004          1079          66   269   291   \n",
       "\n",
       "   EstPop  \n",
       "0    8689  \n",
       "1    8366  \n",
       "2   11588  \n",
       "3    6767  \n",
       "4   11070  "
      ]
     },
     "execution_count": 68,
     "metadata": {},
     "output_type": "execute_result"
    }
   ],
   "source": [
    "ndc2.head()"
   ]
  },
  {
   "cell_type": "code",
   "execution_count": 69,
   "id": "0aca1457-e086-4aef-800f-17278fe53476",
   "metadata": {},
   "outputs": [
    {
     "name": "stdout",
     "output_type": "stream",
     "text": [
      "<class 'pandas.core.frame.DataFrame'>\n",
      "RangeIndex: 1002 entries, 0 to 1001\n",
      "Data columns (total 7 columns):\n",
      " #   Column        Non-Null Count  Dtype \n",
      "---  ------        --------------  ----- \n",
      " 0   MSOA21CD      1002 non-null   object\n",
      " 1   MSOA21NM      1002 non-null   object\n",
      " 2   total_crimes  1002 non-null   int64 \n",
      " 3   burglaries    1002 non-null   int64 \n",
      " 4   VSO           1002 non-null   int64 \n",
      " 5   ASB           1002 non-null   int64 \n",
      " 6   EstPop        1002 non-null   int64 \n",
      "dtypes: int64(5), object(2)\n",
      "memory usage: 54.9+ KB\n"
     ]
    }
   ],
   "source": [
    "ndc2.info()"
   ]
  },
  {
   "cell_type": "code",
   "execution_count": 70,
   "id": "115502df-50ef-41a3-a0c3-4257ae46c14c",
   "metadata": {},
   "outputs": [],
   "source": [
    "dwe = pd.read_csv('total_dwellings.csv')"
   ]
  },
  {
   "cell_type": "code",
   "execution_count": 71,
   "id": "6cb60a24-6f0a-4c22-b161-37e1a7b5385a",
   "metadata": {},
   "outputs": [
    {
     "data": {
      "text/html": [
       "<div>\n",
       "<style scoped>\n",
       "    .dataframe tbody tr th:only-of-type {\n",
       "        vertical-align: middle;\n",
       "    }\n",
       "\n",
       "    .dataframe tbody tr th {\n",
       "        vertical-align: top;\n",
       "    }\n",
       "\n",
       "    .dataframe thead th {\n",
       "        text-align: right;\n",
       "    }\n",
       "</style>\n",
       "<table border=\"1\" class=\"dataframe\">\n",
       "  <thead>\n",
       "    <tr style=\"text-align: right;\">\n",
       "      <th></th>\n",
       "      <th>MSOA21CD</th>\n",
       "      <th>Dwellings</th>\n",
       "    </tr>\n",
       "  </thead>\n",
       "  <tbody>\n",
       "    <tr>\n",
       "      <th>0</th>\n",
       "      <td>E02000002</td>\n",
       "      <td>2951.0</td>\n",
       "    </tr>\n",
       "    <tr>\n",
       "      <th>1</th>\n",
       "      <td>E02000003</td>\n",
       "      <td>4111.0</td>\n",
       "    </tr>\n",
       "    <tr>\n",
       "      <th>2</th>\n",
       "      <td>E02000004</td>\n",
       "      <td>2388.0</td>\n",
       "    </tr>\n",
       "    <tr>\n",
       "      <th>3</th>\n",
       "      <td>E02000005</td>\n",
       "      <td>3769.0</td>\n",
       "    </tr>\n",
       "    <tr>\n",
       "      <th>4</th>\n",
       "      <td>E02000007</td>\n",
       "      <td>3797.0</td>\n",
       "    </tr>\n",
       "  </tbody>\n",
       "</table>\n",
       "</div>"
      ],
      "text/plain": [
       "    MSOA21CD  Dwellings\n",
       "0  E02000002     2951.0\n",
       "1  E02000003     4111.0\n",
       "2  E02000004     2388.0\n",
       "3  E02000005     3769.0\n",
       "4  E02000007     3797.0"
      ]
     },
     "execution_count": 71,
     "metadata": {},
     "output_type": "execute_result"
    }
   ],
   "source": [
    "dwe.head()"
   ]
  },
  {
   "cell_type": "code",
   "execution_count": 72,
   "id": "a0d65fce-81de-477a-8c98-d047fad6e4c2",
   "metadata": {},
   "outputs": [
    {
     "name": "stdout",
     "output_type": "stream",
     "text": [
      "<class 'pandas.core.frame.DataFrame'>\n",
      "RangeIndex: 1009 entries, 0 to 1008\n",
      "Data columns (total 2 columns):\n",
      " #   Column     Non-Null Count  Dtype  \n",
      "---  ------     --------------  -----  \n",
      " 0   MSOA21CD   1006 non-null   object \n",
      " 1   Dwellings  1002 non-null   float64\n",
      "dtypes: float64(1), object(1)\n",
      "memory usage: 15.9+ KB\n"
     ]
    }
   ],
   "source": [
    "dwe.info()"
   ]
  },
  {
   "cell_type": "code",
   "execution_count": 73,
   "id": "35432b7b-18d6-45e4-afdd-948f0df30b78",
   "metadata": {},
   "outputs": [],
   "source": [
    "ndc3 = ndc2.merge(dwe, on= 'MSOA21CD')"
   ]
  },
  {
   "cell_type": "code",
   "execution_count": 74,
   "id": "c9f91f1e-c570-4a24-a196-88bd37862665",
   "metadata": {},
   "outputs": [
    {
     "data": {
      "text/html": [
       "<div>\n",
       "<style scoped>\n",
       "    .dataframe tbody tr th:only-of-type {\n",
       "        vertical-align: middle;\n",
       "    }\n",
       "\n",
       "    .dataframe tbody tr th {\n",
       "        vertical-align: top;\n",
       "    }\n",
       "\n",
       "    .dataframe thead th {\n",
       "        text-align: right;\n",
       "    }\n",
       "</style>\n",
       "<table border=\"1\" class=\"dataframe\">\n",
       "  <thead>\n",
       "    <tr style=\"text-align: right;\">\n",
       "      <th></th>\n",
       "      <th>MSOA21CD</th>\n",
       "      <th>MSOA21NM</th>\n",
       "      <th>total_crimes</th>\n",
       "      <th>burglaries</th>\n",
       "      <th>VSO</th>\n",
       "      <th>ASB</th>\n",
       "      <th>EstPop</th>\n",
       "      <th>Dwellings</th>\n",
       "    </tr>\n",
       "  </thead>\n",
       "  <tbody>\n",
       "    <tr>\n",
       "      <th>0</th>\n",
       "      <td>E02000001</td>\n",
       "      <td>City of London 001</td>\n",
       "      <td>6262</td>\n",
       "      <td>191</td>\n",
       "      <td>1027</td>\n",
       "      <td>1006</td>\n",
       "      <td>8689</td>\n",
       "      <td>7323.0</td>\n",
       "    </tr>\n",
       "    <tr>\n",
       "      <th>1</th>\n",
       "      <td>E02000002</td>\n",
       "      <td>Barking and Dagenham 001</td>\n",
       "      <td>829</td>\n",
       "      <td>34</td>\n",
       "      <td>260</td>\n",
       "      <td>210</td>\n",
       "      <td>8366</td>\n",
       "      <td>2951.0</td>\n",
       "    </tr>\n",
       "    <tr>\n",
       "      <th>2</th>\n",
       "      <td>E02000003</td>\n",
       "      <td>Barking and Dagenham 002</td>\n",
       "      <td>1223</td>\n",
       "      <td>72</td>\n",
       "      <td>309</td>\n",
       "      <td>335</td>\n",
       "      <td>11588</td>\n",
       "      <td>4111.0</td>\n",
       "    </tr>\n",
       "    <tr>\n",
       "      <th>3</th>\n",
       "      <td>E02000004</td>\n",
       "      <td>Barking and Dagenham 003</td>\n",
       "      <td>391</td>\n",
       "      <td>17</td>\n",
       "      <td>156</td>\n",
       "      <td>76</td>\n",
       "      <td>6767</td>\n",
       "      <td>2388.0</td>\n",
       "    </tr>\n",
       "    <tr>\n",
       "      <th>4</th>\n",
       "      <td>E02000005</td>\n",
       "      <td>Barking and Dagenham 004</td>\n",
       "      <td>1079</td>\n",
       "      <td>66</td>\n",
       "      <td>269</td>\n",
       "      <td>291</td>\n",
       "      <td>11070</td>\n",
       "      <td>3769.0</td>\n",
       "    </tr>\n",
       "  </tbody>\n",
       "</table>\n",
       "</div>"
      ],
      "text/plain": [
       "    MSOA21CD                  MSOA21NM  total_crimes  burglaries   VSO   ASB  \\\n",
       "0  E02000001        City of London 001          6262         191  1027  1006   \n",
       "1  E02000002  Barking and Dagenham 001           829          34   260   210   \n",
       "2  E02000003  Barking and Dagenham 002          1223          72   309   335   \n",
       "3  E02000004  Barking and Dagenham 003           391          17   156    76   \n",
       "4  E02000005  Barking and Dagenham 004          1079          66   269   291   \n",
       "\n",
       "   EstPop  Dwellings  \n",
       "0    8689     7323.0  \n",
       "1    8366     2951.0  \n",
       "2   11588     4111.0  \n",
       "3    6767     2388.0  \n",
       "4   11070     3769.0  "
      ]
     },
     "execution_count": 74,
     "metadata": {},
     "output_type": "execute_result"
    }
   ],
   "source": [
    "ndc3.head()"
   ]
  },
  {
   "cell_type": "code",
   "execution_count": 75,
   "id": "04be602c-25eb-47ad-a913-716056e1edab",
   "metadata": {},
   "outputs": [
    {
     "name": "stdout",
     "output_type": "stream",
     "text": [
      "<class 'pandas.core.frame.DataFrame'>\n",
      "RangeIndex: 1002 entries, 0 to 1001\n",
      "Data columns (total 8 columns):\n",
      " #   Column        Non-Null Count  Dtype  \n",
      "---  ------        --------------  -----  \n",
      " 0   MSOA21CD      1002 non-null   object \n",
      " 1   MSOA21NM      1002 non-null   object \n",
      " 2   total_crimes  1002 non-null   int64  \n",
      " 3   burglaries    1002 non-null   int64  \n",
      " 4   VSO           1002 non-null   int64  \n",
      " 5   ASB           1002 non-null   int64  \n",
      " 6   EstPop        1002 non-null   int64  \n",
      " 7   Dwellings     1002 non-null   float64\n",
      "dtypes: float64(1), int64(5), object(2)\n",
      "memory usage: 62.8+ KB\n"
     ]
    }
   ],
   "source": [
    "ndc3.info()"
   ]
  },
  {
   "cell_type": "markdown",
   "id": "7e1a4025-6b72-4490-97be-8eb2e0935084",
   "metadata": {},
   "source": [
    "### Rates"
   ]
  },
  {
   "cell_type": "code",
   "execution_count": 76,
   "id": "226b0474-15ae-4267-8d1c-c6c8dff70c35",
   "metadata": {},
   "outputs": [],
   "source": [
    "pop = ndc3['EstPop']"
   ]
  },
  {
   "cell_type": "code",
   "execution_count": 77,
   "id": "609e723d-df27-41e9-b3cb-86a60d1f73ce",
   "metadata": {},
   "outputs": [],
   "source": [
    "dwell = ndc3['Dwellings']"
   ]
  },
  {
   "cell_type": "code",
   "execution_count": 78,
   "id": "d889fc25-339f-4a98-aecf-b4404dd5f005",
   "metadata": {},
   "outputs": [],
   "source": [
    "total = ndc3['total_crimes']"
   ]
  },
  {
   "cell_type": "code",
   "execution_count": 79,
   "id": "4f6b0c07-964d-4cfe-af23-9593f4e96d8e",
   "metadata": {},
   "outputs": [],
   "source": [
    "burg = ndc3['burglaries']"
   ]
  },
  {
   "cell_type": "code",
   "execution_count": 80,
   "id": "2bc165ca-931f-4139-a32d-99536639effb",
   "metadata": {},
   "outputs": [],
   "source": [
    "vso = ndc3['VSO']"
   ]
  },
  {
   "cell_type": "code",
   "execution_count": 81,
   "id": "979bdb57-b380-4aa2-9baf-7667fc4329ad",
   "metadata": {},
   "outputs": [],
   "source": [
    "asb = ndc3['ASB']"
   ]
  },
  {
   "cell_type": "code",
   "execution_count": 82,
   "id": "e03cc744-2c06-43f7-8521-1eeb4635a2b1",
   "metadata": {},
   "outputs": [],
   "source": [
    "ndc3.loc[:,'Tot-crimes/1kpop'] = total/(pop/1000)"
   ]
  },
  {
   "cell_type": "code",
   "execution_count": 83,
   "id": "cef3cfce-d956-4725-b3c0-93800111d92e",
   "metadata": {},
   "outputs": [],
   "source": [
    "ndc3.loc[:,'VSO/1kpop'] = vso/(pop/1000)"
   ]
  },
  {
   "cell_type": "code",
   "execution_count": 84,
   "id": "858d284b-f2a4-4820-9124-b65032c5e04a",
   "metadata": {},
   "outputs": [],
   "source": [
    "ndc3.loc[:,'ASB/1kpop'] = asb/(pop/1000)"
   ]
  },
  {
   "cell_type": "code",
   "execution_count": 85,
   "id": "bb96bb6a-eefc-4220-86f5-11f72f24f27a",
   "metadata": {},
   "outputs": [],
   "source": [
    "ndc3.loc[:,'Burglaries/1kdwell'] = burg/(dwell/1000)"
   ]
  },
  {
   "cell_type": "code",
   "execution_count": 86,
   "id": "fbc32dd1-0151-4562-bed0-243dafa29d7d",
   "metadata": {},
   "outputs": [
    {
     "data": {
      "text/html": [
       "<div>\n",
       "<style scoped>\n",
       "    .dataframe tbody tr th:only-of-type {\n",
       "        vertical-align: middle;\n",
       "    }\n",
       "\n",
       "    .dataframe tbody tr th {\n",
       "        vertical-align: top;\n",
       "    }\n",
       "\n",
       "    .dataframe thead th {\n",
       "        text-align: right;\n",
       "    }\n",
       "</style>\n",
       "<table border=\"1\" class=\"dataframe\">\n",
       "  <thead>\n",
       "    <tr style=\"text-align: right;\">\n",
       "      <th></th>\n",
       "      <th>MSOA21CD</th>\n",
       "      <th>MSOA21NM</th>\n",
       "      <th>total_crimes</th>\n",
       "      <th>burglaries</th>\n",
       "      <th>VSO</th>\n",
       "      <th>ASB</th>\n",
       "      <th>EstPop</th>\n",
       "      <th>Dwellings</th>\n",
       "      <th>Tot-crimes/1kpop</th>\n",
       "      <th>VSO/1kpop</th>\n",
       "      <th>ASB/1kpop</th>\n",
       "      <th>Burglaries/1kdwell</th>\n",
       "    </tr>\n",
       "  </thead>\n",
       "  <tbody>\n",
       "    <tr>\n",
       "      <th>0</th>\n",
       "      <td>E02000001</td>\n",
       "      <td>City of London 001</td>\n",
       "      <td>6262</td>\n",
       "      <td>191</td>\n",
       "      <td>1027</td>\n",
       "      <td>1006</td>\n",
       "      <td>8689</td>\n",
       "      <td>7323.0</td>\n",
       "      <td>720.681321</td>\n",
       "      <td>118.195419</td>\n",
       "      <td>115.778571</td>\n",
       "      <td>26.082207</td>\n",
       "    </tr>\n",
       "    <tr>\n",
       "      <th>1</th>\n",
       "      <td>E02000002</td>\n",
       "      <td>Barking and Dagenham 001</td>\n",
       "      <td>829</td>\n",
       "      <td>34</td>\n",
       "      <td>260</td>\n",
       "      <td>210</td>\n",
       "      <td>8366</td>\n",
       "      <td>2951.0</td>\n",
       "      <td>99.091561</td>\n",
       "      <td>31.078174</td>\n",
       "      <td>25.101602</td>\n",
       "      <td>11.521518</td>\n",
       "    </tr>\n",
       "    <tr>\n",
       "      <th>2</th>\n",
       "      <td>E02000003</td>\n",
       "      <td>Barking and Dagenham 002</td>\n",
       "      <td>1223</td>\n",
       "      <td>72</td>\n",
       "      <td>309</td>\n",
       "      <td>335</td>\n",
       "      <td>11588</td>\n",
       "      <td>4111.0</td>\n",
       "      <td>105.540214</td>\n",
       "      <td>26.665516</td>\n",
       "      <td>28.909216</td>\n",
       "      <td>17.513987</td>\n",
       "    </tr>\n",
       "    <tr>\n",
       "      <th>3</th>\n",
       "      <td>E02000004</td>\n",
       "      <td>Barking and Dagenham 003</td>\n",
       "      <td>391</td>\n",
       "      <td>17</td>\n",
       "      <td>156</td>\n",
       "      <td>76</td>\n",
       "      <td>6767</td>\n",
       "      <td>2388.0</td>\n",
       "      <td>57.780405</td>\n",
       "      <td>23.053052</td>\n",
       "      <td>11.230974</td>\n",
       "      <td>7.118928</td>\n",
       "    </tr>\n",
       "    <tr>\n",
       "      <th>4</th>\n",
       "      <td>E02000005</td>\n",
       "      <td>Barking and Dagenham 004</td>\n",
       "      <td>1079</td>\n",
       "      <td>66</td>\n",
       "      <td>269</td>\n",
       "      <td>291</td>\n",
       "      <td>11070</td>\n",
       "      <td>3769.0</td>\n",
       "      <td>97.470641</td>\n",
       "      <td>24.299910</td>\n",
       "      <td>26.287263</td>\n",
       "      <td>17.511276</td>\n",
       "    </tr>\n",
       "  </tbody>\n",
       "</table>\n",
       "</div>"
      ],
      "text/plain": [
       "    MSOA21CD                  MSOA21NM  total_crimes  burglaries   VSO   ASB  \\\n",
       "0  E02000001        City of London 001          6262         191  1027  1006   \n",
       "1  E02000002  Barking and Dagenham 001           829          34   260   210   \n",
       "2  E02000003  Barking and Dagenham 002          1223          72   309   335   \n",
       "3  E02000004  Barking and Dagenham 003           391          17   156    76   \n",
       "4  E02000005  Barking and Dagenham 004          1079          66   269   291   \n",
       "\n",
       "   EstPop  Dwellings  Tot-crimes/1kpop   VSO/1kpop   ASB/1kpop  \\\n",
       "0    8689     7323.0        720.681321  118.195419  115.778571   \n",
       "1    8366     2951.0         99.091561   31.078174   25.101602   \n",
       "2   11588     4111.0        105.540214   26.665516   28.909216   \n",
       "3    6767     2388.0         57.780405   23.053052   11.230974   \n",
       "4   11070     3769.0         97.470641   24.299910   26.287263   \n",
       "\n",
       "   Burglaries/1kdwell  \n",
       "0           26.082207  \n",
       "1           11.521518  \n",
       "2           17.513987  \n",
       "3            7.118928  \n",
       "4           17.511276  "
      ]
     },
     "execution_count": 86,
     "metadata": {},
     "output_type": "execute_result"
    }
   ],
   "source": [
    "ndc3.head()"
   ]
  },
  {
   "cell_type": "code",
   "execution_count": 87,
   "id": "4fb3c35b-628a-4428-b563-d8b6b2376fcc",
   "metadata": {},
   "outputs": [],
   "source": [
    "# New dataframe of crime rates\n",
    "\n",
    "dcr = ndc3[['MSOA21CD','MSOA21NM','Tot-crimes/1kpop','VSO/1kpop','ASB/1kpop','Burglaries/1kdwell']]"
   ]
  },
  {
   "cell_type": "code",
   "execution_count": 88,
   "id": "8df523c9-f8da-481a-8714-094fb9c67629",
   "metadata": {},
   "outputs": [
    {
     "data": {
      "text/html": [
       "<div>\n",
       "<style scoped>\n",
       "    .dataframe tbody tr th:only-of-type {\n",
       "        vertical-align: middle;\n",
       "    }\n",
       "\n",
       "    .dataframe tbody tr th {\n",
       "        vertical-align: top;\n",
       "    }\n",
       "\n",
       "    .dataframe thead th {\n",
       "        text-align: right;\n",
       "    }\n",
       "</style>\n",
       "<table border=\"1\" class=\"dataframe\">\n",
       "  <thead>\n",
       "    <tr style=\"text-align: right;\">\n",
       "      <th></th>\n",
       "      <th>MSOA21CD</th>\n",
       "      <th>MSOA21NM</th>\n",
       "      <th>Tot-crimes/1kpop</th>\n",
       "      <th>VSO/1kpop</th>\n",
       "      <th>ASB/1kpop</th>\n",
       "      <th>Burglaries/1kdwell</th>\n",
       "    </tr>\n",
       "  </thead>\n",
       "  <tbody>\n",
       "    <tr>\n",
       "      <th>0</th>\n",
       "      <td>E02000001</td>\n",
       "      <td>City of London 001</td>\n",
       "      <td>720.681321</td>\n",
       "      <td>118.195419</td>\n",
       "      <td>115.778571</td>\n",
       "      <td>26.082207</td>\n",
       "    </tr>\n",
       "    <tr>\n",
       "      <th>1</th>\n",
       "      <td>E02000002</td>\n",
       "      <td>Barking and Dagenham 001</td>\n",
       "      <td>99.091561</td>\n",
       "      <td>31.078174</td>\n",
       "      <td>25.101602</td>\n",
       "      <td>11.521518</td>\n",
       "    </tr>\n",
       "    <tr>\n",
       "      <th>2</th>\n",
       "      <td>E02000003</td>\n",
       "      <td>Barking and Dagenham 002</td>\n",
       "      <td>105.540214</td>\n",
       "      <td>26.665516</td>\n",
       "      <td>28.909216</td>\n",
       "      <td>17.513987</td>\n",
       "    </tr>\n",
       "    <tr>\n",
       "      <th>3</th>\n",
       "      <td>E02000004</td>\n",
       "      <td>Barking and Dagenham 003</td>\n",
       "      <td>57.780405</td>\n",
       "      <td>23.053052</td>\n",
       "      <td>11.230974</td>\n",
       "      <td>7.118928</td>\n",
       "    </tr>\n",
       "    <tr>\n",
       "      <th>4</th>\n",
       "      <td>E02000005</td>\n",
       "      <td>Barking and Dagenham 004</td>\n",
       "      <td>97.470641</td>\n",
       "      <td>24.299910</td>\n",
       "      <td>26.287263</td>\n",
       "      <td>17.511276</td>\n",
       "    </tr>\n",
       "  </tbody>\n",
       "</table>\n",
       "</div>"
      ],
      "text/plain": [
       "    MSOA21CD                  MSOA21NM  Tot-crimes/1kpop   VSO/1kpop  \\\n",
       "0  E02000001        City of London 001        720.681321  118.195419   \n",
       "1  E02000002  Barking and Dagenham 001         99.091561   31.078174   \n",
       "2  E02000003  Barking and Dagenham 002        105.540214   26.665516   \n",
       "3  E02000004  Barking and Dagenham 003         57.780405   23.053052   \n",
       "4  E02000005  Barking and Dagenham 004         97.470641   24.299910   \n",
       "\n",
       "    ASB/1kpop  Burglaries/1kdwell  \n",
       "0  115.778571           26.082207  \n",
       "1   25.101602           11.521518  \n",
       "2   28.909216           17.513987  \n",
       "3   11.230974            7.118928  \n",
       "4   26.287263           17.511276  "
      ]
     },
     "execution_count": 88,
     "metadata": {},
     "output_type": "execute_result"
    }
   ],
   "source": [
    "dcr.head()"
   ]
  },
  {
   "cell_type": "code",
   "execution_count": 89,
   "id": "fd82ee27-3c8a-4526-9471-8592494101e1",
   "metadata": {},
   "outputs": [
    {
     "name": "stdout",
     "output_type": "stream",
     "text": [
      "<class 'pandas.core.frame.DataFrame'>\n",
      "RangeIndex: 1002 entries, 0 to 1001\n",
      "Data columns (total 6 columns):\n",
      " #   Column              Non-Null Count  Dtype  \n",
      "---  ------              --------------  -----  \n",
      " 0   MSOA21CD            1002 non-null   object \n",
      " 1   MSOA21NM            1002 non-null   object \n",
      " 2   Tot-crimes/1kpop    1002 non-null   float64\n",
      " 3   VSO/1kpop           1002 non-null   float64\n",
      " 4   ASB/1kpop           1002 non-null   float64\n",
      " 5   Burglaries/1kdwell  1002 non-null   float64\n",
      "dtypes: float64(4), object(2)\n",
      "memory usage: 47.1+ KB\n"
     ]
    }
   ],
   "source": [
    "dcr.info()"
   ]
  },
  {
   "cell_type": "markdown",
   "id": "fd37140a-0d29-4b06-b67e-e649cc8b36b5",
   "metadata": {},
   "source": [
    "### Visualisations"
   ]
  },
  {
   "cell_type": "code",
   "execution_count": 90,
   "id": "17feec26-4cfc-424d-963a-800578456a5e",
   "metadata": {},
   "outputs": [
    {
     "data": {
      "text/plain": [
       "<Axes: >"
      ]
     },
     "execution_count": 90,
     "metadata": {},
     "output_type": "execute_result"
    },
    {
     "data": {
      "image/png": "[encoded data removed]",
      "text/plain": [
       "<Figure size 600x600 with 1 Axes>"
      ]
     },
     "metadata": {},
     "output_type": "display_data"
    }
   ],
   "source": [
    "fig, axes = plt.subplots(figsize=(6,6))\n",
    "sns.boxplot(dcr)"
   ]
  },
  {
   "cell_type": "code",
   "execution_count": 91,
   "id": "14995267-4800-47c1-b306-365f4b54b170",
   "metadata": {},
   "outputs": [
    {
     "data": {
      "text/plain": [
       "<seaborn.axisgrid.PairGrid at 0x273000a1790>"
      ]
     },
     "execution_count": 91,
     "metadata": {},
     "output_type": "execute_result"
    },
    {
     "data": {
      "image/png": "[encoded data removed]",
      "text/plain": [
       "<Figure size 1000x1000 with 14 Axes>"
      ]
     },
     "metadata": {},
     "output_type": "display_data"
    }
   ],
   "source": [
    "sns.pairplot(dcr, kind='scatter', corner=True)"
   ]
  },
  {
   "cell_type": "code",
   "execution_count": 92,
   "id": "73256c8f-6959-48b0-b1e3-7064d436a565",
   "metadata": {},
   "outputs": [],
   "source": [
    "dcr_num = dcr.select_dtypes(include= ['float64'])"
   ]
  },
  {
   "cell_type": "code",
   "execution_count": 93,
   "id": "e43ebe6e-3e83-410e-8ab1-210530fb8e91",
   "metadata": {},
   "outputs": [
    {
     "data": {
      "text/html": [
       "<div>\n",
       "<style scoped>\n",
       "    .dataframe tbody tr th:only-of-type {\n",
       "        vertical-align: middle;\n",
       "    }\n",
       "\n",
       "    .dataframe tbody tr th {\n",
       "        vertical-align: top;\n",
       "    }\n",
       "\n",
       "    .dataframe thead th {\n",
       "        text-align: right;\n",
       "    }\n",
       "</style>\n",
       "<table border=\"1\" class=\"dataframe\">\n",
       "  <thead>\n",
       "    <tr style=\"text-align: right;\">\n",
       "      <th></th>\n",
       "      <th>Tot-crimes/1kpop</th>\n",
       "      <th>VSO/1kpop</th>\n",
       "      <th>ASB/1kpop</th>\n",
       "      <th>Burglaries/1kdwell</th>\n",
       "    </tr>\n",
       "  </thead>\n",
       "  <tbody>\n",
       "    <tr>\n",
       "      <th>0</th>\n",
       "      <td>720.681321</td>\n",
       "      <td>118.195419</td>\n",
       "      <td>115.778571</td>\n",
       "      <td>26.082207</td>\n",
       "    </tr>\n",
       "    <tr>\n",
       "      <th>1</th>\n",
       "      <td>99.091561</td>\n",
       "      <td>31.078174</td>\n",
       "      <td>25.101602</td>\n",
       "      <td>11.521518</td>\n",
       "    </tr>\n",
       "    <tr>\n",
       "      <th>2</th>\n",
       "      <td>105.540214</td>\n",
       "      <td>26.665516</td>\n",
       "      <td>28.909216</td>\n",
       "      <td>17.513987</td>\n",
       "    </tr>\n",
       "    <tr>\n",
       "      <th>3</th>\n",
       "      <td>57.780405</td>\n",
       "      <td>23.053052</td>\n",
       "      <td>11.230974</td>\n",
       "      <td>7.118928</td>\n",
       "    </tr>\n",
       "    <tr>\n",
       "      <th>4</th>\n",
       "      <td>97.470641</td>\n",
       "      <td>24.299910</td>\n",
       "      <td>26.287263</td>\n",
       "      <td>17.511276</td>\n",
       "    </tr>\n",
       "  </tbody>\n",
       "</table>\n",
       "</div>"
      ],
      "text/plain": [
       "   Tot-crimes/1kpop   VSO/1kpop   ASB/1kpop  Burglaries/1kdwell\n",
       "0        720.681321  118.195419  115.778571           26.082207\n",
       "1         99.091561   31.078174   25.101602           11.521518\n",
       "2        105.540214   26.665516   28.909216           17.513987\n",
       "3         57.780405   23.053052   11.230974            7.118928\n",
       "4         97.470641   24.299910   26.287263           17.511276"
      ]
     },
     "execution_count": 93,
     "metadata": {},
     "output_type": "execute_result"
    }
   ],
   "source": [
    "dcr_num.head()"
   ]
  },
  {
   "cell_type": "code",
   "execution_count": 94,
   "id": "7b46ae72-5a59-4179-8afe-db25ff617516",
   "metadata": {},
   "outputs": [],
   "source": [
    "# Correlations between crime rates\n",
    "\n",
    "correlation = dcr_num.corr()"
   ]
  },
  {
   "cell_type": "code",
   "execution_count": 95,
   "id": "fbf28d96-dc3f-4e2d-b554-a3c8573d81c8",
   "metadata": {},
   "outputs": [
    {
     "data": {
      "text/html": [
       "<div>\n",
       "<style scoped>\n",
       "    .dataframe tbody tr th:only-of-type {\n",
       "        vertical-align: middle;\n",
       "    }\n",
       "\n",
       "    .dataframe tbody tr th {\n",
       "        vertical-align: top;\n",
       "    }\n",
       "\n",
       "    .dataframe thead th {\n",
       "        text-align: right;\n",
       "    }\n",
       "</style>\n",
       "<table border=\"1\" class=\"dataframe\">\n",
       "  <thead>\n",
       "    <tr style=\"text-align: right;\">\n",
       "      <th></th>\n",
       "      <th>Tot-crimes/1kpop</th>\n",
       "      <th>VSO/1kpop</th>\n",
       "      <th>ASB/1kpop</th>\n",
       "      <th>Burglaries/1kdwell</th>\n",
       "    </tr>\n",
       "  </thead>\n",
       "  <tbody>\n",
       "    <tr>\n",
       "      <th>Tot-crimes/1kpop</th>\n",
       "      <td>1.000000</td>\n",
       "      <td>0.909025</td>\n",
       "      <td>0.887447</td>\n",
       "      <td>0.578578</td>\n",
       "    </tr>\n",
       "    <tr>\n",
       "      <th>VSO/1kpop</th>\n",
       "      <td>0.909025</td>\n",
       "      <td>1.000000</td>\n",
       "      <td>0.837037</td>\n",
       "      <td>0.571136</td>\n",
       "    </tr>\n",
       "    <tr>\n",
       "      <th>ASB/1kpop</th>\n",
       "      <td>0.887447</td>\n",
       "      <td>0.837037</td>\n",
       "      <td>1.000000</td>\n",
       "      <td>0.595012</td>\n",
       "    </tr>\n",
       "    <tr>\n",
       "      <th>Burglaries/1kdwell</th>\n",
       "      <td>0.578578</td>\n",
       "      <td>0.571136</td>\n",
       "      <td>0.595012</td>\n",
       "      <td>1.000000</td>\n",
       "    </tr>\n",
       "  </tbody>\n",
       "</table>\n",
       "</div>"
      ],
      "text/plain": [
       "                    Tot-crimes/1kpop  VSO/1kpop  ASB/1kpop  Burglaries/1kdwell\n",
       "Tot-crimes/1kpop            1.000000   0.909025   0.887447            0.578578\n",
       "VSO/1kpop                   0.909025   1.000000   0.837037            0.571136\n",
       "ASB/1kpop                   0.887447   0.837037   1.000000            0.595012\n",
       "Burglaries/1kdwell          0.578578   0.571136   0.595012            1.000000"
      ]
     },
     "execution_count": 95,
     "metadata": {},
     "output_type": "execute_result"
    }
   ],
   "source": [
    "correlation"
   ]
  },
  {
   "cell_type": "code",
   "execution_count": 96,
   "id": "416c05b2-302c-4ec9-94f7-3f37dfed08fa",
   "metadata": {},
   "outputs": [
    {
     "data": {
      "text/plain": [
       "<Axes: >"
      ]
     },
     "execution_count": 96,
     "metadata": {},
     "output_type": "execute_result"
    },
    {
     "data": {
      "image/png": "[encoded data removed]",
      "text/plain": [
       "<Figure size 640x480 with 2 Axes>"
      ]
     },
     "metadata": {},
     "output_type": "display_data"
    }
   ],
   "source": [
    "sns.heatmap(correlation, vmin=-1, vmax=1, cmap=\"coolwarm\", annot=True)"
   ]
  },
  {
   "cell_type": "markdown",
   "id": "786fed5a-1da0-4244-bc84-e8dcebf524c0",
   "metadata": {},
   "source": [
    "## Logarithmic transformation"
   ]
  },
  {
   "cell_type": "code",
   "execution_count": 97,
   "id": "41f15796-c3a6-46bd-bdd1-97f870d8d6c4",
   "metadata": {},
   "outputs": [
    {
     "name": "stderr",
     "output_type": "stream",
     "text": [
      "C:\\Users\\Ana Cuba\\AppData\\Local\\Temp\\ipykernel_17252\\1552662.py:1: SettingWithCopyWarning: \n",
      "A value is trying to be set on a copy of a slice from a DataFrame.\n",
      "Try using .loc[row_indexer,col_indexer] = value instead\n",
      "\n",
      "See the caveats in the documentation: https://pandas.pydata.org/pandas-docs/stable/user_guide/indexing.html#returning-a-view-versus-a-copy\n",
      "  dcr.loc[:,'Log10-tot'] = np.log10(dcr['Tot-crimes/1kpop'])\n"
     ]
    }
   ],
   "source": [
    "dcr.loc[:,'Log10-tot'] = np.log10(dcr['Tot-crimes/1kpop'])"
   ]
  },
  {
   "cell_type": "code",
   "execution_count": 98,
   "id": "0702aae7-1cd4-4188-80b2-a59a9d40f476",
   "metadata": {},
   "outputs": [
    {
     "name": "stderr",
     "output_type": "stream",
     "text": [
      "C:\\Users\\Ana Cuba\\AppData\\Local\\Temp\\ipykernel_17252\\313788155.py:1: SettingWithCopyWarning: \n",
      "A value is trying to be set on a copy of a slice from a DataFrame.\n",
      "Try using .loc[row_indexer,col_indexer] = value instead\n",
      "\n",
      "See the caveats in the documentation: https://pandas.pydata.org/pandas-docs/stable/user_guide/indexing.html#returning-a-view-versus-a-copy\n",
      "  dcr.loc[:,'Log10-VSO'] = np.log10(dcr['VSO/1kpop'])\n"
     ]
    }
   ],
   "source": [
    "dcr.loc[:,'Log10-VSO'] = np.log10(dcr['VSO/1kpop'])"
   ]
  },
  {
   "cell_type": "code",
   "execution_count": 99,
   "id": "7ceec8ab-7920-47c2-8990-1d8d5999f672",
   "metadata": {},
   "outputs": [
    {
     "name": "stderr",
     "output_type": "stream",
     "text": [
      "C:\\Users\\Ana Cuba\\AppData\\Local\\Temp\\ipykernel_17252\\3076807695.py:1: SettingWithCopyWarning: \n",
      "A value is trying to be set on a copy of a slice from a DataFrame.\n",
      "Try using .loc[row_indexer,col_indexer] = value instead\n",
      "\n",
      "See the caveats in the documentation: https://pandas.pydata.org/pandas-docs/stable/user_guide/indexing.html#returning-a-view-versus-a-copy\n",
      "  dcr.loc[:,'Log10-ASB'] = np.log10(dcr['ASB/1kpop'])\n"
     ]
    }
   ],
   "source": [
    "dcr.loc[:,'Log10-ASB'] = np.log10(dcr['ASB/1kpop'])"
   ]
  },
  {
   "cell_type": "code",
   "execution_count": 100,
   "id": "aeff9ff8-b1f8-4843-a148-391d36536a50",
   "metadata": {},
   "outputs": [
    {
     "name": "stderr",
     "output_type": "stream",
     "text": [
      "C:\\Users\\Ana Cuba\\AppData\\Local\\Temp\\ipykernel_17252\\985962924.py:1: SettingWithCopyWarning: \n",
      "A value is trying to be set on a copy of a slice from a DataFrame.\n",
      "Try using .loc[row_indexer,col_indexer] = value instead\n",
      "\n",
      "See the caveats in the documentation: https://pandas.pydata.org/pandas-docs/stable/user_guide/indexing.html#returning-a-view-versus-a-copy\n",
      "  dcr.loc[:,'Log10-Bur'] = np.log10(dcr['Burglaries/1kdwell'])\n"
     ]
    }
   ],
   "source": [
    "dcr.loc[:,'Log10-Bur'] = np.log10(dcr['Burglaries/1kdwell'])"
   ]
  },
  {
   "cell_type": "code",
   "execution_count": 101,
   "id": "fb99d21e-a6df-4c2f-a5ef-b6bd42610a75",
   "metadata": {},
   "outputs": [
    {
     "data": {
      "text/html": [
       "<div>\n",
       "<style scoped>\n",
       "    .dataframe tbody tr th:only-of-type {\n",
       "        vertical-align: middle;\n",
       "    }\n",
       "\n",
       "    .dataframe tbody tr th {\n",
       "        vertical-align: top;\n",
       "    }\n",
       "\n",
       "    .dataframe thead th {\n",
       "        text-align: right;\n",
       "    }\n",
       "</style>\n",
       "<table border=\"1\" class=\"dataframe\">\n",
       "  <thead>\n",
       "    <tr style=\"text-align: right;\">\n",
       "      <th></th>\n",
       "      <th>MSOA21CD</th>\n",
       "      <th>MSOA21NM</th>\n",
       "      <th>Tot-crimes/1kpop</th>\n",
       "      <th>VSO/1kpop</th>\n",
       "      <th>ASB/1kpop</th>\n",
       "      <th>Burglaries/1kdwell</th>\n",
       "      <th>Log10-tot</th>\n",
       "      <th>Log10-VSO</th>\n",
       "      <th>Log10-ASB</th>\n",
       "      <th>Log10-Bur</th>\n",
       "    </tr>\n",
       "  </thead>\n",
       "  <tbody>\n",
       "    <tr>\n",
       "      <th>0</th>\n",
       "      <td>E02000001</td>\n",
       "      <td>City of London 001</td>\n",
       "      <td>720.681321</td>\n",
       "      <td>118.195419</td>\n",
       "      <td>115.778571</td>\n",
       "      <td>26.082207</td>\n",
       "      <td>2.857743</td>\n",
       "      <td>2.072601</td>\n",
       "      <td>2.063628</td>\n",
       "      <td>1.416344</td>\n",
       "    </tr>\n",
       "    <tr>\n",
       "      <th>1</th>\n",
       "      <td>E02000002</td>\n",
       "      <td>Barking and Dagenham 001</td>\n",
       "      <td>99.091561</td>\n",
       "      <td>31.078174</td>\n",
       "      <td>25.101602</td>\n",
       "      <td>11.521518</td>\n",
       "      <td>1.996037</td>\n",
       "      <td>1.492455</td>\n",
       "      <td>1.399701</td>\n",
       "      <td>1.061510</td>\n",
       "    </tr>\n",
       "    <tr>\n",
       "      <th>2</th>\n",
       "      <td>E02000003</td>\n",
       "      <td>Barking and Dagenham 002</td>\n",
       "      <td>105.540214</td>\n",
       "      <td>26.665516</td>\n",
       "      <td>28.909216</td>\n",
       "      <td>17.513987</td>\n",
       "      <td>2.023418</td>\n",
       "      <td>1.425950</td>\n",
       "      <td>1.461036</td>\n",
       "      <td>1.243385</td>\n",
       "    </tr>\n",
       "    <tr>\n",
       "      <th>3</th>\n",
       "      <td>E02000004</td>\n",
       "      <td>Barking and Dagenham 003</td>\n",
       "      <td>57.780405</td>\n",
       "      <td>23.053052</td>\n",
       "      <td>11.230974</td>\n",
       "      <td>7.118928</td>\n",
       "      <td>1.761781</td>\n",
       "      <td>1.362728</td>\n",
       "      <td>1.050417</td>\n",
       "      <td>0.852415</td>\n",
       "    </tr>\n",
       "    <tr>\n",
       "      <th>4</th>\n",
       "      <td>E02000005</td>\n",
       "      <td>Barking and Dagenham 004</td>\n",
       "      <td>97.470641</td>\n",
       "      <td>24.299910</td>\n",
       "      <td>26.287263</td>\n",
       "      <td>17.511276</td>\n",
       "      <td>1.988874</td>\n",
       "      <td>1.385605</td>\n",
       "      <td>1.419745</td>\n",
       "      <td>1.243318</td>\n",
       "    </tr>\n",
       "  </tbody>\n",
       "</table>\n",
       "</div>"
      ],
      "text/plain": [
       "    MSOA21CD                  MSOA21NM  Tot-crimes/1kpop   VSO/1kpop  \\\n",
       "0  E02000001        City of London 001        720.681321  118.195419   \n",
       "1  E02000002  Barking and Dagenham 001         99.091561   31.078174   \n",
       "2  E02000003  Barking and Dagenham 002        105.540214   26.665516   \n",
       "3  E02000004  Barking and Dagenham 003         57.780405   23.053052   \n",
       "4  E02000005  Barking and Dagenham 004         97.470641   24.299910   \n",
       "\n",
       "    ASB/1kpop  Burglaries/1kdwell  Log10-tot  Log10-VSO  Log10-ASB  Log10-Bur  \n",
       "0  115.778571           26.082207   2.857743   2.072601   2.063628   1.416344  \n",
       "1   25.101602           11.521518   1.996037   1.492455   1.399701   1.061510  \n",
       "2   28.909216           17.513987   2.023418   1.425950   1.461036   1.243385  \n",
       "3   11.230974            7.118928   1.761781   1.362728   1.050417   0.852415  \n",
       "4   26.287263           17.511276   1.988874   1.385605   1.419745   1.243318  "
      ]
     },
     "execution_count": 101,
     "metadata": {},
     "output_type": "execute_result"
    }
   ],
   "source": [
    "dcr.head()"
   ]
  },
  {
   "cell_type": "code",
   "execution_count": 102,
   "id": "86d8a8f5-7bc0-47a2-b6f3-d1e94dc471b3",
   "metadata": {},
   "outputs": [],
   "source": [
    "# New dataframe with log values\n",
    "\n",
    "dcrl = dcr[['MSOA21CD','MSOA21NM','Log10-tot','Log10-VSO','Log10-ASB','Log10-Bur']]"
   ]
  },
  {
   "cell_type": "code",
   "execution_count": 103,
   "id": "62ca9537-71e7-41d4-89f4-3fb9b51c2cbf",
   "metadata": {},
   "outputs": [
    {
     "data": {
      "text/html": [
       "<div>\n",
       "<style scoped>\n",
       "    .dataframe tbody tr th:only-of-type {\n",
       "        vertical-align: middle;\n",
       "    }\n",
       "\n",
       "    .dataframe tbody tr th {\n",
       "        vertical-align: top;\n",
       "    }\n",
       "\n",
       "    .dataframe thead th {\n",
       "        text-align: right;\n",
       "    }\n",
       "</style>\n",
       "<table border=\"1\" class=\"dataframe\">\n",
       "  <thead>\n",
       "    <tr style=\"text-align: right;\">\n",
       "      <th></th>\n",
       "      <th>MSOA21CD</th>\n",
       "      <th>MSOA21NM</th>\n",
       "      <th>Log10-tot</th>\n",
       "      <th>Log10-VSO</th>\n",
       "      <th>Log10-ASB</th>\n",
       "      <th>Log10-Bur</th>\n",
       "    </tr>\n",
       "  </thead>\n",
       "  <tbody>\n",
       "    <tr>\n",
       "      <th>0</th>\n",
       "      <td>E02000001</td>\n",
       "      <td>City of London 001</td>\n",
       "      <td>2.857743</td>\n",
       "      <td>2.072601</td>\n",
       "      <td>2.063628</td>\n",
       "      <td>1.416344</td>\n",
       "    </tr>\n",
       "    <tr>\n",
       "      <th>1</th>\n",
       "      <td>E02000002</td>\n",
       "      <td>Barking and Dagenham 001</td>\n",
       "      <td>1.996037</td>\n",
       "      <td>1.492455</td>\n",
       "      <td>1.399701</td>\n",
       "      <td>1.061510</td>\n",
       "    </tr>\n",
       "    <tr>\n",
       "      <th>2</th>\n",
       "      <td>E02000003</td>\n",
       "      <td>Barking and Dagenham 002</td>\n",
       "      <td>2.023418</td>\n",
       "      <td>1.425950</td>\n",
       "      <td>1.461036</td>\n",
       "      <td>1.243385</td>\n",
       "    </tr>\n",
       "    <tr>\n",
       "      <th>3</th>\n",
       "      <td>E02000004</td>\n",
       "      <td>Barking and Dagenham 003</td>\n",
       "      <td>1.761781</td>\n",
       "      <td>1.362728</td>\n",
       "      <td>1.050417</td>\n",
       "      <td>0.852415</td>\n",
       "    </tr>\n",
       "    <tr>\n",
       "      <th>4</th>\n",
       "      <td>E02000005</td>\n",
       "      <td>Barking and Dagenham 004</td>\n",
       "      <td>1.988874</td>\n",
       "      <td>1.385605</td>\n",
       "      <td>1.419745</td>\n",
       "      <td>1.243318</td>\n",
       "    </tr>\n",
       "  </tbody>\n",
       "</table>\n",
       "</div>"
      ],
      "text/plain": [
       "    MSOA21CD                  MSOA21NM  Log10-tot  Log10-VSO  Log10-ASB  \\\n",
       "0  E02000001        City of London 001   2.857743   2.072601   2.063628   \n",
       "1  E02000002  Barking and Dagenham 001   1.996037   1.492455   1.399701   \n",
       "2  E02000003  Barking and Dagenham 002   2.023418   1.425950   1.461036   \n",
       "3  E02000004  Barking and Dagenham 003   1.761781   1.362728   1.050417   \n",
       "4  E02000005  Barking and Dagenham 004   1.988874   1.385605   1.419745   \n",
       "\n",
       "   Log10-Bur  \n",
       "0   1.416344  \n",
       "1   1.061510  \n",
       "2   1.243385  \n",
       "3   0.852415  \n",
       "4   1.243318  "
      ]
     },
     "execution_count": 103,
     "metadata": {},
     "output_type": "execute_result"
    }
   ],
   "source": [
    "dcrl.head()"
   ]
  },
  {
   "cell_type": "code",
   "execution_count": 104,
   "id": "b490012b-dc9a-41b2-90da-721d76033810",
   "metadata": {},
   "outputs": [
    {
     "data": {
      "text/html": [
       "<div>\n",
       "<style scoped>\n",
       "    .dataframe tbody tr th:only-of-type {\n",
       "        vertical-align: middle;\n",
       "    }\n",
       "\n",
       "    .dataframe tbody tr th {\n",
       "        vertical-align: top;\n",
       "    }\n",
       "\n",
       "    .dataframe thead th {\n",
       "        text-align: right;\n",
       "    }\n",
       "</style>\n",
       "<table border=\"1\" class=\"dataframe\">\n",
       "  <thead>\n",
       "    <tr style=\"text-align: right;\">\n",
       "      <th></th>\n",
       "      <th>Log10-tot</th>\n",
       "      <th>Log10-VSO</th>\n",
       "      <th>Log10-ASB</th>\n",
       "      <th>Log10-Bur</th>\n",
       "    </tr>\n",
       "  </thead>\n",
       "  <tbody>\n",
       "    <tr>\n",
       "      <th>count</th>\n",
       "      <td>1002.000000</td>\n",
       "      <td>1002.000000</td>\n",
       "      <td>1002.000000</td>\n",
       "      <td>1002.000000</td>\n",
       "    </tr>\n",
       "    <tr>\n",
       "      <th>mean</th>\n",
       "      <td>2.021889</td>\n",
       "      <td>1.388100</td>\n",
       "      <td>1.475488</td>\n",
       "      <td>1.102106</td>\n",
       "    </tr>\n",
       "    <tr>\n",
       "      <th>std</th>\n",
       "      <td>0.209562</td>\n",
       "      <td>0.190877</td>\n",
       "      <td>0.224060</td>\n",
       "      <td>0.185440</td>\n",
       "    </tr>\n",
       "    <tr>\n",
       "      <th>min</th>\n",
       "      <td>1.465178</td>\n",
       "      <td>0.809611</td>\n",
       "      <td>0.767274</td>\n",
       "      <td>0.374816</td>\n",
       "    </tr>\n",
       "    <tr>\n",
       "      <th>25%</th>\n",
       "      <td>1.893502</td>\n",
       "      <td>1.271031</td>\n",
       "      <td>1.330601</td>\n",
       "      <td>0.994461</td>\n",
       "    </tr>\n",
       "    <tr>\n",
       "      <th>50%</th>\n",
       "      <td>2.011300</td>\n",
       "      <td>1.401225</td>\n",
       "      <td>1.469582</td>\n",
       "      <td>1.108923</td>\n",
       "    </tr>\n",
       "    <tr>\n",
       "      <th>75%</th>\n",
       "      <td>2.126959</td>\n",
       "      <td>1.502245</td>\n",
       "      <td>1.610112</td>\n",
       "      <td>1.225135</td>\n",
       "    </tr>\n",
       "    <tr>\n",
       "      <th>max</th>\n",
       "      <td>3.284774</td>\n",
       "      <td>2.388835</td>\n",
       "      <td>2.479761</td>\n",
       "      <td>1.726746</td>\n",
       "    </tr>\n",
       "  </tbody>\n",
       "</table>\n",
       "</div>"
      ],
      "text/plain": [
       "         Log10-tot    Log10-VSO    Log10-ASB    Log10-Bur\n",
       "count  1002.000000  1002.000000  1002.000000  1002.000000\n",
       "mean      2.021889     1.388100     1.475488     1.102106\n",
       "std       0.209562     0.190877     0.224060     0.185440\n",
       "min       1.465178     0.809611     0.767274     0.374816\n",
       "25%       1.893502     1.271031     1.330601     0.994461\n",
       "50%       2.011300     1.401225     1.469582     1.108923\n",
       "75%       2.126959     1.502245     1.610112     1.225135\n",
       "max       3.284774     2.388835     2.479761     1.726746"
      ]
     },
     "execution_count": 104,
     "metadata": {},
     "output_type": "execute_result"
    }
   ],
   "source": [
    "dcrl.describe()"
   ]
  },
  {
   "cell_type": "markdown",
   "id": "90934d7a-729d-45d4-bcda-009a467f81ad",
   "metadata": {},
   "source": [
    "To graph the outliers in QGIS, I get the upper limit of each column:"
   ]
  },
  {
   "cell_type": "code",
   "execution_count": 105,
   "id": "f5e56f54-254b-4d99-8c77-4bcc47ecf72a",
   "metadata": {},
   "outputs": [],
   "source": [
    "IQRtot = dcrl['Log10-tot'].quantile(0.75)-dcrl['Log10-tot'].quantile(0.25)"
   ]
  },
  {
   "cell_type": "code",
   "execution_count": 106,
   "id": "fe7aece6-efeb-439b-a53c-3118216f9639",
   "metadata": {},
   "outputs": [],
   "source": [
    "IQRVSO = dcrl['Log10-VSO'].quantile(0.75)-dcrl['Log10-VSO'].quantile(0.25)"
   ]
  },
  {
   "cell_type": "code",
   "execution_count": 107,
   "id": "0d7100f4-f980-4cb9-b23b-a3bad60ad145",
   "metadata": {},
   "outputs": [],
   "source": [
    "IQRASB = dcrl['Log10-ASB'].quantile(0.75)-dcrl['Log10-ASB'].quantile(0.25)"
   ]
  },
  {
   "cell_type": "code",
   "execution_count": 108,
   "id": "810d332e-f393-4820-bb23-968235c45d3a",
   "metadata": {},
   "outputs": [],
   "source": [
    "IQRbur = dcrl['Log10-Bur'].quantile(0.75)-dcrl['Log10-Bur'].quantile(0.25)"
   ]
  },
  {
   "cell_type": "code",
   "execution_count": 109,
   "id": "8a67d961-d8b9-4190-ba3f-6e630f2adb10",
   "metadata": {},
   "outputs": [
    {
     "name": "stdout",
     "output_type": "stream",
     "text": [
      "Upper limit tot:  2.477143235916879\n"
     ]
    }
   ],
   "source": [
    "print(\"Upper limit tot: \", dcrl['Log10-tot'].quantile(0.75) + (1.5 * IQRtot))"
   ]
  },
  {
   "cell_type": "code",
   "execution_count": 110,
   "id": "b2c1ce03-fcb3-4073-8a47-fd36a3274a0e",
   "metadata": {},
   "outputs": [
    {
     "name": "stdout",
     "output_type": "stream",
     "text": [
      "Upper limit VSO:  1.8490657200925646\n"
     ]
    }
   ],
   "source": [
    "print(\"Upper limit VSO: \", dcrl['Log10-VSO'].quantile(0.75) + (1.5 * IQRVSO))"
   ]
  },
  {
   "cell_type": "code",
   "execution_count": 111,
   "id": "5c6b13c0-6fc1-4ea2-b12f-d4bce7845195",
   "metadata": {},
   "outputs": [
    {
     "name": "stdout",
     "output_type": "stream",
     "text": [
      "Upper limit ASB:  2.0293793952812456\n"
     ]
    }
   ],
   "source": [
    "print(\"Upper limit ASB: \", dcrl['Log10-ASB'].quantile(0.75) + (1.5 * IQRASB))"
   ]
  },
  {
   "cell_type": "code",
   "execution_count": 112,
   "id": "f0da5f3b-fe00-489d-b3cc-126dc5dadd97",
   "metadata": {},
   "outputs": [
    {
     "name": "stdout",
     "output_type": "stream",
     "text": [
      "Upper limit Bur:  1.5711468181367332\n"
     ]
    }
   ],
   "source": [
    "print(\"Upper limit Bur: \", dcrl['Log10-Bur'].quantile(0.75) + (1.5 * IQRbur))"
   ]
  },
  {
   "cell_type": "code",
   "execution_count": 113,
   "id": "500643b7-b27b-4f1c-8618-581ad6f46432",
   "metadata": {},
   "outputs": [],
   "source": [
    "dcrl_num = dcrl.select_dtypes(include= ['float64'])"
   ]
  },
  {
   "cell_type": "code",
   "execution_count": 114,
   "id": "41f1f479-b50f-4691-ac1c-6e43ce297ec9",
   "metadata": {},
   "outputs": [
    {
     "data": {
      "text/html": [
       "<div>\n",
       "<style scoped>\n",
       "    .dataframe tbody tr th:only-of-type {\n",
       "        vertical-align: middle;\n",
       "    }\n",
       "\n",
       "    .dataframe tbody tr th {\n",
       "        vertical-align: top;\n",
       "    }\n",
       "\n",
       "    .dataframe thead th {\n",
       "        text-align: right;\n",
       "    }\n",
       "</style>\n",
       "<table border=\"1\" class=\"dataframe\">\n",
       "  <thead>\n",
       "    <tr style=\"text-align: right;\">\n",
       "      <th></th>\n",
       "      <th>Log10-tot</th>\n",
       "      <th>Log10-VSO</th>\n",
       "      <th>Log10-ASB</th>\n",
       "      <th>Log10-Bur</th>\n",
       "    </tr>\n",
       "  </thead>\n",
       "  <tbody>\n",
       "    <tr>\n",
       "      <th>0</th>\n",
       "      <td>2.857743</td>\n",
       "      <td>2.072601</td>\n",
       "      <td>2.063628</td>\n",
       "      <td>1.416344</td>\n",
       "    </tr>\n",
       "    <tr>\n",
       "      <th>1</th>\n",
       "      <td>1.996037</td>\n",
       "      <td>1.492455</td>\n",
       "      <td>1.399701</td>\n",
       "      <td>1.061510</td>\n",
       "    </tr>\n",
       "    <tr>\n",
       "      <th>2</th>\n",
       "      <td>2.023418</td>\n",
       "      <td>1.425950</td>\n",
       "      <td>1.461036</td>\n",
       "      <td>1.243385</td>\n",
       "    </tr>\n",
       "  </tbody>\n",
       "</table>\n",
       "</div>"
      ],
      "text/plain": [
       "   Log10-tot  Log10-VSO  Log10-ASB  Log10-Bur\n",
       "0   2.857743   2.072601   2.063628   1.416344\n",
       "1   1.996037   1.492455   1.399701   1.061510\n",
       "2   2.023418   1.425950   1.461036   1.243385"
      ]
     },
     "execution_count": 114,
     "metadata": {},
     "output_type": "execute_result"
    }
   ],
   "source": [
    "dcrl_num.head(3)"
   ]
  },
  {
   "cell_type": "markdown",
   "id": "92d9a13d-e0f7-4a83-8722-e5fab57b92fb",
   "metadata": {},
   "source": [
    "### Visualisations"
   ]
  },
  {
   "cell_type": "code",
   "execution_count": 115,
   "id": "f9b23f84-fd9b-43ee-b280-2a07dd6235dd",
   "metadata": {},
   "outputs": [
    {
     "data": {
      "text/plain": [
       "<Axes: >"
      ]
     },
     "execution_count": 115,
     "metadata": {},
     "output_type": "execute_result"
    },
    {
     "data": {
      "image/png": "[encoded data removed]",
      "text/plain": [
       "<Figure size 600x600 with 1 Axes>"
      ]
     },
     "metadata": {},
     "output_type": "display_data"
    }
   ],
   "source": [
    "fig, axes = plt.subplots(figsize=(6,6))\n",
    "sns.boxplot(dcrl)"
   ]
  },
  {
   "cell_type": "code",
   "execution_count": 116,
   "id": "1c34420e-5645-4bfe-8e8b-3a5fd9456f2e",
   "metadata": {},
   "outputs": [
    {
     "data": {
      "text/html": [
       "<div>\n",
       "<style scoped>\n",
       "    .dataframe tbody tr th:only-of-type {\n",
       "        vertical-align: middle;\n",
       "    }\n",
       "\n",
       "    .dataframe tbody tr th {\n",
       "        vertical-align: top;\n",
       "    }\n",
       "\n",
       "    .dataframe thead th {\n",
       "        text-align: right;\n",
       "    }\n",
       "</style>\n",
       "<table border=\"1\" class=\"dataframe\">\n",
       "  <thead>\n",
       "    <tr style=\"text-align: right;\">\n",
       "      <th></th>\n",
       "      <th>MSOA21CD</th>\n",
       "      <th>MSOA21NM</th>\n",
       "      <th>Log10-tot</th>\n",
       "      <th>Log10-VSO</th>\n",
       "      <th>Log10-ASB</th>\n",
       "      <th>Log10-Bur</th>\n",
       "    </tr>\n",
       "  </thead>\n",
       "  <tbody>\n",
       "    <tr>\n",
       "      <th>920</th>\n",
       "      <td>E02000972</td>\n",
       "      <td>Westminster 013</td>\n",
       "      <td>3.284774</td>\n",
       "      <td>2.325568</td>\n",
       "      <td>2.375744</td>\n",
       "      <td>1.726746</td>\n",
       "    </tr>\n",
       "    <tr>\n",
       "      <th>925</th>\n",
       "      <td>E02000977</td>\n",
       "      <td>Westminster 018</td>\n",
       "      <td>3.190295</td>\n",
       "      <td>2.388835</td>\n",
       "      <td>2.479761</td>\n",
       "      <td>1.424477</td>\n",
       "    </tr>\n",
       "    <tr>\n",
       "      <th>0</th>\n",
       "      <td>E02000001</td>\n",
       "      <td>City of London 001</td>\n",
       "      <td>2.857743</td>\n",
       "      <td>2.072601</td>\n",
       "      <td>2.063628</td>\n",
       "      <td>1.416344</td>\n",
       "    </tr>\n",
       "    <tr>\n",
       "      <th>183</th>\n",
       "      <td>E02000193</td>\n",
       "      <td>Camden 028</td>\n",
       "      <td>2.841866</td>\n",
       "      <td>1.899963</td>\n",
       "      <td>2.244371</td>\n",
       "      <td>1.459906</td>\n",
       "    </tr>\n",
       "    <tr>\n",
       "      <th>997</th>\n",
       "      <td>E02007111</td>\n",
       "      <td>Hackney 033</td>\n",
       "      <td>2.786418</td>\n",
       "      <td>2.012412</td>\n",
       "      <td>2.132729</td>\n",
       "      <td>1.709594</td>\n",
       "    </tr>\n",
       "  </tbody>\n",
       "</table>\n",
       "</div>"
      ],
      "text/plain": [
       "      MSOA21CD            MSOA21NM  Log10-tot  Log10-VSO  Log10-ASB  Log10-Bur\n",
       "920  E02000972     Westminster 013   3.284774   2.325568   2.375744   1.726746\n",
       "925  E02000977     Westminster 018   3.190295   2.388835   2.479761   1.424477\n",
       "0    E02000001  City of London 001   2.857743   2.072601   2.063628   1.416344\n",
       "183  E02000193          Camden 028   2.841866   1.899963   2.244371   1.459906\n",
       "997  E02007111         Hackney 033   2.786418   2.012412   2.132729   1.709594"
      ]
     },
     "execution_count": 116,
     "metadata": {},
     "output_type": "execute_result"
    }
   ],
   "source": [
    "dcrl.nlargest(5, 'Log10-tot')"
   ]
  },
  {
   "cell_type": "code",
   "execution_count": 117,
   "id": "64f52727-d12f-412a-9628-6c5a00e6a6c5",
   "metadata": {},
   "outputs": [
    {
     "data": {
      "text/html": [
       "<div>\n",
       "<style scoped>\n",
       "    .dataframe tbody tr th:only-of-type {\n",
       "        vertical-align: middle;\n",
       "    }\n",
       "\n",
       "    .dataframe tbody tr th {\n",
       "        vertical-align: top;\n",
       "    }\n",
       "\n",
       "    .dataframe thead th {\n",
       "        text-align: right;\n",
       "    }\n",
       "</style>\n",
       "<table border=\"1\" class=\"dataframe\">\n",
       "  <thead>\n",
       "    <tr style=\"text-align: right;\">\n",
       "      <th></th>\n",
       "      <th>MSOA21CD</th>\n",
       "      <th>MSOA21NM</th>\n",
       "      <th>Log10-tot</th>\n",
       "      <th>Log10-VSO</th>\n",
       "      <th>Log10-ASB</th>\n",
       "      <th>Log10-Bur</th>\n",
       "    </tr>\n",
       "  </thead>\n",
       "  <tbody>\n",
       "    <tr>\n",
       "      <th>925</th>\n",
       "      <td>E02000977</td>\n",
       "      <td>Westminster 018</td>\n",
       "      <td>3.190295</td>\n",
       "      <td>2.388835</td>\n",
       "      <td>2.479761</td>\n",
       "      <td>1.424477</td>\n",
       "    </tr>\n",
       "    <tr>\n",
       "      <th>920</th>\n",
       "      <td>E02000972</td>\n",
       "      <td>Westminster 013</td>\n",
       "      <td>3.284774</td>\n",
       "      <td>2.325568</td>\n",
       "      <td>2.375744</td>\n",
       "      <td>1.726746</td>\n",
       "    </tr>\n",
       "    <tr>\n",
       "      <th>0</th>\n",
       "      <td>E02000001</td>\n",
       "      <td>City of London 001</td>\n",
       "      <td>2.857743</td>\n",
       "      <td>2.072601</td>\n",
       "      <td>2.063628</td>\n",
       "      <td>1.416344</td>\n",
       "    </tr>\n",
       "    <tr>\n",
       "      <th>949</th>\n",
       "      <td>E02006801</td>\n",
       "      <td>Lambeth 036</td>\n",
       "      <td>2.739067</td>\n",
       "      <td>2.013716</td>\n",
       "      <td>2.124158</td>\n",
       "      <td>1.416281</td>\n",
       "    </tr>\n",
       "    <tr>\n",
       "      <th>997</th>\n",
       "      <td>E02007111</td>\n",
       "      <td>Hackney 033</td>\n",
       "      <td>2.786418</td>\n",
       "      <td>2.012412</td>\n",
       "      <td>2.132729</td>\n",
       "      <td>1.709594</td>\n",
       "    </tr>\n",
       "  </tbody>\n",
       "</table>\n",
       "</div>"
      ],
      "text/plain": [
       "      MSOA21CD            MSOA21NM  Log10-tot  Log10-VSO  Log10-ASB  Log10-Bur\n",
       "925  E02000977     Westminster 018   3.190295   2.388835   2.479761   1.424477\n",
       "920  E02000972     Westminster 013   3.284774   2.325568   2.375744   1.726746\n",
       "0    E02000001  City of London 001   2.857743   2.072601   2.063628   1.416344\n",
       "949  E02006801         Lambeth 036   2.739067   2.013716   2.124158   1.416281\n",
       "997  E02007111         Hackney 033   2.786418   2.012412   2.132729   1.709594"
      ]
     },
     "execution_count": 117,
     "metadata": {},
     "output_type": "execute_result"
    }
   ],
   "source": [
    "dcrl.nlargest(5, 'Log10-VSO')"
   ]
  },
  {
   "cell_type": "code",
   "execution_count": 118,
   "id": "cb6b9f57-d740-4be7-8d7e-d89ce4ff8602",
   "metadata": {},
   "outputs": [
    {
     "data": {
      "text/html": [
       "<div>\n",
       "<style scoped>\n",
       "    .dataframe tbody tr th:only-of-type {\n",
       "        vertical-align: middle;\n",
       "    }\n",
       "\n",
       "    .dataframe tbody tr th {\n",
       "        vertical-align: top;\n",
       "    }\n",
       "\n",
       "    .dataframe thead th {\n",
       "        text-align: right;\n",
       "    }\n",
       "</style>\n",
       "<table border=\"1\" class=\"dataframe\">\n",
       "  <thead>\n",
       "    <tr style=\"text-align: right;\">\n",
       "      <th></th>\n",
       "      <th>MSOA21CD</th>\n",
       "      <th>MSOA21NM</th>\n",
       "      <th>Log10-tot</th>\n",
       "      <th>Log10-VSO</th>\n",
       "      <th>Log10-ASB</th>\n",
       "      <th>Log10-Bur</th>\n",
       "    </tr>\n",
       "  </thead>\n",
       "  <tbody>\n",
       "    <tr>\n",
       "      <th>925</th>\n",
       "      <td>E02000977</td>\n",
       "      <td>Westminster 018</td>\n",
       "      <td>3.190295</td>\n",
       "      <td>2.388835</td>\n",
       "      <td>2.479761</td>\n",
       "      <td>1.424477</td>\n",
       "    </tr>\n",
       "    <tr>\n",
       "      <th>920</th>\n",
       "      <td>E02000972</td>\n",
       "      <td>Westminster 013</td>\n",
       "      <td>3.284774</td>\n",
       "      <td>2.325568</td>\n",
       "      <td>2.375744</td>\n",
       "      <td>1.726746</td>\n",
       "    </tr>\n",
       "    <tr>\n",
       "      <th>183</th>\n",
       "      <td>E02000193</td>\n",
       "      <td>Camden 028</td>\n",
       "      <td>2.841866</td>\n",
       "      <td>1.899963</td>\n",
       "      <td>2.244371</td>\n",
       "      <td>1.459906</td>\n",
       "    </tr>\n",
       "    <tr>\n",
       "      <th>494</th>\n",
       "      <td>E02000524</td>\n",
       "      <td>Hillingdon 031</td>\n",
       "      <td>2.683685</td>\n",
       "      <td>1.737740</td>\n",
       "      <td>2.204163</td>\n",
       "      <td>1.242187</td>\n",
       "    </tr>\n",
       "    <tr>\n",
       "      <th>178</th>\n",
       "      <td>E02000186</td>\n",
       "      <td>Camden 021</td>\n",
       "      <td>2.761796</td>\n",
       "      <td>2.000557</td>\n",
       "      <td>2.176648</td>\n",
       "      <td>1.523710</td>\n",
       "    </tr>\n",
       "  </tbody>\n",
       "</table>\n",
       "</div>"
      ],
      "text/plain": [
       "      MSOA21CD         MSOA21NM  Log10-tot  Log10-VSO  Log10-ASB  Log10-Bur\n",
       "925  E02000977  Westminster 018   3.190295   2.388835   2.479761   1.424477\n",
       "920  E02000972  Westminster 013   3.284774   2.325568   2.375744   1.726746\n",
       "183  E02000193       Camden 028   2.841866   1.899963   2.244371   1.459906\n",
       "494  E02000524   Hillingdon 031   2.683685   1.737740   2.204163   1.242187\n",
       "178  E02000186       Camden 021   2.761796   2.000557   2.176648   1.523710"
      ]
     },
     "execution_count": 118,
     "metadata": {},
     "output_type": "execute_result"
    }
   ],
   "source": [
    "dcrl.nlargest(5, 'Log10-ASB')"
   ]
  },
  {
   "cell_type": "markdown",
   "id": "3f295758-8df8-48ec-ab32-6e87a714c669",
   "metadata": {},
   "source": [
    "Some areas of Westminster, City of London, Hackney and Camden appear in the above lists"
   ]
  },
  {
   "cell_type": "code",
   "execution_count": 119,
   "id": "f066dfbe-ac91-41dd-a91b-c6c46191b3a5",
   "metadata": {},
   "outputs": [
    {
     "data": {
      "text/html": [
       "<div>\n",
       "<style scoped>\n",
       "    .dataframe tbody tr th:only-of-type {\n",
       "        vertical-align: middle;\n",
       "    }\n",
       "\n",
       "    .dataframe tbody tr th {\n",
       "        vertical-align: top;\n",
       "    }\n",
       "\n",
       "    .dataframe thead th {\n",
       "        text-align: right;\n",
       "    }\n",
       "</style>\n",
       "<table border=\"1\" class=\"dataframe\">\n",
       "  <thead>\n",
       "    <tr style=\"text-align: right;\">\n",
       "      <th></th>\n",
       "      <th>MSOA21CD</th>\n",
       "      <th>MSOA21NM</th>\n",
       "      <th>Log10-tot</th>\n",
       "      <th>Log10-VSO</th>\n",
       "      <th>Log10-ASB</th>\n",
       "      <th>Log10-Bur</th>\n",
       "    </tr>\n",
       "  </thead>\n",
       "  <tbody>\n",
       "    <tr>\n",
       "      <th>920</th>\n",
       "      <td>E02000972</td>\n",
       "      <td>Westminster 013</td>\n",
       "      <td>3.284774</td>\n",
       "      <td>2.325568</td>\n",
       "      <td>2.375744</td>\n",
       "      <td>1.726746</td>\n",
       "    </tr>\n",
       "    <tr>\n",
       "      <th>997</th>\n",
       "      <td>E02007111</td>\n",
       "      <td>Hackney 033</td>\n",
       "      <td>2.786418</td>\n",
       "      <td>2.012412</td>\n",
       "      <td>2.132729</td>\n",
       "      <td>1.709594</td>\n",
       "    </tr>\n",
       "    <tr>\n",
       "      <th>386</th>\n",
       "      <td>E02000412</td>\n",
       "      <td>Haringey 016</td>\n",
       "      <td>2.674157</td>\n",
       "      <td>1.905149</td>\n",
       "      <td>1.985917</td>\n",
       "      <td>1.618260</td>\n",
       "    </tr>\n",
       "    <tr>\n",
       "      <th>637</th>\n",
       "      <td>E02000672</td>\n",
       "      <td>Lewisham 020</td>\n",
       "      <td>2.398323</td>\n",
       "      <td>1.752448</td>\n",
       "      <td>1.754700</td>\n",
       "      <td>1.612496</td>\n",
       "    </tr>\n",
       "    <tr>\n",
       "      <th>734</th>\n",
       "      <td>E02000779</td>\n",
       "      <td>Redbridge 029</td>\n",
       "      <td>2.564439</td>\n",
       "      <td>1.831067</td>\n",
       "      <td>1.929937</td>\n",
       "      <td>1.554410</td>\n",
       "    </tr>\n",
       "  </tbody>\n",
       "</table>\n",
       "</div>"
      ],
      "text/plain": [
       "      MSOA21CD         MSOA21NM  Log10-tot  Log10-VSO  Log10-ASB  Log10-Bur\n",
       "920  E02000972  Westminster 013   3.284774   2.325568   2.375744   1.726746\n",
       "997  E02007111      Hackney 033   2.786418   2.012412   2.132729   1.709594\n",
       "386  E02000412     Haringey 016   2.674157   1.905149   1.985917   1.618260\n",
       "637  E02000672     Lewisham 020   2.398323   1.752448   1.754700   1.612496\n",
       "734  E02000779    Redbridge 029   2.564439   1.831067   1.929937   1.554410"
      ]
     },
     "execution_count": 119,
     "metadata": {},
     "output_type": "execute_result"
    }
   ],
   "source": [
    "dcrl.nlargest(5, 'Log10-Bur')"
   ]
  },
  {
   "cell_type": "code",
   "execution_count": 120,
   "id": "1617e7a2-0283-45c5-9d5a-8b1cc720d609",
   "metadata": {},
   "outputs": [
    {
     "data": {
      "text/html": [
       "<div>\n",
       "<style scoped>\n",
       "    .dataframe tbody tr th:only-of-type {\n",
       "        vertical-align: middle;\n",
       "    }\n",
       "\n",
       "    .dataframe tbody tr th {\n",
       "        vertical-align: top;\n",
       "    }\n",
       "\n",
       "    .dataframe thead th {\n",
       "        text-align: right;\n",
       "    }\n",
       "</style>\n",
       "<table border=\"1\" class=\"dataframe\">\n",
       "  <thead>\n",
       "    <tr style=\"text-align: right;\">\n",
       "      <th></th>\n",
       "      <th>MSOA21CD</th>\n",
       "      <th>MSOA21NM</th>\n",
       "      <th>Log10-tot</th>\n",
       "      <th>Log10-VSO</th>\n",
       "      <th>Log10-ASB</th>\n",
       "      <th>Log10-Bur</th>\n",
       "    </tr>\n",
       "  </thead>\n",
       "  <tbody>\n",
       "    <tr>\n",
       "      <th>150</th>\n",
       "      <td>E02000157</td>\n",
       "      <td>Bromley 031</td>\n",
       "      <td>1.488663</td>\n",
       "      <td>0.923828</td>\n",
       "      <td>0.970824</td>\n",
       "      <td>0.374816</td>\n",
       "    </tr>\n",
       "    <tr>\n",
       "      <th>512</th>\n",
       "      <td>E02000544</td>\n",
       "      <td>Hounslow 019</td>\n",
       "      <td>1.652264</td>\n",
       "      <td>1.207811</td>\n",
       "      <td>1.128630</td>\n",
       "      <td>0.424957</td>\n",
       "    </tr>\n",
       "    <tr>\n",
       "      <th>72</th>\n",
       "      <td>E02000075</td>\n",
       "      <td>Bexley 011</td>\n",
       "      <td>1.622544</td>\n",
       "      <td>1.104805</td>\n",
       "      <td>1.073928</td>\n",
       "      <td>0.443563</td>\n",
       "    </tr>\n",
       "    <tr>\n",
       "      <th>154</th>\n",
       "      <td>E02000161</td>\n",
       "      <td>Bromley 035</td>\n",
       "      <td>1.465178</td>\n",
       "      <td>0.843967</td>\n",
       "      <td>0.977716</td>\n",
       "      <td>0.505087</td>\n",
       "    </tr>\n",
       "    <tr>\n",
       "      <th>80</th>\n",
       "      <td>E02000084</td>\n",
       "      <td>Bexley 020</td>\n",
       "      <td>1.692026</td>\n",
       "      <td>1.161659</td>\n",
       "      <td>1.094713</td>\n",
       "      <td>0.509640</td>\n",
       "    </tr>\n",
       "  </tbody>\n",
       "</table>\n",
       "</div>"
      ],
      "text/plain": [
       "      MSOA21CD      MSOA21NM  Log10-tot  Log10-VSO  Log10-ASB  Log10-Bur\n",
       "150  E02000157   Bromley 031   1.488663   0.923828   0.970824   0.374816\n",
       "512  E02000544  Hounslow 019   1.652264   1.207811   1.128630   0.424957\n",
       "72   E02000075    Bexley 011   1.622544   1.104805   1.073928   0.443563\n",
       "154  E02000161   Bromley 035   1.465178   0.843967   0.977716   0.505087\n",
       "80   E02000084    Bexley 020   1.692026   1.161659   1.094713   0.509640"
      ]
     },
     "execution_count": 120,
     "metadata": {},
     "output_type": "execute_result"
    }
   ],
   "source": [
    "dcrl.nsmallest(5, 'Log10-Bur')"
   ]
  },
  {
   "cell_type": "code",
   "execution_count": 121,
   "id": "bd6c99ff-694a-46ee-813e-88ab18720e9e",
   "metadata": {},
   "outputs": [
    {
     "data": {
      "text/plain": [
       "<seaborn.axisgrid.PairGrid at 0x273036ce290>"
      ]
     },
     "execution_count": 121,
     "metadata": {},
     "output_type": "execute_result"
    },
    {
     "data": {
      "image/png": "[encoded data removed]",
      "text/plain": [
       "<Figure size 1000x1000 with 14 Axes>"
      ]
     },
     "metadata": {},
     "output_type": "display_data"
    }
   ],
   "source": [
    "# To see distributions and scatter plots between columns\n",
    "\n",
    "sns.pairplot(dcrl_num, kind='scatter', corner=True)"
   ]
  },
  {
   "cell_type": "code",
   "execution_count": 122,
   "id": "de2ede3a-93cf-4ef9-98dc-4e09e685ca13",
   "metadata": {},
   "outputs": [],
   "source": [
    "# Correlations between log of crime rates \n",
    "\n",
    "correlation1 = dcrl_num.corr()"
   ]
  },
  {
   "cell_type": "code",
   "execution_count": 123,
   "id": "9b06581e-e355-4b76-92c5-1b472f8c4789",
   "metadata": {},
   "outputs": [
    {
     "data": {
      "text/plain": [
       "<Axes: >"
      ]
     },
     "execution_count": 123,
     "metadata": {},
     "output_type": "execute_result"
    },
    {
     "data": {
      "image/png": "[encoded data removed]",
      "text/plain": [
       "<Figure size 640x480 with 2 Axes>"
      ]
     },
     "metadata": {},
     "output_type": "display_data"
    }
   ],
   "source": [
    "sns.heatmap(correlation1, vmin=-1, vmax=1, cmap=\"coolwarm\", annot=True)"
   ]
  },
  {
   "cell_type": "markdown",
   "id": "af09e3f2-fefa-4d7d-ad62-a246842175a6",
   "metadata": {},
   "source": [
    "We know the high correlations between crime types but I won't perform regressions between crime types, \n",
    "just to visualise the magnitude of VSO or ASB crimes have in the total crimes"
   ]
  },
  {
   "cell_type": "code",
   "execution_count": 124,
   "id": "a600c9fe-360d-48d8-a2de-958c07e3c3f0",
   "metadata": {},
   "outputs": [],
   "source": [
    "# Exporting file\n",
    "\n",
    "dcrl.to_csv('dcrl.csv', index=False)"
   ]
  }
 ],
 "metadata": {
  "kernelspec": {
   "display_name": "Python 3 (ipykernel)",
   "language": "python",
   "name": "python3"
  },
  "language_info": {
   "codemirror_mode": {
    "name": "ipython",
    "version": 3
   },
   "file_extension": ".py",
   "mimetype": "text/x-python",
   "name": "python",
   "nbconvert_exporter": "python",
   "pygments_lexer": "ipython3",
   "version": "3.11.9"
  }
 },
 "nbformat": 4,
 "nbformat_minor": 5
}
