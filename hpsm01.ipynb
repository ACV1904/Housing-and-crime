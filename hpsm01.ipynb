{
 "cells": [
  {
   "cell_type": "code",
   "execution_count": 1,
   "id": "e3c36f22-e4f1-4152-92d4-0391629c4c91",
   "metadata": {},
   "outputs": [],
   "source": [
    "import pandas as pd"
   ]
  },
  {
   "cell_type": "code",
   "execution_count": 2,
   "id": "f6a0cd79-bdbe-48f4-8955-672f7855d8dd",
   "metadata": {},
   "outputs": [],
   "source": [
    "import os\n",
    "import os.path"
   ]
  },
  {
   "cell_type": "code",
   "execution_count": 3,
   "id": "f2183651-5141-40cf-ba08-08dd31920d04",
   "metadata": {},
   "outputs": [],
   "source": [
    "import matplotlib.pyplot as plt"
   ]
  },
  {
   "cell_type": "code",
   "execution_count": 4,
   "id": "cab666ad-098e-46f1-80ca-8b47a7f828c9",
   "metadata": {},
   "outputs": [],
   "source": [
    "import seaborn as sns"
   ]
  },
  {
   "cell_type": "code",
   "execution_count": 5,
   "id": "a565eb33-44f1-4ee7-bce0-4746404e171a",
   "metadata": {},
   "outputs": [],
   "source": [
    "import numpy as np"
   ]
  },
  {
   "cell_type": "markdown",
   "id": "db67eb51-b526-4276-8fa2-403416309aba",
   "metadata": {},
   "source": [
    "## House price per squared metre"
   ]
  },
  {
   "cell_type": "code",
   "execution_count": 6,
   "id": "afd1d5dc-854e-46e6-ad85-a0c5e5517f7c",
   "metadata": {},
   "outputs": [],
   "source": [
    "# First read the list of London local authorities names\n",
    "\n",
    "lanames = pd.read_csv('la-names.csv')"
   ]
  },
  {
   "cell_type": "code",
   "execution_count": 7,
   "id": "7377241a-eab1-4d6f-babe-50ad4571b9b3",
   "metadata": {},
   "outputs": [],
   "source": [
    "# Make them a list\n",
    "\n",
    "names = lanames['Local authorities'].tolist()"
   ]
  },
  {
   "cell_type": "code",
   "execution_count": 8,
   "id": "08abaf16-8350-4991-8857-a320db1eee27",
   "metadata": {},
   "outputs": [],
   "source": [
    "path = \"hpm_la_2023\""
   ]
  },
  {
   "cell_type": "code",
   "execution_count": 9,
   "id": "5e023292-17ea-456c-bbf9-6a13c0425433",
   "metadata": {},
   "outputs": [],
   "source": [
    "# Make list of files in a folder\n",
    "\n",
    "list_directory = os.listdir(\"hpm_la_2023\")"
   ]
  },
  {
   "cell_type": "code",
   "execution_count": 10,
   "id": "befb0e4b-433a-4f07-9daf-11b0b43bc599",
   "metadata": {},
   "outputs": [],
   "source": [
    "all_data = pd.DataFrame()"
   ]
  },
  {
   "cell_type": "code",
   "execution_count": 11,
   "id": "087aadc2-63a5-40df-a605-43f8153e3fca",
   "metadata": {},
   "outputs": [],
   "source": [
    "# Load only the files of London local authorities\n",
    "\n",
    "for file_name in list_directory:\n",
    "    if file_name in names:\n",
    "        current_data = pd.read_csv(os.path.join(path,file_name))\n",
    "        all_data = pd.concat([all_data,current_data])"
   ]
  },
  {
   "cell_type": "code",
   "execution_count": 12,
   "id": "e0e60955-1926-401a-8886-efdb09b0bfc0",
   "metadata": {},
   "outputs": [
    {
     "data": {
      "text/html": [
       "<div>\n",
       "<style scoped>\n",
       "    .dataframe tbody tr th:only-of-type {\n",
       "        vertical-align: middle;\n",
       "    }\n",
       "\n",
       "    .dataframe tbody tr th {\n",
       "        vertical-align: top;\n",
       "    }\n",
       "\n",
       "    .dataframe thead th {\n",
       "        text-align: right;\n",
       "    }\n",
       "</style>\n",
       "<table border=\"1\" class=\"dataframe\">\n",
       "  <thead>\n",
       "    <tr style=\"text-align: right;\">\n",
       "      <th></th>\n",
       "      <th>priceper</th>\n",
       "      <th>year</th>\n",
       "      <th>dateoftransfer</th>\n",
       "      <th>propertytype</th>\n",
       "      <th>duration</th>\n",
       "      <th>price</th>\n",
       "      <th>postcode</th>\n",
       "      <th>lad21cd</th>\n",
       "      <th>transactionid</th>\n",
       "      <th>id</th>\n",
       "      <th>tfarea</th>\n",
       "      <th>numberrooms</th>\n",
       "      <th>classt</th>\n",
       "      <th>CURRENT_ENERGY_EFFICIENCY</th>\n",
       "      <th>POTENTIAL_ENERGY_EFFICIENCY</th>\n",
       "      <th>CONSTRUCTION_AGE_BAND</th>\n",
       "    </tr>\n",
       "  </thead>\n",
       "  <tbody>\n",
       "    <tr>\n",
       "      <th>0</th>\n",
       "      <td>3723.297872</td>\n",
       "      <td>2014</td>\n",
       "      <td>2014-10-31</td>\n",
       "      <td>F</td>\n",
       "      <td>L</td>\n",
       "      <td>174995.0</td>\n",
       "      <td>IG11 9PD</td>\n",
       "      <td>E09000002</td>\n",
       "      <td>{EE5A935B-3263-4926-A9CF-C08C9678C776}</td>\n",
       "      <td>20304911</td>\n",
       "      <td>47.0</td>\n",
       "      <td>NaN</td>\n",
       "      <td>11</td>\n",
       "      <td>73</td>\n",
       "      <td>73</td>\n",
       "      <td>NO DATA!</td>\n",
       "    </tr>\n",
       "    <tr>\n",
       "      <th>1</th>\n",
       "      <td>3635.294118</td>\n",
       "      <td>2017</td>\n",
       "      <td>2017-04-07</td>\n",
       "      <td>T</td>\n",
       "      <td>F</td>\n",
       "      <td>309000.0</td>\n",
       "      <td>RM10 9JR</td>\n",
       "      <td>E09000002</td>\n",
       "      <td>{4E95D757-50C4-EDA1-E050-A8C0630539E2}</td>\n",
       "      <td>20336144</td>\n",
       "      <td>85.0</td>\n",
       "      <td>4.0</td>\n",
       "      <td>11</td>\n",
       "      <td>50</td>\n",
       "      <td>86</td>\n",
       "      <td>England and Wales: 1930-1949</td>\n",
       "    </tr>\n",
       "    <tr>\n",
       "      <th>2</th>\n",
       "      <td>1859.154930</td>\n",
       "      <td>2007</td>\n",
       "      <td>2007-10-15</td>\n",
       "      <td>T</td>\n",
       "      <td>F</td>\n",
       "      <td>132000.0</td>\n",
       "      <td>RM8 1TT</td>\n",
       "      <td>E09000002</td>\n",
       "      <td>{53F229AD-7C27-400C-BD12-89E03481FA39}</td>\n",
       "      <td>20308677</td>\n",
       "      <td>71.0</td>\n",
       "      <td>3.0</td>\n",
       "      <td>12</td>\n",
       "      <td>70</td>\n",
       "      <td>90</td>\n",
       "      <td>England and Wales: 1950-1966</td>\n",
       "    </tr>\n",
       "    <tr>\n",
       "      <th>3</th>\n",
       "      <td>3131.313131</td>\n",
       "      <td>2016</td>\n",
       "      <td>2016-08-02</td>\n",
       "      <td>T</td>\n",
       "      <td>F</td>\n",
       "      <td>310000.0</td>\n",
       "      <td>RM10 7AS</td>\n",
       "      <td>E09000002</td>\n",
       "      <td>{3B7E0B8F-BC6D-EA99-E050-A8C062057E77}</td>\n",
       "      <td>20312266</td>\n",
       "      <td>99.0</td>\n",
       "      <td>5.0</td>\n",
       "      <td>11</td>\n",
       "      <td>64</td>\n",
       "      <td>78</td>\n",
       "      <td>England and Wales: 1967-1975</td>\n",
       "    </tr>\n",
       "    <tr>\n",
       "      <th>4</th>\n",
       "      <td>1161.616162</td>\n",
       "      <td>2002</td>\n",
       "      <td>2002-05-14</td>\n",
       "      <td>S</td>\n",
       "      <td>F</td>\n",
       "      <td>115000.0</td>\n",
       "      <td>RM10 7AS</td>\n",
       "      <td>E09000002</td>\n",
       "      <td>{C5E68692-7234-4616-8052-563A850004DE}</td>\n",
       "      <td>20312266</td>\n",
       "      <td>99.0</td>\n",
       "      <td>5.0</td>\n",
       "      <td>11</td>\n",
       "      <td>64</td>\n",
       "      <td>78</td>\n",
       "      <td>England and Wales: 1967-1975</td>\n",
       "    </tr>\n",
       "  </tbody>\n",
       "</table>\n",
       "</div>"
      ],
      "text/plain": [
       "      priceper  year dateoftransfer propertytype duration     price  postcode  \\\n",
       "0  3723.297872  2014     2014-10-31            F        L  174995.0  IG11 9PD   \n",
       "1  3635.294118  2017     2017-04-07            T        F  309000.0  RM10 9JR   \n",
       "2  1859.154930  2007     2007-10-15            T        F  132000.0   RM8 1TT   \n",
       "3  3131.313131  2016     2016-08-02            T        F  310000.0  RM10 7AS   \n",
       "4  1161.616162  2002     2002-05-14            S        F  115000.0  RM10 7AS   \n",
       "\n",
       "     lad21cd                           transactionid        id  tfarea  \\\n",
       "0  E09000002  {EE5A935B-3263-4926-A9CF-C08C9678C776}  20304911    47.0   \n",
       "1  E09000002  {4E95D757-50C4-EDA1-E050-A8C0630539E2}  20336144    85.0   \n",
       "2  E09000002  {53F229AD-7C27-400C-BD12-89E03481FA39}  20308677    71.0   \n",
       "3  E09000002  {3B7E0B8F-BC6D-EA99-E050-A8C062057E77}  20312266    99.0   \n",
       "4  E09000002  {C5E68692-7234-4616-8052-563A850004DE}  20312266    99.0   \n",
       "\n",
       "   numberrooms  classt  CURRENT_ENERGY_EFFICIENCY  \\\n",
       "0          NaN      11                         73   \n",
       "1          4.0      11                         50   \n",
       "2          3.0      12                         70   \n",
       "3          5.0      11                         64   \n",
       "4          5.0      11                         64   \n",
       "\n",
       "   POTENTIAL_ENERGY_EFFICIENCY         CONSTRUCTION_AGE_BAND  \n",
       "0                           73                      NO DATA!  \n",
       "1                           86  England and Wales: 1930-1949  \n",
       "2                           90  England and Wales: 1950-1966  \n",
       "3                           78  England and Wales: 1967-1975  \n",
       "4                           78  England and Wales: 1967-1975  "
      ]
     },
     "execution_count": 12,
     "metadata": {},
     "output_type": "execute_result"
    }
   ],
   "source": [
    "all_data.head()"
   ]
  },
  {
   "cell_type": "code",
   "execution_count": 13,
   "id": "be5659e2-a26d-4ae7-b7cc-6f2f6437df32",
   "metadata": {},
   "outputs": [
    {
     "data": {
      "text/plain": [
       "(2694256, 16)"
      ]
     },
     "execution_count": 13,
     "metadata": {},
     "output_type": "execute_result"
    }
   ],
   "source": [
    "all_data.shape"
   ]
  },
  {
   "cell_type": "code",
   "execution_count": 14,
   "id": "5d4b69cc-4a00-450b-b3a1-e1d17736478f",
   "metadata": {},
   "outputs": [
    {
     "name": "stdout",
     "output_type": "stream",
     "text": [
      "<class 'pandas.core.frame.DataFrame'>\n",
      "Index: 2694256 entries, 0 to 86181\n",
      "Data columns (total 16 columns):\n",
      " #   Column                       Dtype  \n",
      "---  ------                       -----  \n",
      " 0   priceper                     float64\n",
      " 1   year                         int64  \n",
      " 2   dateoftransfer               object \n",
      " 3   propertytype                 object \n",
      " 4   duration                     object \n",
      " 5   price                        float64\n",
      " 6   postcode                     object \n",
      " 7   lad21cd                      object \n",
      " 8   transactionid                object \n",
      " 9   id                           int64  \n",
      " 10  tfarea                       float64\n",
      " 11  numberrooms                  float64\n",
      " 12  classt                       int64  \n",
      " 13  CURRENT_ENERGY_EFFICIENCY    int64  \n",
      " 14  POTENTIAL_ENERGY_EFFICIENCY  int64  \n",
      " 15  CONSTRUCTION_AGE_BAND        object \n",
      "dtypes: float64(4), int64(5), object(7)\n",
      "memory usage: 349.4+ MB\n"
     ]
    }
   ],
   "source": [
    "all_data.info()"
   ]
  },
  {
   "cell_type": "code",
   "execution_count": 15,
   "id": "278efb1a-2035-4fa1-9fff-46f3c3ea55eb",
   "metadata": {},
   "outputs": [],
   "source": [
    "# Selecting columns we need\n",
    "\n",
    "hpsm1 = all_data[['priceper','year','postcode']]"
   ]
  },
  {
   "cell_type": "code",
   "execution_count": 16,
   "id": "bbd78e26-3853-46a9-b27c-6b29354c0340",
   "metadata": {},
   "outputs": [
    {
     "data": {
      "text/html": [
       "<div>\n",
       "<style scoped>\n",
       "    .dataframe tbody tr th:only-of-type {\n",
       "        vertical-align: middle;\n",
       "    }\n",
       "\n",
       "    .dataframe tbody tr th {\n",
       "        vertical-align: top;\n",
       "    }\n",
       "\n",
       "    .dataframe thead th {\n",
       "        text-align: right;\n",
       "    }\n",
       "</style>\n",
       "<table border=\"1\" class=\"dataframe\">\n",
       "  <thead>\n",
       "    <tr style=\"text-align: right;\">\n",
       "      <th></th>\n",
       "      <th>priceper</th>\n",
       "      <th>year</th>\n",
       "      <th>postcode</th>\n",
       "    </tr>\n",
       "  </thead>\n",
       "  <tbody>\n",
       "    <tr>\n",
       "      <th>0</th>\n",
       "      <td>3723.297872</td>\n",
       "      <td>2014</td>\n",
       "      <td>IG11 9PD</td>\n",
       "    </tr>\n",
       "    <tr>\n",
       "      <th>1</th>\n",
       "      <td>3635.294118</td>\n",
       "      <td>2017</td>\n",
       "      <td>RM10 9JR</td>\n",
       "    </tr>\n",
       "    <tr>\n",
       "      <th>2</th>\n",
       "      <td>1859.154930</td>\n",
       "      <td>2007</td>\n",
       "      <td>RM8 1TT</td>\n",
       "    </tr>\n",
       "    <tr>\n",
       "      <th>3</th>\n",
       "      <td>3131.313131</td>\n",
       "      <td>2016</td>\n",
       "      <td>RM10 7AS</td>\n",
       "    </tr>\n",
       "    <tr>\n",
       "      <th>4</th>\n",
       "      <td>1161.616162</td>\n",
       "      <td>2002</td>\n",
       "      <td>RM10 7AS</td>\n",
       "    </tr>\n",
       "  </tbody>\n",
       "</table>\n",
       "</div>"
      ],
      "text/plain": [
       "      priceper  year  postcode\n",
       "0  3723.297872  2014  IG11 9PD\n",
       "1  3635.294118  2017  RM10 9JR\n",
       "2  1859.154930  2007   RM8 1TT\n",
       "3  3131.313131  2016  RM10 7AS\n",
       "4  1161.616162  2002  RM10 7AS"
      ]
     },
     "execution_count": 16,
     "metadata": {},
     "output_type": "execute_result"
    }
   ],
   "source": [
    "hpsm1.head()"
   ]
  },
  {
   "cell_type": "code",
   "execution_count": 17,
   "id": "e0dec360-77b4-42c2-a652-6b81a5161a6a",
   "metadata": {},
   "outputs": [],
   "source": [
    "# Selecting just the transactions of 2021\n",
    "\n",
    "hpsm2 = hpsm1[hpsm1.year == 2021]"
   ]
  },
  {
   "cell_type": "code",
   "execution_count": 18,
   "id": "be4e9fa0-aafa-4567-9bdb-27a22fb194c7",
   "metadata": {},
   "outputs": [
    {
     "data": {
      "text/html": [
       "<div>\n",
       "<style scoped>\n",
       "    .dataframe tbody tr th:only-of-type {\n",
       "        vertical-align: middle;\n",
       "    }\n",
       "\n",
       "    .dataframe tbody tr th {\n",
       "        vertical-align: top;\n",
       "    }\n",
       "\n",
       "    .dataframe thead th {\n",
       "        text-align: right;\n",
       "    }\n",
       "</style>\n",
       "<table border=\"1\" class=\"dataframe\">\n",
       "  <thead>\n",
       "    <tr style=\"text-align: right;\">\n",
       "      <th></th>\n",
       "      <th>priceper</th>\n",
       "      <th>year</th>\n",
       "      <th>postcode</th>\n",
       "    </tr>\n",
       "  </thead>\n",
       "  <tbody>\n",
       "    <tr>\n",
       "      <th>33</th>\n",
       "      <td>5729.166667</td>\n",
       "      <td>2021</td>\n",
       "      <td>IG11 9PD</td>\n",
       "    </tr>\n",
       "    <tr>\n",
       "      <th>74</th>\n",
       "      <td>3566.176471</td>\n",
       "      <td>2021</td>\n",
       "      <td>IG11 0XW</td>\n",
       "    </tr>\n",
       "    <tr>\n",
       "      <th>150</th>\n",
       "      <td>5031.746032</td>\n",
       "      <td>2021</td>\n",
       "      <td>RM9 5BE</td>\n",
       "    </tr>\n",
       "    <tr>\n",
       "      <th>190</th>\n",
       "      <td>4926.470588</td>\n",
       "      <td>2021</td>\n",
       "      <td>RM9 4EH</td>\n",
       "    </tr>\n",
       "    <tr>\n",
       "      <th>246</th>\n",
       "      <td>5015.197568</td>\n",
       "      <td>2021</td>\n",
       "      <td>IG11 0XW</td>\n",
       "    </tr>\n",
       "  </tbody>\n",
       "</table>\n",
       "</div>"
      ],
      "text/plain": [
       "        priceper  year  postcode\n",
       "33   5729.166667  2021  IG11 9PD\n",
       "74   3566.176471  2021  IG11 0XW\n",
       "150  5031.746032  2021   RM9 5BE\n",
       "190  4926.470588  2021   RM9 4EH\n",
       "246  5015.197568  2021  IG11 0XW"
      ]
     },
     "execution_count": 18,
     "metadata": {},
     "output_type": "execute_result"
    }
   ],
   "source": [
    "hpsm2.head()"
   ]
  },
  {
   "cell_type": "code",
   "execution_count": 19,
   "id": "c54a7eb6-cb07-4e06-abe2-37d5ef7a09d7",
   "metadata": {},
   "outputs": [
    {
     "data": {
      "text/plain": [
       "(105600, 3)"
      ]
     },
     "execution_count": 19,
     "metadata": {},
     "output_type": "execute_result"
    }
   ],
   "source": [
    "hpsm2.shape"
   ]
  },
  {
   "cell_type": "code",
   "execution_count": 20,
   "id": "a46f4ee5-a1f7-48c8-bd22-56eee699a247",
   "metadata": {},
   "outputs": [
    {
     "name": "stderr",
     "output_type": "stream",
     "text": [
      "C:\\anaconda\\envs\\ACV01\\Lib\\site-packages\\pandas\\core\\nanops.py:1016: RuntimeWarning: invalid value encountered in subtract\n",
      "  sqr = _ensure_numeric((avg - values) ** 2)\n"
     ]
    },
    {
     "data": {
      "text/html": [
       "<div>\n",
       "<style scoped>\n",
       "    .dataframe tbody tr th:only-of-type {\n",
       "        vertical-align: middle;\n",
       "    }\n",
       "\n",
       "    .dataframe tbody tr th {\n",
       "        vertical-align: top;\n",
       "    }\n",
       "\n",
       "    .dataframe thead th {\n",
       "        text-align: right;\n",
       "    }\n",
       "</style>\n",
       "<table border=\"1\" class=\"dataframe\">\n",
       "  <thead>\n",
       "    <tr style=\"text-align: right;\">\n",
       "      <th></th>\n",
       "      <th>priceper</th>\n",
       "      <th>year</th>\n",
       "    </tr>\n",
       "  </thead>\n",
       "  <tbody>\n",
       "    <tr>\n",
       "      <th>count</th>\n",
       "      <td>1.056000e+05</td>\n",
       "      <td>105600.0</td>\n",
       "    </tr>\n",
       "    <tr>\n",
       "      <th>mean</th>\n",
       "      <td>inf</td>\n",
       "      <td>2021.0</td>\n",
       "    </tr>\n",
       "    <tr>\n",
       "      <th>std</th>\n",
       "      <td>NaN</td>\n",
       "      <td>0.0</td>\n",
       "    </tr>\n",
       "    <tr>\n",
       "      <th>min</th>\n",
       "      <td>2.805300e+02</td>\n",
       "      <td>2021.0</td>\n",
       "    </tr>\n",
       "    <tr>\n",
       "      <th>25%</th>\n",
       "      <td>5.126050e+03</td>\n",
       "      <td>2021.0</td>\n",
       "    </tr>\n",
       "    <tr>\n",
       "      <th>50%</th>\n",
       "      <td>6.384615e+03</td>\n",
       "      <td>2021.0</td>\n",
       "    </tr>\n",
       "    <tr>\n",
       "      <th>75%</th>\n",
       "      <td>8.222222e+03</td>\n",
       "      <td>2021.0</td>\n",
       "    </tr>\n",
       "    <tr>\n",
       "      <th>max</th>\n",
       "      <td>inf</td>\n",
       "      <td>2021.0</td>\n",
       "    </tr>\n",
       "  </tbody>\n",
       "</table>\n",
       "</div>"
      ],
      "text/plain": [
       "           priceper      year\n",
       "count  1.056000e+05  105600.0\n",
       "mean            inf    2021.0\n",
       "std             NaN       0.0\n",
       "min    2.805300e+02    2021.0\n",
       "25%    5.126050e+03    2021.0\n",
       "50%    6.384615e+03    2021.0\n",
       "75%    8.222222e+03    2021.0\n",
       "max             inf    2021.0"
      ]
     },
     "execution_count": 20,
     "metadata": {},
     "output_type": "execute_result"
    }
   ],
   "source": [
    "hpsm2.describe()"
   ]
  },
  {
   "cell_type": "code",
   "execution_count": 21,
   "id": "5b60f12e-36d4-4da0-bf7d-d4f43346492c",
   "metadata": {},
   "outputs": [],
   "source": [
    "inf_row = hpsm2[np.isinf(hpsm2['priceper'])]"
   ]
  },
  {
   "cell_type": "code",
   "execution_count": 22,
   "id": "6c5a4fe5-cf75-492e-b1e4-6cb303b95f09",
   "metadata": {},
   "outputs": [
    {
     "data": {
      "text/plain": [
       "(38, 3)"
      ]
     },
     "execution_count": 22,
     "metadata": {},
     "output_type": "execute_result"
    }
   ],
   "source": [
    "inf_row.shape"
   ]
  },
  {
   "cell_type": "code",
   "execution_count": 23,
   "id": "90fe349c-62f8-4d42-a7d9-dc55ddcc8695",
   "metadata": {},
   "outputs": [
    {
     "name": "stderr",
     "output_type": "stream",
     "text": [
      "C:\\Users\\Ana Cuba\\AppData\\Local\\Temp\\ipykernel_8208\\3620132768.py:4: SettingWithCopyWarning: \n",
      "A value is trying to be set on a copy of a slice from a DataFrame\n",
      "\n",
      "See the caveats in the documentation: https://pandas.pydata.org/pandas-docs/stable/user_guide/indexing.html#returning-a-view-versus-a-copy\n",
      "  hpsm2.replace([np.inf, -np.inf], np.nan, inplace=True)\n"
     ]
    }
   ],
   "source": [
    "# drop 38 rows with infinite price value, from 105,600 rows, it is 0.03%\n",
    "# first replace with nan\n",
    "\n",
    "hpsm2.replace([np.inf, -np.inf], np.nan, inplace=True) "
   ]
  },
  {
   "cell_type": "code",
   "execution_count": 24,
   "id": "2acb3458-570c-445c-8054-df086d29e6dc",
   "metadata": {},
   "outputs": [
    {
     "name": "stderr",
     "output_type": "stream",
     "text": [
      "C:\\Users\\Ana Cuba\\AppData\\Local\\Temp\\ipykernel_8208\\3731133809.py:3: SettingWithCopyWarning: \n",
      "A value is trying to be set on a copy of a slice from a DataFrame\n",
      "\n",
      "See the caveats in the documentation: https://pandas.pydata.org/pandas-docs/stable/user_guide/indexing.html#returning-a-view-versus-a-copy\n",
      "  hpsm2.dropna(inplace=True)\n"
     ]
    }
   ],
   "source": [
    "# then dropping all the rows with nan values \n",
    "\n",
    "hpsm2.dropna(inplace=True)"
   ]
  },
  {
   "cell_type": "markdown",
   "id": "691ad48c-c3ba-41e6-b3dd-8741c2eb1c1e",
   "metadata": {},
   "source": [
    "## Postcode lookup"
   ]
  },
  {
   "cell_type": "code",
   "execution_count": 25,
   "id": "e0fdbc10-5aea-4fdf-ba52-a4a649375bed",
   "metadata": {},
   "outputs": [
    {
     "name": "stderr",
     "output_type": "stream",
     "text": [
      "C:\\Users\\Ana Cuba\\AppData\\Local\\Temp\\ipykernel_8208\\318503957.py:1: DtypeWarning: Columns (13) have mixed types. Specify dtype option on import or set low_memory=False.\n",
      "  pcd = pd.read_csv('PCD_OA21_LSOA21_MSOA21_LAD_AUG23_UK_LU.csv', encoding='iso8859-1')\n"
     ]
    }
   ],
   "source": [
    "pcd = pd.read_csv('PCD_OA21_LSOA21_MSOA21_LAD_AUG23_UK_LU.csv', encoding='iso8859-1')\n",
    "\n",
    "# guessing the encoding type: trial and error"
   ]
  },
  {
   "cell_type": "code",
   "execution_count": 26,
   "id": "18ed153f-5fd4-46b1-99e6-b60517e2a547",
   "metadata": {},
   "outputs": [
    {
     "data": {
      "text/html": [
       "<div>\n",
       "<style scoped>\n",
       "    .dataframe tbody tr th:only-of-type {\n",
       "        vertical-align: middle;\n",
       "    }\n",
       "\n",
       "    .dataframe tbody tr th {\n",
       "        vertical-align: top;\n",
       "    }\n",
       "\n",
       "    .dataframe thead th {\n",
       "        text-align: right;\n",
       "    }\n",
       "</style>\n",
       "<table border=\"1\" class=\"dataframe\">\n",
       "  <thead>\n",
       "    <tr style=\"text-align: right;\">\n",
       "      <th></th>\n",
       "      <th>pcd7</th>\n",
       "      <th>pcd8</th>\n",
       "      <th>pcds</th>\n",
       "      <th>dointr</th>\n",
       "      <th>doterm</th>\n",
       "      <th>usertype</th>\n",
       "      <th>oa21cd</th>\n",
       "      <th>lsoa21cd</th>\n",
       "      <th>msoa21cd</th>\n",
       "      <th>ladcd</th>\n",
       "      <th>lsoa21nm</th>\n",
       "      <th>msoa21nm</th>\n",
       "      <th>ladnm</th>\n",
       "      <th>ladnmw</th>\n",
       "    </tr>\n",
       "  </thead>\n",
       "  <tbody>\n",
       "    <tr>\n",
       "      <th>0</th>\n",
       "      <td>AB1 0AA</td>\n",
       "      <td>AB1  0AA</td>\n",
       "      <td>AB1 0AA</td>\n",
       "      <td>198001</td>\n",
       "      <td>199606.0</td>\n",
       "      <td>0</td>\n",
       "      <td>S00090303</td>\n",
       "      <td>S01006514</td>\n",
       "      <td>S02001237</td>\n",
       "      <td>S12000033</td>\n",
       "      <td>NaN</td>\n",
       "      <td>NaN</td>\n",
       "      <td>Aberdeen City</td>\n",
       "      <td>NaN</td>\n",
       "    </tr>\n",
       "    <tr>\n",
       "      <th>1</th>\n",
       "      <td>AB1 0AB</td>\n",
       "      <td>AB1  0AB</td>\n",
       "      <td>AB1 0AB</td>\n",
       "      <td>198001</td>\n",
       "      <td>199606.0</td>\n",
       "      <td>0</td>\n",
       "      <td>S00090303</td>\n",
       "      <td>S01006514</td>\n",
       "      <td>S02001237</td>\n",
       "      <td>S12000033</td>\n",
       "      <td>NaN</td>\n",
       "      <td>NaN</td>\n",
       "      <td>Aberdeen City</td>\n",
       "      <td>NaN</td>\n",
       "    </tr>\n",
       "    <tr>\n",
       "      <th>2</th>\n",
       "      <td>AB1 0AD</td>\n",
       "      <td>AB1  0AD</td>\n",
       "      <td>AB1 0AD</td>\n",
       "      <td>198001</td>\n",
       "      <td>199606.0</td>\n",
       "      <td>0</td>\n",
       "      <td>S00090399</td>\n",
       "      <td>S01006514</td>\n",
       "      <td>S02001237</td>\n",
       "      <td>S12000033</td>\n",
       "      <td>NaN</td>\n",
       "      <td>NaN</td>\n",
       "      <td>Aberdeen City</td>\n",
       "      <td>NaN</td>\n",
       "    </tr>\n",
       "    <tr>\n",
       "      <th>3</th>\n",
       "      <td>AB1 0AE</td>\n",
       "      <td>AB1  0AE</td>\n",
       "      <td>AB1 0AE</td>\n",
       "      <td>199402</td>\n",
       "      <td>199606.0</td>\n",
       "      <td>0</td>\n",
       "      <td>S00091322</td>\n",
       "      <td>S01006853</td>\n",
       "      <td>S02001296</td>\n",
       "      <td>S12000034</td>\n",
       "      <td>NaN</td>\n",
       "      <td>NaN</td>\n",
       "      <td>Aberdeenshire</td>\n",
       "      <td>NaN</td>\n",
       "    </tr>\n",
       "    <tr>\n",
       "      <th>4</th>\n",
       "      <td>AB1 0AF</td>\n",
       "      <td>AB1  0AF</td>\n",
       "      <td>AB1 0AF</td>\n",
       "      <td>199012</td>\n",
       "      <td>199207.0</td>\n",
       "      <td>1</td>\n",
       "      <td>S00090299</td>\n",
       "      <td>S01006511</td>\n",
       "      <td>S02001236</td>\n",
       "      <td>S12000033</td>\n",
       "      <td>NaN</td>\n",
       "      <td>NaN</td>\n",
       "      <td>Aberdeen City</td>\n",
       "      <td>NaN</td>\n",
       "    </tr>\n",
       "  </tbody>\n",
       "</table>\n",
       "</div>"
      ],
      "text/plain": [
       "      pcd7      pcd8     pcds  dointr    doterm  usertype     oa21cd  \\\n",
       "0  AB1 0AA  AB1  0AA  AB1 0AA  198001  199606.0         0  S00090303   \n",
       "1  AB1 0AB  AB1  0AB  AB1 0AB  198001  199606.0         0  S00090303   \n",
       "2  AB1 0AD  AB1  0AD  AB1 0AD  198001  199606.0         0  S00090399   \n",
       "3  AB1 0AE  AB1  0AE  AB1 0AE  199402  199606.0         0  S00091322   \n",
       "4  AB1 0AF  AB1  0AF  AB1 0AF  199012  199207.0         1  S00090299   \n",
       "\n",
       "    lsoa21cd   msoa21cd      ladcd lsoa21nm msoa21nm          ladnm ladnmw  \n",
       "0  S01006514  S02001237  S12000033      NaN      NaN  Aberdeen City    NaN  \n",
       "1  S01006514  S02001237  S12000033      NaN      NaN  Aberdeen City    NaN  \n",
       "2  S01006514  S02001237  S12000033      NaN      NaN  Aberdeen City    NaN  \n",
       "3  S01006853  S02001296  S12000034      NaN      NaN  Aberdeenshire    NaN  \n",
       "4  S01006511  S02001236  S12000033      NaN      NaN  Aberdeen City    NaN  "
      ]
     },
     "execution_count": 26,
     "metadata": {},
     "output_type": "execute_result"
    }
   ],
   "source": [
    "pcd.head()"
   ]
  },
  {
   "cell_type": "code",
   "execution_count": 27,
   "id": "7ab4bfeb-6979-456f-9f59-950cdcc8f612",
   "metadata": {},
   "outputs": [
    {
     "data": {
      "text/plain": [
       "(2694205, 14)"
      ]
     },
     "execution_count": 27,
     "metadata": {},
     "output_type": "execute_result"
    }
   ],
   "source": [
    "pcd.shape"
   ]
  },
  {
   "cell_type": "code",
   "execution_count": 28,
   "id": "8964b7b3-c32f-47ea-8c11-49af3431a2fb",
   "metadata": {},
   "outputs": [],
   "source": [
    "# Selecting columns we need\n",
    "\n",
    "pcds = pcd[['pcds', 'msoa21cd', 'ladnm']]"
   ]
  },
  {
   "cell_type": "code",
   "execution_count": 29,
   "id": "c80fa40e-8df6-44e0-8d75-43b679e2c29d",
   "metadata": {},
   "outputs": [
    {
     "data": {
      "text/html": [
       "<div>\n",
       "<style scoped>\n",
       "    .dataframe tbody tr th:only-of-type {\n",
       "        vertical-align: middle;\n",
       "    }\n",
       "\n",
       "    .dataframe tbody tr th {\n",
       "        vertical-align: top;\n",
       "    }\n",
       "\n",
       "    .dataframe thead th {\n",
       "        text-align: right;\n",
       "    }\n",
       "</style>\n",
       "<table border=\"1\" class=\"dataframe\">\n",
       "  <thead>\n",
       "    <tr style=\"text-align: right;\">\n",
       "      <th></th>\n",
       "      <th>pcds</th>\n",
       "      <th>msoa21cd</th>\n",
       "      <th>ladnm</th>\n",
       "    </tr>\n",
       "  </thead>\n",
       "  <tbody>\n",
       "    <tr>\n",
       "      <th>0</th>\n",
       "      <td>AB1 0AA</td>\n",
       "      <td>S02001237</td>\n",
       "      <td>Aberdeen City</td>\n",
       "    </tr>\n",
       "    <tr>\n",
       "      <th>1</th>\n",
       "      <td>AB1 0AB</td>\n",
       "      <td>S02001237</td>\n",
       "      <td>Aberdeen City</td>\n",
       "    </tr>\n",
       "    <tr>\n",
       "      <th>2</th>\n",
       "      <td>AB1 0AD</td>\n",
       "      <td>S02001237</td>\n",
       "      <td>Aberdeen City</td>\n",
       "    </tr>\n",
       "    <tr>\n",
       "      <th>3</th>\n",
       "      <td>AB1 0AE</td>\n",
       "      <td>S02001296</td>\n",
       "      <td>Aberdeenshire</td>\n",
       "    </tr>\n",
       "    <tr>\n",
       "      <th>4</th>\n",
       "      <td>AB1 0AF</td>\n",
       "      <td>S02001236</td>\n",
       "      <td>Aberdeen City</td>\n",
       "    </tr>\n",
       "  </tbody>\n",
       "</table>\n",
       "</div>"
      ],
      "text/plain": [
       "      pcds   msoa21cd          ladnm\n",
       "0  AB1 0AA  S02001237  Aberdeen City\n",
       "1  AB1 0AB  S02001237  Aberdeen City\n",
       "2  AB1 0AD  S02001237  Aberdeen City\n",
       "3  AB1 0AE  S02001296  Aberdeenshire\n",
       "4  AB1 0AF  S02001236  Aberdeen City"
      ]
     },
     "execution_count": 29,
     "metadata": {},
     "output_type": "execute_result"
    }
   ],
   "source": [
    "pcds.head()"
   ]
  },
  {
   "cell_type": "code",
   "execution_count": 30,
   "id": "bfaff322-a538-400b-a61f-d289c2ee226e",
   "metadata": {},
   "outputs": [],
   "source": [
    "# Load list of London local authorities names\n",
    "\n",
    "lanms = pd.read_csv('local-authorities-names.csv')"
   ]
  },
  {
   "cell_type": "code",
   "execution_count": 31,
   "id": "60f7bda1-6718-4cae-b639-c13f6ba53c7d",
   "metadata": {},
   "outputs": [
    {
     "data": {
      "text/html": [
       "<div>\n",
       "<style scoped>\n",
       "    .dataframe tbody tr th:only-of-type {\n",
       "        vertical-align: middle;\n",
       "    }\n",
       "\n",
       "    .dataframe tbody tr th {\n",
       "        vertical-align: top;\n",
       "    }\n",
       "\n",
       "    .dataframe thead th {\n",
       "        text-align: right;\n",
       "    }\n",
       "</style>\n",
       "<table border=\"1\" class=\"dataframe\">\n",
       "  <thead>\n",
       "    <tr style=\"text-align: right;\">\n",
       "      <th></th>\n",
       "      <th>ladnm</th>\n",
       "    </tr>\n",
       "  </thead>\n",
       "  <tbody>\n",
       "    <tr>\n",
       "      <th>0</th>\n",
       "      <td>Barking and Dagenham</td>\n",
       "    </tr>\n",
       "    <tr>\n",
       "      <th>1</th>\n",
       "      <td>Barnet</td>\n",
       "    </tr>\n",
       "    <tr>\n",
       "      <th>2</th>\n",
       "      <td>Bexley</td>\n",
       "    </tr>\n",
       "    <tr>\n",
       "      <th>3</th>\n",
       "      <td>Brent</td>\n",
       "    </tr>\n",
       "    <tr>\n",
       "      <th>4</th>\n",
       "      <td>Bromley</td>\n",
       "    </tr>\n",
       "    <tr>\n",
       "      <th>5</th>\n",
       "      <td>Camden</td>\n",
       "    </tr>\n",
       "    <tr>\n",
       "      <th>6</th>\n",
       "      <td>City of London</td>\n",
       "    </tr>\n",
       "    <tr>\n",
       "      <th>7</th>\n",
       "      <td>Croydon</td>\n",
       "    </tr>\n",
       "    <tr>\n",
       "      <th>8</th>\n",
       "      <td>Ealing</td>\n",
       "    </tr>\n",
       "    <tr>\n",
       "      <th>9</th>\n",
       "      <td>Enfield</td>\n",
       "    </tr>\n",
       "    <tr>\n",
       "      <th>10</th>\n",
       "      <td>Greenwich</td>\n",
       "    </tr>\n",
       "    <tr>\n",
       "      <th>11</th>\n",
       "      <td>Hackney</td>\n",
       "    </tr>\n",
       "    <tr>\n",
       "      <th>12</th>\n",
       "      <td>Hammersmith and Fulham</td>\n",
       "    </tr>\n",
       "    <tr>\n",
       "      <th>13</th>\n",
       "      <td>Haringey</td>\n",
       "    </tr>\n",
       "    <tr>\n",
       "      <th>14</th>\n",
       "      <td>Harrow</td>\n",
       "    </tr>\n",
       "    <tr>\n",
       "      <th>15</th>\n",
       "      <td>Havering</td>\n",
       "    </tr>\n",
       "    <tr>\n",
       "      <th>16</th>\n",
       "      <td>Hillingdon</td>\n",
       "    </tr>\n",
       "    <tr>\n",
       "      <th>17</th>\n",
       "      <td>Hounslow</td>\n",
       "    </tr>\n",
       "    <tr>\n",
       "      <th>18</th>\n",
       "      <td>Islington</td>\n",
       "    </tr>\n",
       "    <tr>\n",
       "      <th>19</th>\n",
       "      <td>Kensington and Chelsea</td>\n",
       "    </tr>\n",
       "    <tr>\n",
       "      <th>20</th>\n",
       "      <td>Kingston upon Thames</td>\n",
       "    </tr>\n",
       "    <tr>\n",
       "      <th>21</th>\n",
       "      <td>Lambeth</td>\n",
       "    </tr>\n",
       "    <tr>\n",
       "      <th>22</th>\n",
       "      <td>Lewisham</td>\n",
       "    </tr>\n",
       "    <tr>\n",
       "      <th>23</th>\n",
       "      <td>Merton</td>\n",
       "    </tr>\n",
       "    <tr>\n",
       "      <th>24</th>\n",
       "      <td>Newham</td>\n",
       "    </tr>\n",
       "    <tr>\n",
       "      <th>25</th>\n",
       "      <td>Redbridge</td>\n",
       "    </tr>\n",
       "    <tr>\n",
       "      <th>26</th>\n",
       "      <td>Richmond upon Thames</td>\n",
       "    </tr>\n",
       "    <tr>\n",
       "      <th>27</th>\n",
       "      <td>Southwark</td>\n",
       "    </tr>\n",
       "    <tr>\n",
       "      <th>28</th>\n",
       "      <td>Sutton</td>\n",
       "    </tr>\n",
       "    <tr>\n",
       "      <th>29</th>\n",
       "      <td>Tower Hamlets</td>\n",
       "    </tr>\n",
       "    <tr>\n",
       "      <th>30</th>\n",
       "      <td>Waltham Forest</td>\n",
       "    </tr>\n",
       "    <tr>\n",
       "      <th>31</th>\n",
       "      <td>Wandsworth</td>\n",
       "    </tr>\n",
       "    <tr>\n",
       "      <th>32</th>\n",
       "      <td>Westminster</td>\n",
       "    </tr>\n",
       "  </tbody>\n",
       "</table>\n",
       "</div>"
      ],
      "text/plain": [
       "                     ladnm\n",
       "0     Barking and Dagenham\n",
       "1                   Barnet\n",
       "2                   Bexley\n",
       "3                    Brent\n",
       "4                  Bromley\n",
       "5                   Camden\n",
       "6           City of London\n",
       "7                  Croydon\n",
       "8                   Ealing\n",
       "9                  Enfield\n",
       "10               Greenwich\n",
       "11                 Hackney\n",
       "12  Hammersmith and Fulham\n",
       "13                Haringey\n",
       "14                  Harrow\n",
       "15                Havering\n",
       "16              Hillingdon\n",
       "17                Hounslow\n",
       "18               Islington\n",
       "19  Kensington and Chelsea\n",
       "20    Kingston upon Thames\n",
       "21                 Lambeth\n",
       "22                Lewisham\n",
       "23                  Merton\n",
       "24                  Newham\n",
       "25               Redbridge\n",
       "26    Richmond upon Thames\n",
       "27               Southwark\n",
       "28                  Sutton\n",
       "29           Tower Hamlets\n",
       "30          Waltham Forest\n",
       "31              Wandsworth\n",
       "32             Westminster"
      ]
     },
     "execution_count": 31,
     "metadata": {},
     "output_type": "execute_result"
    }
   ],
   "source": [
    "lanms"
   ]
  },
  {
   "cell_type": "code",
   "execution_count": 32,
   "id": "ac4cf311-8978-45ed-a9f4-0dff60cf2824",
   "metadata": {},
   "outputs": [],
   "source": [
    "# To filter only the postcodes in London\n",
    "\n",
    "pcdla = pcds.merge(lanms, on=[\"ladnm\"])"
   ]
  },
  {
   "cell_type": "code",
   "execution_count": 33,
   "id": "d4fb45a7-53f2-4ad9-bcf1-a69994b34641",
   "metadata": {},
   "outputs": [
    {
     "data": {
      "text/html": [
       "<div>\n",
       "<style scoped>\n",
       "    .dataframe tbody tr th:only-of-type {\n",
       "        vertical-align: middle;\n",
       "    }\n",
       "\n",
       "    .dataframe tbody tr th {\n",
       "        vertical-align: top;\n",
       "    }\n",
       "\n",
       "    .dataframe thead th {\n",
       "        text-align: right;\n",
       "    }\n",
       "</style>\n",
       "<table border=\"1\" class=\"dataframe\">\n",
       "  <thead>\n",
       "    <tr style=\"text-align: right;\">\n",
       "      <th></th>\n",
       "      <th>pcds</th>\n",
       "      <th>msoa21cd</th>\n",
       "      <th>ladnm</th>\n",
       "    </tr>\n",
       "  </thead>\n",
       "  <tbody>\n",
       "    <tr>\n",
       "      <th>0</th>\n",
       "      <td>BR1 1AA</td>\n",
       "      <td>E02000144</td>\n",
       "      <td>Bromley</td>\n",
       "    </tr>\n",
       "    <tr>\n",
       "      <th>1</th>\n",
       "      <td>BR1 1AB</td>\n",
       "      <td>E02000134</td>\n",
       "      <td>Bromley</td>\n",
       "    </tr>\n",
       "    <tr>\n",
       "      <th>2</th>\n",
       "      <td>BR1 1AD</td>\n",
       "      <td>E02000144</td>\n",
       "      <td>Bromley</td>\n",
       "    </tr>\n",
       "    <tr>\n",
       "      <th>3</th>\n",
       "      <td>BR1 1AE</td>\n",
       "      <td>E02000144</td>\n",
       "      <td>Bromley</td>\n",
       "    </tr>\n",
       "    <tr>\n",
       "      <th>4</th>\n",
       "      <td>BR1 1AF</td>\n",
       "      <td>E02000144</td>\n",
       "      <td>Bromley</td>\n",
       "    </tr>\n",
       "  </tbody>\n",
       "</table>\n",
       "</div>"
      ],
      "text/plain": [
       "      pcds   msoa21cd    ladnm\n",
       "0  BR1 1AA  E02000144  Bromley\n",
       "1  BR1 1AB  E02000134  Bromley\n",
       "2  BR1 1AD  E02000144  Bromley\n",
       "3  BR1 1AE  E02000144  Bromley\n",
       "4  BR1 1AF  E02000144  Bromley"
      ]
     },
     "execution_count": 33,
     "metadata": {},
     "output_type": "execute_result"
    }
   ],
   "source": [
    "pcdla.head()"
   ]
  },
  {
   "cell_type": "code",
   "execution_count": 34,
   "id": "f39eee41-fa64-4c0e-94e8-4dff4d36fa28",
   "metadata": {},
   "outputs": [
    {
     "name": "stdout",
     "output_type": "stream",
     "text": [
      "<class 'pandas.core.frame.DataFrame'>\n",
      "RangeIndex: 328803 entries, 0 to 328802\n",
      "Data columns (total 3 columns):\n",
      " #   Column    Non-Null Count   Dtype \n",
      "---  ------    --------------   ----- \n",
      " 0   pcds      328803 non-null  object\n",
      " 1   msoa21cd  328803 non-null  object\n",
      " 2   ladnm     328803 non-null  object\n",
      "dtypes: object(3)\n",
      "memory usage: 7.5+ MB\n"
     ]
    }
   ],
   "source": [
    "pcdla.info()"
   ]
  },
  {
   "cell_type": "code",
   "execution_count": 35,
   "id": "07c27066-2f00-46da-9085-24460f9247eb",
   "metadata": {},
   "outputs": [],
   "source": [
    "pcdla = pcdla.rename(columns = {'pcds':'postcode'})"
   ]
  },
  {
   "cell_type": "markdown",
   "id": "dc05d82e-9d8d-4da9-99f5-7ffee605b67d",
   "metadata": {},
   "source": [
    "## Adding MSOA code to HPSM "
   ]
  },
  {
   "cell_type": "code",
   "execution_count": 36,
   "id": "5e9fb96d-070e-462b-92c3-b31cc310792f",
   "metadata": {},
   "outputs": [],
   "source": [
    "hpsm3 = pcdla.merge(hpsm2, on=[\"postcode\"])"
   ]
  },
  {
   "cell_type": "code",
   "execution_count": 37,
   "id": "004f39e2-953a-4ef6-8a3e-81c7e12b1fd1",
   "metadata": {},
   "outputs": [
    {
     "data": {
      "text/html": [
       "<div>\n",
       "<style scoped>\n",
       "    .dataframe tbody tr th:only-of-type {\n",
       "        vertical-align: middle;\n",
       "    }\n",
       "\n",
       "    .dataframe tbody tr th {\n",
       "        vertical-align: top;\n",
       "    }\n",
       "\n",
       "    .dataframe thead th {\n",
       "        text-align: right;\n",
       "    }\n",
       "</style>\n",
       "<table border=\"1\" class=\"dataframe\">\n",
       "  <thead>\n",
       "    <tr style=\"text-align: right;\">\n",
       "      <th></th>\n",
       "      <th>postcode</th>\n",
       "      <th>msoa21cd</th>\n",
       "      <th>ladnm</th>\n",
       "      <th>priceper</th>\n",
       "      <th>year</th>\n",
       "    </tr>\n",
       "  </thead>\n",
       "  <tbody>\n",
       "    <tr>\n",
       "      <th>0</th>\n",
       "      <td>BR1 1AE</td>\n",
       "      <td>E02000144</td>\n",
       "      <td>Bromley</td>\n",
       "      <td>5714.285714</td>\n",
       "      <td>2021</td>\n",
       "    </tr>\n",
       "    <tr>\n",
       "      <th>1</th>\n",
       "      <td>BR1 1BQ</td>\n",
       "      <td>E02000144</td>\n",
       "      <td>Bromley</td>\n",
       "      <td>3671.875000</td>\n",
       "      <td>2021</td>\n",
       "    </tr>\n",
       "    <tr>\n",
       "      <th>2</th>\n",
       "      <td>BR1 1BQ</td>\n",
       "      <td>E02000144</td>\n",
       "      <td>Bromley</td>\n",
       "      <td>3617.021277</td>\n",
       "      <td>2021</td>\n",
       "    </tr>\n",
       "    <tr>\n",
       "      <th>3</th>\n",
       "      <td>BR1 1EG</td>\n",
       "      <td>E02000144</td>\n",
       "      <td>Bromley</td>\n",
       "      <td>9000.000000</td>\n",
       "      <td>2021</td>\n",
       "    </tr>\n",
       "    <tr>\n",
       "      <th>4</th>\n",
       "      <td>BR1 1EG</td>\n",
       "      <td>E02000144</td>\n",
       "      <td>Bromley</td>\n",
       "      <td>6775.362319</td>\n",
       "      <td>2021</td>\n",
       "    </tr>\n",
       "  </tbody>\n",
       "</table>\n",
       "</div>"
      ],
      "text/plain": [
       "  postcode   msoa21cd    ladnm     priceper  year\n",
       "0  BR1 1AE  E02000144  Bromley  5714.285714  2021\n",
       "1  BR1 1BQ  E02000144  Bromley  3671.875000  2021\n",
       "2  BR1 1BQ  E02000144  Bromley  3617.021277  2021\n",
       "3  BR1 1EG  E02000144  Bromley  9000.000000  2021\n",
       "4  BR1 1EG  E02000144  Bromley  6775.362319  2021"
      ]
     },
     "execution_count": 37,
     "metadata": {},
     "output_type": "execute_result"
    }
   ],
   "source": [
    "hpsm3.head()"
   ]
  },
  {
   "cell_type": "code",
   "execution_count": 38,
   "id": "001884ac-618f-45fa-af85-7617f83a83c1",
   "metadata": {},
   "outputs": [
    {
     "name": "stdout",
     "output_type": "stream",
     "text": [
      "<class 'pandas.core.frame.DataFrame'>\n",
      "RangeIndex: 105562 entries, 0 to 105561\n",
      "Data columns (total 5 columns):\n",
      " #   Column    Non-Null Count   Dtype  \n",
      "---  ------    --------------   -----  \n",
      " 0   postcode  105562 non-null  object \n",
      " 1   msoa21cd  105562 non-null  object \n",
      " 2   ladnm     105562 non-null  object \n",
      " 3   priceper  105562 non-null  float64\n",
      " 4   year      105562 non-null  int64  \n",
      "dtypes: float64(1), int64(1), object(3)\n",
      "memory usage: 4.0+ MB\n"
     ]
    }
   ],
   "source": [
    "hpsm3.info()"
   ]
  },
  {
   "cell_type": "code",
   "execution_count": 39,
   "id": "be574a91-e6b7-4b6b-9fb8-e4895bbb6b17",
   "metadata": {},
   "outputs": [
    {
     "data": {
      "text/html": [
       "<div>\n",
       "<style scoped>\n",
       "    .dataframe tbody tr th:only-of-type {\n",
       "        vertical-align: middle;\n",
       "    }\n",
       "\n",
       "    .dataframe tbody tr th {\n",
       "        vertical-align: top;\n",
       "    }\n",
       "\n",
       "    .dataframe thead th {\n",
       "        text-align: right;\n",
       "    }\n",
       "</style>\n",
       "<table border=\"1\" class=\"dataframe\">\n",
       "  <thead>\n",
       "    <tr style=\"text-align: right;\">\n",
       "      <th></th>\n",
       "      <th>priceper</th>\n",
       "      <th>year</th>\n",
       "    </tr>\n",
       "  </thead>\n",
       "  <tbody>\n",
       "    <tr>\n",
       "      <th>count</th>\n",
       "      <td>105562.000000</td>\n",
       "      <td>105562.0</td>\n",
       "    </tr>\n",
       "    <tr>\n",
       "      <th>mean</th>\n",
       "      <td>7125.992715</td>\n",
       "      <td>2021.0</td>\n",
       "    </tr>\n",
       "    <tr>\n",
       "      <th>std</th>\n",
       "      <td>3502.744618</td>\n",
       "      <td>0.0</td>\n",
       "    </tr>\n",
       "    <tr>\n",
       "      <th>min</th>\n",
       "      <td>280.529954</td>\n",
       "      <td>2021.0</td>\n",
       "    </tr>\n",
       "    <tr>\n",
       "      <th>25%</th>\n",
       "      <td>5125.018828</td>\n",
       "      <td>2021.0</td>\n",
       "    </tr>\n",
       "    <tr>\n",
       "      <th>50%</th>\n",
       "      <td>6383.609740</td>\n",
       "      <td>2021.0</td>\n",
       "    </tr>\n",
       "    <tr>\n",
       "      <th>75%</th>\n",
       "      <td>8219.178082</td>\n",
       "      <td>2021.0</td>\n",
       "    </tr>\n",
       "    <tr>\n",
       "      <th>max</th>\n",
       "      <td>282296.650718</td>\n",
       "      <td>2021.0</td>\n",
       "    </tr>\n",
       "  </tbody>\n",
       "</table>\n",
       "</div>"
      ],
      "text/plain": [
       "            priceper      year\n",
       "count  105562.000000  105562.0\n",
       "mean     7125.992715    2021.0\n",
       "std      3502.744618       0.0\n",
       "min       280.529954    2021.0\n",
       "25%      5125.018828    2021.0\n",
       "50%      6383.609740    2021.0\n",
       "75%      8219.178082    2021.0\n",
       "max    282296.650718    2021.0"
      ]
     },
     "execution_count": 39,
     "metadata": {},
     "output_type": "execute_result"
    }
   ],
   "source": [
    "hpsm3.describe()"
   ]
  },
  {
   "cell_type": "markdown",
   "id": "74973e71-bdb2-4d9b-915c-2fc447bf1761",
   "metadata": {},
   "source": [
    "## Average price (per squared metre) for MSOA"
   ]
  },
  {
   "cell_type": "code",
   "execution_count": 40,
   "id": "093dcada-69b0-497c-b180-c6e91230231a",
   "metadata": {},
   "outputs": [],
   "source": [
    "hpsm = hpsm3.groupby('msoa21cd')['priceper'].mean().reset_index(name= 'price')"
   ]
  },
  {
   "cell_type": "code",
   "execution_count": 41,
   "id": "c427eb65-1bdd-4132-bb27-1aed8e8e12de",
   "metadata": {},
   "outputs": [
    {
     "data": {
      "text/html": [
       "<div>\n",
       "<style scoped>\n",
       "    .dataframe tbody tr th:only-of-type {\n",
       "        vertical-align: middle;\n",
       "    }\n",
       "\n",
       "    .dataframe tbody tr th {\n",
       "        vertical-align: top;\n",
       "    }\n",
       "\n",
       "    .dataframe thead th {\n",
       "        text-align: right;\n",
       "    }\n",
       "</style>\n",
       "<table border=\"1\" class=\"dataframe\">\n",
       "  <thead>\n",
       "    <tr style=\"text-align: right;\">\n",
       "      <th></th>\n",
       "      <th>msoa21cd</th>\n",
       "      <th>price</th>\n",
       "    </tr>\n",
       "  </thead>\n",
       "  <tbody>\n",
       "    <tr>\n",
       "      <th>0</th>\n",
       "      <td>E02000001</td>\n",
       "      <td>12352.387268</td>\n",
       "    </tr>\n",
       "    <tr>\n",
       "      <th>1</th>\n",
       "      <td>E02000002</td>\n",
       "      <td>4365.344091</td>\n",
       "    </tr>\n",
       "    <tr>\n",
       "      <th>2</th>\n",
       "      <td>E02000003</td>\n",
       "      <td>4331.949819</td>\n",
       "    </tr>\n",
       "    <tr>\n",
       "      <th>3</th>\n",
       "      <td>E02000004</td>\n",
       "      <td>4696.123760</td>\n",
       "    </tr>\n",
       "    <tr>\n",
       "      <th>4</th>\n",
       "      <td>E02000005</td>\n",
       "      <td>4572.280104</td>\n",
       "    </tr>\n",
       "  </tbody>\n",
       "</table>\n",
       "</div>"
      ],
      "text/plain": [
       "    msoa21cd         price\n",
       "0  E02000001  12352.387268\n",
       "1  E02000002   4365.344091\n",
       "2  E02000003   4331.949819\n",
       "3  E02000004   4696.123760\n",
       "4  E02000005   4572.280104"
      ]
     },
     "execution_count": 41,
     "metadata": {},
     "output_type": "execute_result"
    }
   ],
   "source": [
    "hpsm.head()"
   ]
  },
  {
   "cell_type": "code",
   "execution_count": 42,
   "id": "6d289d66-e306-428f-8975-8eb297451ff3",
   "metadata": {},
   "outputs": [
    {
     "name": "stdout",
     "output_type": "stream",
     "text": [
      "<class 'pandas.core.frame.DataFrame'>\n",
      "RangeIndex: 1002 entries, 0 to 1001\n",
      "Data columns (total 2 columns):\n",
      " #   Column    Non-Null Count  Dtype  \n",
      "---  ------    --------------  -----  \n",
      " 0   msoa21cd  1002 non-null   object \n",
      " 1   price     1002 non-null   float64\n",
      "dtypes: float64(1), object(1)\n",
      "memory usage: 15.8+ KB\n"
     ]
    }
   ],
   "source": [
    "hpsm.info()"
   ]
  },
  {
   "cell_type": "code",
   "execution_count": 43,
   "id": "42e2c851-42d0-4e37-b5d1-70a86577a919",
   "metadata": {},
   "outputs": [],
   "source": [
    "# Exporting file\n",
    "\n",
    "# hpsm.to_csv('hpsm.csv', index=False)"
   ]
  },
  {
   "cell_type": "markdown",
   "id": "be12be93-3e61-45fc-a3a4-7da85bcbeb58",
   "metadata": {},
   "source": [
    "### Visualisations"
   ]
  },
  {
   "cell_type": "code",
   "execution_count": 44,
   "id": "8248443e-2bdd-4801-8276-a4ef99501991",
   "metadata": {},
   "outputs": [
    {
     "data": {
      "text/plain": [
       "<Axes: xlabel='price', ylabel='Count'>"
      ]
     },
     "execution_count": 44,
     "metadata": {},
     "output_type": "execute_result"
    },
    {
     "data": {
      "image/png": "[encoded data removed]",
      "text/plain": [
       "<Figure size 600x600 with 1 Axes>"
      ]
     },
     "metadata": {},
     "output_type": "display_data"
    }
   ],
   "source": [
    "fig, axes = plt.subplots(figsize=(6,6))\n",
    "sns.histplot(data=hpsm, x=\"price\")"
   ]
  },
  {
   "cell_type": "code",
   "execution_count": 45,
   "id": "964ac5ea-35b7-4052-aecb-3f73cc0ee338",
   "metadata": {},
   "outputs": [
    {
     "data": {
      "text/plain": [
       "<Axes: ylabel='price'>"
      ]
     },
     "execution_count": 45,
     "metadata": {},
     "output_type": "execute_result"
    },
    {
     "data": {
      "image/png": "[encoded data removed]",
      "text/plain": [
       "<Figure size 600x600 with 1 Axes>"
      ]
     },
     "metadata": {},
     "output_type": "display_data"
    }
   ],
   "source": [
    "fig, axes = plt.subplots(figsize=(6,6))\n",
    "sns.boxplot(data=hpsm, y=\"price\")"
   ]
  },
  {
   "cell_type": "markdown",
   "id": "18aa01b4-2b91-417a-a31d-f3b5cc1718a3",
   "metadata": {},
   "source": [
    "## Logarithm"
   ]
  },
  {
   "cell_type": "code",
   "execution_count": 46,
   "id": "fb16f66e-2988-453e-af2a-695ca7e9f527",
   "metadata": {},
   "outputs": [],
   "source": [
    "hpsm.loc[:,'Log10-price'] = np.log10(hpsm['price'])"
   ]
  },
  {
   "cell_type": "code",
   "execution_count": 47,
   "id": "768914aa-791b-4cf3-b5ff-6dfd3150140f",
   "metadata": {},
   "outputs": [
    {
     "data": {
      "text/html": [
       "<div>\n",
       "<style scoped>\n",
       "    .dataframe tbody tr th:only-of-type {\n",
       "        vertical-align: middle;\n",
       "    }\n",
       "\n",
       "    .dataframe tbody tr th {\n",
       "        vertical-align: top;\n",
       "    }\n",
       "\n",
       "    .dataframe thead th {\n",
       "        text-align: right;\n",
       "    }\n",
       "</style>\n",
       "<table border=\"1\" class=\"dataframe\">\n",
       "  <thead>\n",
       "    <tr style=\"text-align: right;\">\n",
       "      <th></th>\n",
       "      <th>msoa21cd</th>\n",
       "      <th>price</th>\n",
       "      <th>Log10-price</th>\n",
       "    </tr>\n",
       "  </thead>\n",
       "  <tbody>\n",
       "    <tr>\n",
       "      <th>0</th>\n",
       "      <td>E02000001</td>\n",
       "      <td>12352.387268</td>\n",
       "      <td>4.091751</td>\n",
       "    </tr>\n",
       "    <tr>\n",
       "      <th>1</th>\n",
       "      <td>E02000002</td>\n",
       "      <td>4365.344091</td>\n",
       "      <td>3.640018</td>\n",
       "    </tr>\n",
       "    <tr>\n",
       "      <th>2</th>\n",
       "      <td>E02000003</td>\n",
       "      <td>4331.949819</td>\n",
       "      <td>3.636683</td>\n",
       "    </tr>\n",
       "    <tr>\n",
       "      <th>3</th>\n",
       "      <td>E02000004</td>\n",
       "      <td>4696.123760</td>\n",
       "      <td>3.671740</td>\n",
       "    </tr>\n",
       "    <tr>\n",
       "      <th>4</th>\n",
       "      <td>E02000005</td>\n",
       "      <td>4572.280104</td>\n",
       "      <td>3.660133</td>\n",
       "    </tr>\n",
       "  </tbody>\n",
       "</table>\n",
       "</div>"
      ],
      "text/plain": [
       "    msoa21cd         price  Log10-price\n",
       "0  E02000001  12352.387268     4.091751\n",
       "1  E02000002   4365.344091     3.640018\n",
       "2  E02000003   4331.949819     3.636683\n",
       "3  E02000004   4696.123760     3.671740\n",
       "4  E02000005   4572.280104     3.660133"
      ]
     },
     "execution_count": 47,
     "metadata": {},
     "output_type": "execute_result"
    }
   ],
   "source": [
    "hpsm.head()"
   ]
  },
  {
   "cell_type": "code",
   "execution_count": 48,
   "id": "443e4cbc-111b-48b6-91e6-5fa4d39fc8f3",
   "metadata": {},
   "outputs": [
    {
     "name": "stdout",
     "output_type": "stream",
     "text": [
      "<class 'pandas.core.frame.DataFrame'>\n",
      "RangeIndex: 1002 entries, 0 to 1001\n",
      "Data columns (total 3 columns):\n",
      " #   Column       Non-Null Count  Dtype  \n",
      "---  ------       --------------  -----  \n",
      " 0   msoa21cd     1002 non-null   object \n",
      " 1   price        1002 non-null   float64\n",
      " 2   Log10-price  1002 non-null   float64\n",
      "dtypes: float64(2), object(1)\n",
      "memory usage: 23.6+ KB\n"
     ]
    }
   ],
   "source": [
    "hpsm.info()"
   ]
  },
  {
   "cell_type": "code",
   "execution_count": 49,
   "id": "6e96e256-b454-4a2b-8843-c3ccb3979382",
   "metadata": {},
   "outputs": [
    {
     "data": {
      "text/html": [
       "<div>\n",
       "<style scoped>\n",
       "    .dataframe tbody tr th:only-of-type {\n",
       "        vertical-align: middle;\n",
       "    }\n",
       "\n",
       "    .dataframe tbody tr th {\n",
       "        vertical-align: top;\n",
       "    }\n",
       "\n",
       "    .dataframe thead th {\n",
       "        text-align: right;\n",
       "    }\n",
       "</style>\n",
       "<table border=\"1\" class=\"dataframe\">\n",
       "  <thead>\n",
       "    <tr style=\"text-align: right;\">\n",
       "      <th></th>\n",
       "      <th>price</th>\n",
       "      <th>Log10-price</th>\n",
       "    </tr>\n",
       "  </thead>\n",
       "  <tbody>\n",
       "    <tr>\n",
       "      <th>count</th>\n",
       "      <td>1002.000000</td>\n",
       "      <td>1002.000000</td>\n",
       "    </tr>\n",
       "    <tr>\n",
       "      <th>mean</th>\n",
       "      <td>7011.301143</td>\n",
       "      <td>3.822779</td>\n",
       "    </tr>\n",
       "    <tr>\n",
       "      <th>std</th>\n",
       "      <td>2601.252755</td>\n",
       "      <td>0.134446</td>\n",
       "    </tr>\n",
       "    <tr>\n",
       "      <th>min</th>\n",
       "      <td>3616.442747</td>\n",
       "      <td>3.558282</td>\n",
       "    </tr>\n",
       "    <tr>\n",
       "      <th>25%</th>\n",
       "      <td>5273.039806</td>\n",
       "      <td>3.722061</td>\n",
       "    </tr>\n",
       "    <tr>\n",
       "      <th>50%</th>\n",
       "      <td>6285.370771</td>\n",
       "      <td>3.798331</td>\n",
       "    </tr>\n",
       "    <tr>\n",
       "      <th>75%</th>\n",
       "      <td>8021.809242</td>\n",
       "      <td>3.904272</td>\n",
       "    </tr>\n",
       "    <tr>\n",
       "      <th>max</th>\n",
       "      <td>23373.726629</td>\n",
       "      <td>4.368728</td>\n",
       "    </tr>\n",
       "  </tbody>\n",
       "</table>\n",
       "</div>"
      ],
      "text/plain": [
       "              price  Log10-price\n",
       "count   1002.000000  1002.000000\n",
       "mean    7011.301143     3.822779\n",
       "std     2601.252755     0.134446\n",
       "min     3616.442747     3.558282\n",
       "25%     5273.039806     3.722061\n",
       "50%     6285.370771     3.798331\n",
       "75%     8021.809242     3.904272\n",
       "max    23373.726629     4.368728"
      ]
     },
     "execution_count": 49,
     "metadata": {},
     "output_type": "execute_result"
    }
   ],
   "source": [
    "hpsm.describe()"
   ]
  },
  {
   "cell_type": "code",
   "execution_count": 50,
   "id": "2baf978c-3d98-49e1-85ee-80b587cbd36b",
   "metadata": {},
   "outputs": [
    {
     "data": {
      "text/plain": [
       "<Axes: ylabel='Log10-price'>"
      ]
     },
     "execution_count": 50,
     "metadata": {},
     "output_type": "execute_result"
    },
    {
     "data": {
      "image/png": "[encoded data removed]",
      "text/plain": [
       "<Figure size 600x600 with 1 Axes>"
      ]
     },
     "metadata": {},
     "output_type": "display_data"
    }
   ],
   "source": [
    "fig, axes = plt.subplots(figsize=(6,6))\n",
    "sns.boxplot(data=hpsm, y=\"Log10-price\")"
   ]
  },
  {
   "cell_type": "code",
   "execution_count": 51,
   "id": "f35d7220-a9ef-4e9d-a189-a4821ed575a9",
   "metadata": {},
   "outputs": [
    {
     "data": {
      "text/plain": [
       "<Axes: xlabel='Log10-price', ylabel='Count'>"
      ]
     },
     "execution_count": 51,
     "metadata": {},
     "output_type": "execute_result"
    },
    {
     "data": {
      "image/png": "[encoded data removed]",
      "text/plain": [
       "<Figure size 600x600 with 1 Axes>"
      ]
     },
     "metadata": {},
     "output_type": "display_data"
    }
   ],
   "source": [
    "fig, axes = plt.subplots(figsize=(6,6))\n",
    "sns.histplot(data=hpsm, x='Log10-price')"
   ]
  },
  {
   "cell_type": "code",
   "execution_count": 52,
   "id": "9bfcd2f7-1e46-4333-8659-ee958bc6ce6a",
   "metadata": {},
   "outputs": [],
   "source": [
    "# Exporting file\n",
    "\n",
    "hpsm.to_csv('hpsm.csv', index=False)"
   ]
  },
  {
   "cell_type": "markdown",
   "id": "b5eda67a-4b91-4a0d-bbd7-cca1fb0360b3",
   "metadata": {},
   "source": [
    "## Natural logarithm"
   ]
  },
  {
   "cell_type": "code",
   "execution_count": 53,
   "id": "8c847435-4c23-42ac-8981-d4c468064f2c",
   "metadata": {},
   "outputs": [],
   "source": [
    "hpsm.loc[:,'Ln-price'] = np.log(hpsm['price'])"
   ]
  },
  {
   "cell_type": "code",
   "execution_count": 54,
   "id": "f8012528-f676-4afa-b6c2-9fdcae7a33a4",
   "metadata": {},
   "outputs": [
    {
     "data": {
      "text/html": [
       "<div>\n",
       "<style scoped>\n",
       "    .dataframe tbody tr th:only-of-type {\n",
       "        vertical-align: middle;\n",
       "    }\n",
       "\n",
       "    .dataframe tbody tr th {\n",
       "        vertical-align: top;\n",
       "    }\n",
       "\n",
       "    .dataframe thead th {\n",
       "        text-align: right;\n",
       "    }\n",
       "</style>\n",
       "<table border=\"1\" class=\"dataframe\">\n",
       "  <thead>\n",
       "    <tr style=\"text-align: right;\">\n",
       "      <th></th>\n",
       "      <th>msoa21cd</th>\n",
       "      <th>price</th>\n",
       "      <th>Log10-price</th>\n",
       "      <th>Ln-price</th>\n",
       "    </tr>\n",
       "  </thead>\n",
       "  <tbody>\n",
       "    <tr>\n",
       "      <th>0</th>\n",
       "      <td>E02000001</td>\n",
       "      <td>12352.387268</td>\n",
       "      <td>4.091751</td>\n",
       "      <td>9.421605</td>\n",
       "    </tr>\n",
       "    <tr>\n",
       "      <th>1</th>\n",
       "      <td>E02000002</td>\n",
       "      <td>4365.344091</td>\n",
       "      <td>3.640018</td>\n",
       "      <td>8.381452</td>\n",
       "    </tr>\n",
       "    <tr>\n",
       "      <th>2</th>\n",
       "      <td>E02000003</td>\n",
       "      <td>4331.949819</td>\n",
       "      <td>3.636683</td>\n",
       "      <td>8.373773</td>\n",
       "    </tr>\n",
       "    <tr>\n",
       "      <th>3</th>\n",
       "      <td>E02000004</td>\n",
       "      <td>4696.123760</td>\n",
       "      <td>3.671740</td>\n",
       "      <td>8.454493</td>\n",
       "    </tr>\n",
       "    <tr>\n",
       "      <th>4</th>\n",
       "      <td>E02000005</td>\n",
       "      <td>4572.280104</td>\n",
       "      <td>3.660133</td>\n",
       "      <td>8.427767</td>\n",
       "    </tr>\n",
       "  </tbody>\n",
       "</table>\n",
       "</div>"
      ],
      "text/plain": [
       "    msoa21cd         price  Log10-price  Ln-price\n",
       "0  E02000001  12352.387268     4.091751  9.421605\n",
       "1  E02000002   4365.344091     3.640018  8.381452\n",
       "2  E02000003   4331.949819     3.636683  8.373773\n",
       "3  E02000004   4696.123760     3.671740  8.454493\n",
       "4  E02000005   4572.280104     3.660133  8.427767"
      ]
     },
     "execution_count": 54,
     "metadata": {},
     "output_type": "execute_result"
    }
   ],
   "source": [
    "hpsm.head()"
   ]
  },
  {
   "cell_type": "code",
   "execution_count": 55,
   "id": "99c7081a-d936-4f8d-a0d2-24ece0f5ef36",
   "metadata": {},
   "outputs": [
    {
     "data": {
      "text/plain": [
       "<Axes: ylabel='Ln-price'>"
      ]
     },
     "execution_count": 55,
     "metadata": {},
     "output_type": "execute_result"
    },
    {
     "data": {
      "image/png": "[encoded data removed]",
      "text/plain": [
       "<Figure size 600x600 with 1 Axes>"
      ]
     },
     "metadata": {},
     "output_type": "display_data"
    }
   ],
   "source": [
    "fig, axes = plt.subplots(figsize=(6,6))\n",
    "sns.boxplot(data=hpsm, y=\"Ln-price\")"
   ]
  },
  {
   "cell_type": "code",
   "execution_count": 56,
   "id": "60bc80ec-59c6-4e93-83e8-56c9b33dc718",
   "metadata": {},
   "outputs": [
    {
     "data": {
      "text/plain": [
       "<Axes: xlabel='Ln-price', ylabel='Count'>"
      ]
     },
     "execution_count": 56,
     "metadata": {},
     "output_type": "execute_result"
    },
    {
     "data": {
      "image/png": "[encoded data removed]",
      "text/plain": [
       "<Figure size 600x600 with 1 Axes>"
      ]
     },
     "metadata": {},
     "output_type": "display_data"
    }
   ],
   "source": [
    "fig, axes = plt.subplots(figsize=(6,6))\n",
    "sns.histplot(data=hpsm, x='Ln-price')"
   ]
  },
  {
   "cell_type": "markdown",
   "id": "7d72f34c-985f-4dca-941b-e98d7e5309e6",
   "metadata": {},
   "source": [
    "Not using this."
   ]
  }
 ],
 "metadata": {
  "kernelspec": {
   "display_name": "Python 3 (ipykernel)",
   "language": "python",
   "name": "python3"
  },
  "language_info": {
   "codemirror_mode": {
    "name": "ipython",
    "version": 3
   },
   "file_extension": ".py",
   "mimetype": "text/x-python",
   "name": "python",
   "nbconvert_exporter": "python",
   "pygments_lexer": "ipython3",
   "version": "3.11.9"
  }
 },
 "nbformat": 4,
 "nbformat_minor": 5
}
